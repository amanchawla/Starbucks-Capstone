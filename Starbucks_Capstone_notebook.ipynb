{
 "cells": [
  {
   "cell_type": "markdown",
   "metadata": {},
   "source": [
    "# Starbucks Capstone Challenge\n",
    "\n",
    "### Introduction\n",
    "\n",
    "This data set contains simulated data that mimics customer behavior on the Starbucks rewards mobile app. Once every few days, Starbucks sends out an offer to users of the mobile app. An offer can be merely an advertisement for a drink or an actual offer such as a discount or BOGO (buy one get one free). Some users might not receive any offer during certain weeks. \n",
    "\n",
    "Not all users receive the same offer, and that is the challenge to solve with this data set.\n",
    "\n",
    "Your task is to combine transaction, demographic and offer data to determine which demographic groups respond best to which offer type. This data set is a simplified version of the real Starbucks app because the underlying simulator only has one product whereas Starbucks actually sells dozens of products.\n",
    "\n",
    "Every offer has a validity period before the offer expires. As an example, a BOGO offer might be valid for only 5 days. You'll see in the data set that informational offers have a validity period even though these ads are merely providing information about a product; for example, if an informational offer has 7 days of validity, you can assume the customer is feeling the influence of the offer for 7 days after receiving the advertisement.\n",
    "\n",
    "You'll be given transactional data showing user purchases made on the app including the timestamp of purchase and the amount of money spent on a purchase. This transactional data also has a record for each offer that a user receives as well as a record for when a user actually views the offer. There are also records for when a user completes an offer. \n",
    "\n",
    "Keep in mind as well that someone using the app might make a purchase through the app without having received an offer or seen an offer.\n",
    "\n",
    "### Example\n",
    "\n",
    "To give an example, a user could receive a discount offer buy 10 dollars get 2 off on Monday. The offer is valid for 10 days from receipt. If the customer accumulates at least 10 dollars in purchases during the validity period, the customer completes the offer.\n",
    "\n",
    "However, there are a few things to watch out for in this data set. Customers do not opt into the offers that they receive; in other words, a user can receive an offer, never actually view the offer, and still complete the offer. For example, a user might receive the \"buy 10 dollars get 2 dollars off offer\", but the user never opens the offer during the 10 day validity period. The customer spends 15 dollars during those ten days. There will be an offer completion record in the data set; however, the customer was not influenced by the offer because the customer never viewed the offer.\n",
    "\n",
    "### Cleaning\n",
    "\n",
    "This makes data cleaning especially important and tricky.\n",
    "\n",
    "You'll also want to take into account that some demographic groups will make purchases even if they don't receive an offer. From a business perspective, if a customer is going to make a 10 dollar purchase without an offer anyway, you wouldn't want to send a buy 10 dollars get 2 dollars off offer. You'll want to try to assess what a certain demographic group will buy when not receiving any offers.\n",
    "\n",
    "### Final Advice\n",
    "\n",
    "Because this is a capstone project, you are free to analyze the data any way you see fit. For example, you could build a machine learning model that predicts how much someone will spend based on demographics and offer type. Or you could build a model that predicts whether or not someone will respond to an offer. Or, you don't need to build a machine learning model at all. You could develop a set of heuristics that determine what offer you should send to each customer (i.e., 75 percent of women customers who were 35 years old responded to offer A vs 40 percent from the same demographic to offer B, so send offer A)."
   ]
  },
  {
   "cell_type": "markdown",
   "metadata": {},
   "source": [
    "# Data Sets\n",
    "\n",
    "The data is contained in three files:\n",
    "\n",
    "* portfolio.json - containing offer ids and meta data about each offer (duration, type, etc.)\n",
    "* profile.json - demographic data for each customer\n",
    "* transcript.json - records for transactions, offers received, offers viewed, and offers completed\n",
    "\n",
    "Here is the schema and explanation of each variable in the files:\n",
    "\n",
    "**portfolio.json**\n",
    "* id (string) - offer id\n",
    "* offer_type (string) - type of offer ie BOGO, discount, informational\n",
    "* difficulty (int) - minimum required spend to complete an offer\n",
    "* reward (int) - reward given for completing an offer\n",
    "* duration (int) - time for offer to be open, in days\n",
    "* channels (list of strings)\n",
    "\n",
    "**profile.json**\n",
    "* age (int) - age of the customer \n",
    "* became_member_on (int) - date when customer created an app account\n",
    "* gender (str) - gender of the customer (note some entries contain 'O' for other rather than M or F)\n",
    "* id (str) - customer id\n",
    "* income (float) - customer's income\n",
    "\n",
    "**transcript.json**\n",
    "* event (str) - record description (ie transaction, offer received, offer viewed, etc.)\n",
    "* person (str) - customer id\n",
    "* time (int) - time in hours since start of test. The data begins at time t=0\n",
    "* value - (dict of strings) - either an offer id or transaction amount depending on the record\n",
    "\n",
    "**Note:** If you are using the workspace, you will need to go to the terminal and run the command `conda update pandas` before reading in the files. This is because the version of pandas in the workspace cannot read in the transcript.json file correctly, but the newest version of pandas can. You can access the termnal from the orange icon in the top left of this notebook.  \n",
    "\n",
    "You can see how to access the terminal and how the install works using the two images below.  First you need to access the terminal:\n",
    "\n",
    "<img src=\"pic1.png\"/>\n",
    "\n",
    "Then you will want to run the above command:\n",
    "\n",
    "<img src=\"pic2.png\"/>\n",
    "\n",
    "Finally, when you enter back into the notebook (use the jupyter icon again), you should be able to run the below cell without any errors."
   ]
  },
  {
   "cell_type": "code",
   "execution_count": 1,
   "metadata": {},
   "outputs": [],
   "source": [
    "import pandas as pd\n",
    "import numpy as np\n",
    "import math\n",
    "import json\n",
    "import matplotlib.pyplot as plt\n",
    "% matplotlib inline\n",
    "\n",
    "# read in the json files\n",
    "portfolio = pd.read_json('data/portfolio.json', orient='records', lines=True)\n",
    "profile = pd.read_json('data/profile.json', orient='records', lines=True)\n",
    "transcript = pd.read_json('data/transcript.json', orient='records', lines=True)"
   ]
  },
  {
   "cell_type": "markdown",
   "metadata": {},
   "source": [
    "## Lets investigate and try to understand each dataset"
   ]
  },
  {
   "cell_type": "markdown",
   "metadata": {},
   "source": [
    "#### Dataset 1 - Portfolio"
   ]
  },
  {
   "cell_type": "code",
   "execution_count": 2,
   "metadata": {},
   "outputs": [
    {
     "data": {
      "text/html": [
       "<div>\n",
       "<style scoped>\n",
       "    .dataframe tbody tr th:only-of-type {\n",
       "        vertical-align: middle;\n",
       "    }\n",
       "\n",
       "    .dataframe tbody tr th {\n",
       "        vertical-align: top;\n",
       "    }\n",
       "\n",
       "    .dataframe thead th {\n",
       "        text-align: right;\n",
       "    }\n",
       "</style>\n",
       "<table border=\"1\" class=\"dataframe\">\n",
       "  <thead>\n",
       "    <tr style=\"text-align: right;\">\n",
       "      <th></th>\n",
       "      <th>channels</th>\n",
       "      <th>difficulty</th>\n",
       "      <th>duration</th>\n",
       "      <th>id</th>\n",
       "      <th>offer_type</th>\n",
       "      <th>reward</th>\n",
       "    </tr>\n",
       "  </thead>\n",
       "  <tbody>\n",
       "    <tr>\n",
       "      <th>0</th>\n",
       "      <td>[email, mobile, social]</td>\n",
       "      <td>10</td>\n",
       "      <td>7</td>\n",
       "      <td>ae264e3637204a6fb9bb56bc8210ddfd</td>\n",
       "      <td>bogo</td>\n",
       "      <td>10</td>\n",
       "    </tr>\n",
       "    <tr>\n",
       "      <th>1</th>\n",
       "      <td>[web, email, mobile, social]</td>\n",
       "      <td>10</td>\n",
       "      <td>5</td>\n",
       "      <td>4d5c57ea9a6940dd891ad53e9dbe8da0</td>\n",
       "      <td>bogo</td>\n",
       "      <td>10</td>\n",
       "    </tr>\n",
       "    <tr>\n",
       "      <th>3</th>\n",
       "      <td>[web, email, mobile]</td>\n",
       "      <td>5</td>\n",
       "      <td>7</td>\n",
       "      <td>9b98b8c7a33c4b65b9aebfe6a799e6d9</td>\n",
       "      <td>bogo</td>\n",
       "      <td>5</td>\n",
       "    </tr>\n",
       "    <tr>\n",
       "      <th>8</th>\n",
       "      <td>[web, email, mobile, social]</td>\n",
       "      <td>5</td>\n",
       "      <td>5</td>\n",
       "      <td>f19421c1d4aa40978ebb69ca19b0e20d</td>\n",
       "      <td>bogo</td>\n",
       "      <td>5</td>\n",
       "    </tr>\n",
       "    <tr>\n",
       "      <th>4</th>\n",
       "      <td>[web, email]</td>\n",
       "      <td>20</td>\n",
       "      <td>10</td>\n",
       "      <td>0b1e1539f2cc45b7b9fa7c272da2e1d7</td>\n",
       "      <td>discount</td>\n",
       "      <td>5</td>\n",
       "    </tr>\n",
       "    <tr>\n",
       "      <th>5</th>\n",
       "      <td>[web, email, mobile, social]</td>\n",
       "      <td>7</td>\n",
       "      <td>7</td>\n",
       "      <td>2298d6c36e964ae4a3e7e9706d1fb8c2</td>\n",
       "      <td>discount</td>\n",
       "      <td>3</td>\n",
       "    </tr>\n",
       "    <tr>\n",
       "      <th>6</th>\n",
       "      <td>[web, email, mobile, social]</td>\n",
       "      <td>10</td>\n",
       "      <td>10</td>\n",
       "      <td>fafdcd668e3743c1bb461111dcafc2a4</td>\n",
       "      <td>discount</td>\n",
       "      <td>2</td>\n",
       "    </tr>\n",
       "    <tr>\n",
       "      <th>9</th>\n",
       "      <td>[web, email, mobile]</td>\n",
       "      <td>10</td>\n",
       "      <td>7</td>\n",
       "      <td>2906b810c7d4411798c6938adc9daaa5</td>\n",
       "      <td>discount</td>\n",
       "      <td>2</td>\n",
       "    </tr>\n",
       "    <tr>\n",
       "      <th>2</th>\n",
       "      <td>[web, email, mobile]</td>\n",
       "      <td>0</td>\n",
       "      <td>4</td>\n",
       "      <td>3f207df678b143eea3cee63160fa8bed</td>\n",
       "      <td>informational</td>\n",
       "      <td>0</td>\n",
       "    </tr>\n",
       "    <tr>\n",
       "      <th>7</th>\n",
       "      <td>[email, mobile, social]</td>\n",
       "      <td>0</td>\n",
       "      <td>3</td>\n",
       "      <td>5a8bc65990b245e5a138643cd4eb9837</td>\n",
       "      <td>informational</td>\n",
       "      <td>0</td>\n",
       "    </tr>\n",
       "  </tbody>\n",
       "</table>\n",
       "</div>"
      ],
      "text/plain": [
       "                       channels  difficulty  duration  \\\n",
       "0       [email, mobile, social]          10         7   \n",
       "1  [web, email, mobile, social]          10         5   \n",
       "3          [web, email, mobile]           5         7   \n",
       "8  [web, email, mobile, social]           5         5   \n",
       "4                  [web, email]          20        10   \n",
       "5  [web, email, mobile, social]           7         7   \n",
       "6  [web, email, mobile, social]          10        10   \n",
       "9          [web, email, mobile]          10         7   \n",
       "2          [web, email, mobile]           0         4   \n",
       "7       [email, mobile, social]           0         3   \n",
       "\n",
       "                                 id     offer_type  reward  \n",
       "0  ae264e3637204a6fb9bb56bc8210ddfd           bogo      10  \n",
       "1  4d5c57ea9a6940dd891ad53e9dbe8da0           bogo      10  \n",
       "3  9b98b8c7a33c4b65b9aebfe6a799e6d9           bogo       5  \n",
       "8  f19421c1d4aa40978ebb69ca19b0e20d           bogo       5  \n",
       "4  0b1e1539f2cc45b7b9fa7c272da2e1d7       discount       5  \n",
       "5  2298d6c36e964ae4a3e7e9706d1fb8c2       discount       3  \n",
       "6  fafdcd668e3743c1bb461111dcafc2a4       discount       2  \n",
       "9  2906b810c7d4411798c6938adc9daaa5       discount       2  \n",
       "2  3f207df678b143eea3cee63160fa8bed  informational       0  \n",
       "7  5a8bc65990b245e5a138643cd4eb9837  informational       0  "
      ]
     },
     "execution_count": 2,
     "metadata": {},
     "output_type": "execute_result"
    }
   ],
   "source": [
    "portfolio.sort_values('offer_type')"
   ]
  },
  {
   "cell_type": "markdown",
   "metadata": {},
   "source": [
    "* There are 10 offers\n",
    "* There are 4 channels - email, mobile, social and web."
   ]
  },
  {
   "cell_type": "code",
   "execution_count": 3,
   "metadata": {},
   "outputs": [
    {
     "data": {
      "image/png": "[encoded data removed]",
      "text/plain": [
       "<matplotlib.figure.Figure at 0x7fa7b25f9b38>"
      ]
     },
     "metadata": {
      "needs_background": "light"
     },
     "output_type": "display_data"
    }
   ],
   "source": [
    "# plt.figure(figsize=(20,10))\n",
    "plt.scatter(portfolio.difficulty, portfolio.duration);\n",
    "plt.title('Correlation between offer difficulty and duration');\n",
    "plt.xlabel('Difficulty');\n",
    "plt.ylabel('Duration');"
   ]
  },
  {
   "cell_type": "markdown",
   "metadata": {},
   "source": [
    "There seems to be some sort of positive correlation between offer difficulty and duration of offer"
   ]
  },
  {
   "cell_type": "markdown",
   "metadata": {},
   "source": [
    "#### Dataset 2 - Profile"
   ]
  },
  {
   "cell_type": "code",
   "execution_count": 4,
   "metadata": {},
   "outputs": [
    {
     "data": {
      "text/html": [
       "<div>\n",
       "<style scoped>\n",
       "    .dataframe tbody tr th:only-of-type {\n",
       "        vertical-align: middle;\n",
       "    }\n",
       "\n",
       "    .dataframe tbody tr th {\n",
       "        vertical-align: top;\n",
       "    }\n",
       "\n",
       "    .dataframe thead th {\n",
       "        text-align: right;\n",
       "    }\n",
       "</style>\n",
       "<table border=\"1\" class=\"dataframe\">\n",
       "  <thead>\n",
       "    <tr style=\"text-align: right;\">\n",
       "      <th></th>\n",
       "      <th>age</th>\n",
       "      <th>became_member_on</th>\n",
       "      <th>gender</th>\n",
       "      <th>id</th>\n",
       "      <th>income</th>\n",
       "    </tr>\n",
       "  </thead>\n",
       "  <tbody>\n",
       "    <tr>\n",
       "      <th>0</th>\n",
       "      <td>118</td>\n",
       "      <td>20170212</td>\n",
       "      <td>None</td>\n",
       "      <td>68be06ca386d4c31939f3a4f0e3dd783</td>\n",
       "      <td>NaN</td>\n",
       "    </tr>\n",
       "    <tr>\n",
       "      <th>1</th>\n",
       "      <td>55</td>\n",
       "      <td>20170715</td>\n",
       "      <td>F</td>\n",
       "      <td>0610b486422d4921ae7d2bf64640c50b</td>\n",
       "      <td>112000.0</td>\n",
       "    </tr>\n",
       "    <tr>\n",
       "      <th>2</th>\n",
       "      <td>118</td>\n",
       "      <td>20180712</td>\n",
       "      <td>None</td>\n",
       "      <td>38fe809add3b4fcf9315a9694bb96ff5</td>\n",
       "      <td>NaN</td>\n",
       "    </tr>\n",
       "    <tr>\n",
       "      <th>3</th>\n",
       "      <td>75</td>\n",
       "      <td>20170509</td>\n",
       "      <td>F</td>\n",
       "      <td>78afa995795e4d85b5d9ceeca43f5fef</td>\n",
       "      <td>100000.0</td>\n",
       "    </tr>\n",
       "    <tr>\n",
       "      <th>4</th>\n",
       "      <td>118</td>\n",
       "      <td>20170804</td>\n",
       "      <td>None</td>\n",
       "      <td>a03223e636434f42ac4c3df47e8bac43</td>\n",
       "      <td>NaN</td>\n",
       "    </tr>\n",
       "  </tbody>\n",
       "</table>\n",
       "</div>"
      ],
      "text/plain": [
       "   age  became_member_on gender                                id    income\n",
       "0  118          20170212   None  68be06ca386d4c31939f3a4f0e3dd783       NaN\n",
       "1   55          20170715      F  0610b486422d4921ae7d2bf64640c50b  112000.0\n",
       "2  118          20180712   None  38fe809add3b4fcf9315a9694bb96ff5       NaN\n",
       "3   75          20170509      F  78afa995795e4d85b5d9ceeca43f5fef  100000.0\n",
       "4  118          20170804   None  a03223e636434f42ac4c3df47e8bac43       NaN"
      ]
     },
     "execution_count": 4,
     "metadata": {},
     "output_type": "execute_result"
    }
   ],
   "source": [
    "profile.head()"
   ]
  },
  {
   "cell_type": "markdown",
   "metadata": {},
   "source": [
    "Here we have id for customer which is unique key and then we have demographic information for customer like age, when it became member with starbucks, gender and income."
   ]
  },
  {
   "cell_type": "markdown",
   "metadata": {},
   "source": [
    "Let's look at more details of the dataset"
   ]
  },
  {
   "cell_type": "code",
   "execution_count": 5,
   "metadata": {},
   "outputs": [
    {
     "name": "stdout",
     "output_type": "stream",
     "text": [
      "<class 'pandas.core.frame.DataFrame'>\n",
      "RangeIndex: 17000 entries, 0 to 16999\n",
      "Data columns (total 5 columns):\n",
      "age                 17000 non-null int64\n",
      "became_member_on    17000 non-null int64\n",
      "gender              14825 non-null object\n",
      "id                  17000 non-null object\n",
      "income              14825 non-null float64\n",
      "dtypes: float64(1), int64(2), object(2)\n",
      "memory usage: 664.1+ KB\n"
     ]
    }
   ],
   "source": [
    "profile.info()"
   ]
  },
  {
   "cell_type": "markdown",
   "metadata": {},
   "source": [
    "There are 2175 records (17000-14825) for which gender and income data is missing. As informed earlier, age is 118 where age information is missing.\n",
    "\n",
    "Lets first try to assess if income and gender data is also missing for same set of customers."
   ]
  },
  {
   "cell_type": "markdown",
   "metadata": {},
   "source": [
    "Lets calculate for how many records age is 118."
   ]
  },
  {
   "cell_type": "code",
   "execution_count": 6,
   "metadata": {},
   "outputs": [
    {
     "data": {
      "text/plain": [
       "2175"
      ]
     },
     "execution_count": 6,
     "metadata": {},
     "output_type": "execute_result"
    }
   ],
   "source": [
    "len(profile.loc[profile.age == 118])"
   ]
  },
  {
   "cell_type": "markdown",
   "metadata": {},
   "source": [
    "So age is 118 for 2175 records which is fine.\n",
    "\n",
    "Lets check gender and income value where age is 118."
   ]
  },
  {
   "cell_type": "code",
   "execution_count": 7,
   "metadata": {},
   "outputs": [
    {
     "data": {
      "text/plain": [
       "array([None], dtype=object)"
      ]
     },
     "execution_count": 7,
     "metadata": {},
     "output_type": "execute_result"
    }
   ],
   "source": [
    "profile.loc[profile.age == 118].gender.unique()"
   ]
  },
  {
   "cell_type": "code",
   "execution_count": 8,
   "metadata": {},
   "outputs": [
    {
     "data": {
      "text/plain": [
       "array([ nan])"
      ]
     },
     "execution_count": 8,
     "metadata": {},
     "output_type": "execute_result"
    }
   ],
   "source": [
    "profile.loc[profile.age == 118].income.unique()"
   ]
  },
  {
   "cell_type": "markdown",
   "metadata": {},
   "source": [
    "So we can see that for 2175 customers age, income and gender data is missing.\n",
    "\n",
    "We can think of removing these customers beacuse all demographic information is missing for these customers."
   ]
  },
  {
   "cell_type": "markdown",
   "metadata": {},
   "source": [
    "Since all demographics is missing for 2175 customers let's create a separete  subset of profile dataset by removing those customers."
   ]
  },
  {
   "cell_type": "code",
   "execution_count": 9,
   "metadata": {},
   "outputs": [],
   "source": [
    "profile_comp = profile.loc[profile.age != 118].reset_index()"
   ]
  },
  {
   "cell_type": "code",
   "execution_count": 10,
   "metadata": {
    "scrolled": true
   },
   "outputs": [
    {
     "name": "stdout",
     "output_type": "stream",
     "text": [
      "<class 'pandas.core.frame.DataFrame'>\n",
      "RangeIndex: 17000 entries, 0 to 16999\n",
      "Data columns (total 5 columns):\n",
      "age                 17000 non-null int64\n",
      "became_member_on    17000 non-null int64\n",
      "gender              14825 non-null object\n",
      "id                  17000 non-null object\n",
      "income              14825 non-null float64\n",
      "dtypes: float64(1), int64(2), object(2)\n",
      "memory usage: 664.1+ KB\n"
     ]
    }
   ],
   "source": [
    "profile.info()"
   ]
  },
  {
   "cell_type": "code",
   "execution_count": 11,
   "metadata": {},
   "outputs": [
    {
     "name": "stdout",
     "output_type": "stream",
     "text": [
      "<class 'pandas.core.frame.DataFrame'>\n",
      "RangeIndex: 14825 entries, 0 to 14824\n",
      "Data columns (total 6 columns):\n",
      "index               14825 non-null int64\n",
      "age                 14825 non-null int64\n",
      "became_member_on    14825 non-null int64\n",
      "gender              14825 non-null object\n",
      "id                  14825 non-null object\n",
      "income              14825 non-null float64\n",
      "dtypes: float64(1), int64(3), object(2)\n",
      "memory usage: 695.0+ KB\n"
     ]
    }
   ],
   "source": [
    "profile_comp.info()"
   ]
  },
  {
   "cell_type": "markdown",
   "metadata": {},
   "source": [
    "Creating subset of data seems fine now. Let's move to analysing and understanding each demograhic data available."
   ]
  },
  {
   "cell_type": "markdown",
   "metadata": {},
   "source": [
    "###### Demopgraphic 1: became_member_on"
   ]
  },
  {
   "cell_type": "markdown",
   "metadata": {},
   "source": [
    "Let's change datatype for became_member_on column"
   ]
  },
  {
   "cell_type": "code",
   "execution_count": 12,
   "metadata": {},
   "outputs": [],
   "source": [
    "profile['became_member_on'] = pd.to_datetime(profile['became_member_on'], format='%Y%m%d')"
   ]
  },
  {
   "cell_type": "markdown",
   "metadata": {},
   "source": [
    "Lets extract year of became_member_on to see if this would be a useful demographic information or not"
   ]
  },
  {
   "cell_type": "code",
   "execution_count": 13,
   "metadata": {},
   "outputs": [],
   "source": [
    "profile['became_member_on_year'] = pd.DatetimeIndex(profile['became_member_on']).year"
   ]
  },
  {
   "cell_type": "code",
   "execution_count": 14,
   "metadata": {},
   "outputs": [
    {
     "data": {
      "text/plain": [
       "2017    6469\n",
       "2018    4198\n",
       "2016    3526\n",
       "2015    1830\n",
       "2014     691\n",
       "2013     286\n",
       "Name: became_member_on_year, dtype: int64"
      ]
     },
     "execution_count": 14,
     "metadata": {},
     "output_type": "execute_result"
    }
   ],
   "source": [
    "profile.became_member_on_year.value_counts()"
   ]
  },
  {
   "cell_type": "markdown",
   "metadata": {},
   "source": [
    "It does not seems to be very valuable information as we don't have exact date at which campaign runs. \n",
    "\n",
    "In case we want to have another demographic of customer which represent how long customer has been associated with Starbucks, we can take a reference with respect from customer who joined at last. Let's implement into our code."
   ]
  },
  {
   "cell_type": "code",
   "execution_count": 15,
   "metadata": {},
   "outputs": [],
   "source": [
    "# Pulling max date\n",
    "max_date = profile.became_member_on.max()\n",
    "\n",
    "# Calculating customer association date\n",
    "profile['cust_assoc_days'] = max_date - profile.became_member_on\n",
    "\n",
    "# Converting timedetla series into days represented by integer\n",
    "profile['cust_assoc_days'] = profile['cust_assoc_days'].dt.days"
   ]
  },
  {
   "cell_type": "code",
   "execution_count": 16,
   "metadata": {},
   "outputs": [
    {
     "data": {
      "text/html": [
       "<div>\n",
       "<style scoped>\n",
       "    .dataframe tbody tr th:only-of-type {\n",
       "        vertical-align: middle;\n",
       "    }\n",
       "\n",
       "    .dataframe tbody tr th {\n",
       "        vertical-align: top;\n",
       "    }\n",
       "\n",
       "    .dataframe thead th {\n",
       "        text-align: right;\n",
       "    }\n",
       "</style>\n",
       "<table border=\"1\" class=\"dataframe\">\n",
       "  <thead>\n",
       "    <tr style=\"text-align: right;\">\n",
       "      <th></th>\n",
       "      <th>age</th>\n",
       "      <th>became_member_on</th>\n",
       "      <th>gender</th>\n",
       "      <th>id</th>\n",
       "      <th>income</th>\n",
       "      <th>became_member_on_year</th>\n",
       "      <th>cust_assoc_days</th>\n",
       "    </tr>\n",
       "  </thead>\n",
       "  <tbody>\n",
       "    <tr>\n",
       "      <th>0</th>\n",
       "      <td>118</td>\n",
       "      <td>2017-02-12</td>\n",
       "      <td>None</td>\n",
       "      <td>68be06ca386d4c31939f3a4f0e3dd783</td>\n",
       "      <td>NaN</td>\n",
       "      <td>2017</td>\n",
       "      <td>529</td>\n",
       "    </tr>\n",
       "    <tr>\n",
       "      <th>1</th>\n",
       "      <td>55</td>\n",
       "      <td>2017-07-15</td>\n",
       "      <td>F</td>\n",
       "      <td>0610b486422d4921ae7d2bf64640c50b</td>\n",
       "      <td>112000.0</td>\n",
       "      <td>2017</td>\n",
       "      <td>376</td>\n",
       "    </tr>\n",
       "    <tr>\n",
       "      <th>2</th>\n",
       "      <td>118</td>\n",
       "      <td>2018-07-12</td>\n",
       "      <td>None</td>\n",
       "      <td>38fe809add3b4fcf9315a9694bb96ff5</td>\n",
       "      <td>NaN</td>\n",
       "      <td>2018</td>\n",
       "      <td>14</td>\n",
       "    </tr>\n",
       "    <tr>\n",
       "      <th>3</th>\n",
       "      <td>75</td>\n",
       "      <td>2017-05-09</td>\n",
       "      <td>F</td>\n",
       "      <td>78afa995795e4d85b5d9ceeca43f5fef</td>\n",
       "      <td>100000.0</td>\n",
       "      <td>2017</td>\n",
       "      <td>443</td>\n",
       "    </tr>\n",
       "    <tr>\n",
       "      <th>4</th>\n",
       "      <td>118</td>\n",
       "      <td>2017-08-04</td>\n",
       "      <td>None</td>\n",
       "      <td>a03223e636434f42ac4c3df47e8bac43</td>\n",
       "      <td>NaN</td>\n",
       "      <td>2017</td>\n",
       "      <td>356</td>\n",
       "    </tr>\n",
       "  </tbody>\n",
       "</table>\n",
       "</div>"
      ],
      "text/plain": [
       "   age became_member_on gender                                id    income  \\\n",
       "0  118       2017-02-12   None  68be06ca386d4c31939f3a4f0e3dd783       NaN   \n",
       "1   55       2017-07-15      F  0610b486422d4921ae7d2bf64640c50b  112000.0   \n",
       "2  118       2018-07-12   None  38fe809add3b4fcf9315a9694bb96ff5       NaN   \n",
       "3   75       2017-05-09      F  78afa995795e4d85b5d9ceeca43f5fef  100000.0   \n",
       "4  118       2017-08-04   None  a03223e636434f42ac4c3df47e8bac43       NaN   \n",
       "\n",
       "   became_member_on_year  cust_assoc_days  \n",
       "0                   2017              529  \n",
       "1                   2017              376  \n",
       "2                   2018               14  \n",
       "3                   2017              443  \n",
       "4                   2017              356  "
      ]
     },
     "execution_count": 16,
     "metadata": {},
     "output_type": "execute_result"
    }
   ],
   "source": [
    "# Checking how data looks like\n",
    "profile.head()"
   ]
  },
  {
   "cell_type": "markdown",
   "metadata": {},
   "source": [
    "Customer assocation days looks fine now.\n",
    "\n",
    "Lets also look at this new columns distribution with both complete dataset and filtered dataset with no missing data"
   ]
  },
  {
   "cell_type": "code",
   "execution_count": 17,
   "metadata": {},
   "outputs": [
    {
     "data": {
      "image/png": "[encoded data removed]",
      "text/plain": [
       "<matplotlib.figure.Figure at 0x7fa7b37be978>"
      ]
     },
     "metadata": {
      "needs_background": "light"
     },
     "output_type": "display_data"
    }
   ],
   "source": [
    "# With complete dataset\n",
    "profile.cust_assoc_days.hist();\n",
    "plt.title('Distribution of duration of association of customer with Starbucks');\n",
    "plt.xlabel('Relative Days');\n",
    "plt.ylabel('Frequency of Customers');"
   ]
  },
  {
   "cell_type": "code",
   "execution_count": 18,
   "metadata": {},
   "outputs": [
    {
     "data": {
      "image/png": "[encoded data removed]",
      "text/plain": [
       "<matplotlib.figure.Figure at 0x7fa7b377d470>"
      ]
     },
     "metadata": {
      "needs_background": "light"
     },
     "output_type": "display_data"
    }
   ],
   "source": [
    "profile_comp = profile.loc[profile.age != 118].reset_index()\n",
    "\n",
    "# With filtered dataset\n",
    "profile_comp.cust_assoc_days.hist();\n",
    "plt.title('Distribution of duration of association of customer with Starbucks');\n",
    "plt.xlabel('Relative Days');\n",
    "plt.ylabel('Frequency of Customers');"
   ]
  },
  {
   "cell_type": "markdown",
   "metadata": {},
   "source": [
    "in both dataset, association duration is highly skewed to right."
   ]
  },
  {
   "cell_type": "markdown",
   "metadata": {},
   "source": [
    "###### Demopgraphic 2: Gender"
   ]
  },
  {
   "cell_type": "code",
   "execution_count": 19,
   "metadata": {},
   "outputs": [
    {
     "data": {
      "image/png": "[encoded data removed]",
      "text/plain": [
       "<matplotlib.figure.Figure at 0x7fa7b36c0198>"
      ]
     },
     "metadata": {
      "needs_background": "light"
     },
     "output_type": "display_data"
    }
   ],
   "source": [
    "# Plotting Bar Graph\n",
    "plt.title('Distribution of Gender');\n",
    "plt.xlabel('Gender');\n",
    "plt.ylabel('Frequency of Customers');\n",
    "\n",
    "profile.gender.value_counts().plot.bar(rot=0);"
   ]
  },
  {
   "cell_type": "code",
   "execution_count": 20,
   "metadata": {},
   "outputs": [
    {
     "data": {
      "text/plain": [
       "M    49.905882\n",
       "F    36.052941\n",
       "O     1.247059\n",
       "Name: gender, dtype: float64"
      ]
     },
     "execution_count": 20,
     "metadata": {},
     "output_type": "execute_result"
    }
   ],
   "source": [
    "# In terms of %age for entire dataset\n",
    "profile.gender.value_counts()*100 / len(profile.gender)"
   ]
  },
  {
   "cell_type": "code",
   "execution_count": 21,
   "metadata": {},
   "outputs": [
    {
     "data": {
      "text/plain": [
       "M    57.227656\n",
       "F    41.342327\n",
       "O     1.430017\n",
       "Name: gender, dtype: float64"
      ]
     },
     "execution_count": 21,
     "metadata": {},
     "output_type": "execute_result"
    }
   ],
   "source": [
    "# In terms of %age for dataset after removing records with missing information\n",
    "profile_comp.gender.value_counts()*100 / len(profile_comp.gender)"
   ]
  },
  {
   "cell_type": "markdown",
   "metadata": {},
   "source": [
    "%age of males is greater than female. It would be interesting to see spending pattern for both gender."
   ]
  },
  {
   "cell_type": "markdown",
   "metadata": {},
   "source": [
    "###### Demopgraphic 3: Income"
   ]
  },
  {
   "cell_type": "code",
   "execution_count": 22,
   "metadata": {},
   "outputs": [
    {
     "data": {
      "image/png": "[encoded data removed]",
      "text/plain": [
       "<matplotlib.figure.Figure at 0x7fa7b367f518>"
      ]
     },
     "metadata": {
      "needs_background": "light"
     },
     "output_type": "display_data"
    }
   ],
   "source": [
    "profile_comp.income.hist();\n",
    "plt.title('Distribution of customer income');\n",
    "plt.xlabel('Income');\n",
    "plt.ylabel('Frequency of Customers');"
   ]
  },
  {
   "cell_type": "markdown",
   "metadata": {},
   "source": [
    "income seems to be right skewed which seems quite acceptable as high income people are expected to be less as compated to income on lower end. This means it would be fair to assume that customer selected for campaign trial represent actual world population."
   ]
  },
  {
   "cell_type": "markdown",
   "metadata": {},
   "source": [
    "###### Demopgraphic 4: age"
   ]
  },
  {
   "cell_type": "code",
   "execution_count": 23,
   "metadata": {},
   "outputs": [
    {
     "data": {
      "image/png": "[encoded data removed]",
      "text/plain": [
       "<matplotlib.figure.Figure at 0x7fa7b37641d0>"
      ]
     },
     "metadata": {
      "needs_background": "light"
     },
     "output_type": "display_data"
    }
   ],
   "source": [
    "profile_comp.age.hist();\n",
    "plt.title('Distribution of customer age');\n",
    "plt.xlabel('Age');\n",
    "plt.ylabel('Frequency of Customers');"
   ]
  },
  {
   "cell_type": "markdown",
   "metadata": {},
   "source": [
    "Some observations\n",
    "\n",
    "* Distribution is slightly skewed to the right.\n",
    "* We have quite diverse customer base with age varying from 18 to 101.\n",
    "* Age seems to be normally distributed with peak happening around 50-70."
   ]
  },
  {
   "cell_type": "markdown",
   "metadata": {},
   "source": [
    "##### I have completed the analysis of dataset - profle and have few points to summarize.\n",
    "\n",
    "* There are total of 17000 customers from which age, income and gender demographics is missing for 2175 customers\n",
    "* I created a subset with those 2175 customers removed (name of DataFrame - profile_comp)\n",
    "* There are 4 demographics that are availble to us now - age, gender, income and duration of association of customer with Starbucks"
   ]
  },
  {
   "cell_type": "markdown",
   "metadata": {},
   "source": [
    "#### Dataset 3 - Transcript"
   ]
  },
  {
   "cell_type": "code",
   "execution_count": 24,
   "metadata": {},
   "outputs": [
    {
     "data": {
      "text/html": [
       "<div>\n",
       "<style scoped>\n",
       "    .dataframe tbody tr th:only-of-type {\n",
       "        vertical-align: middle;\n",
       "    }\n",
       "\n",
       "    .dataframe tbody tr th {\n",
       "        vertical-align: top;\n",
       "    }\n",
       "\n",
       "    .dataframe thead th {\n",
       "        text-align: right;\n",
       "    }\n",
       "</style>\n",
       "<table border=\"1\" class=\"dataframe\">\n",
       "  <thead>\n",
       "    <tr style=\"text-align: right;\">\n",
       "      <th></th>\n",
       "      <th>event</th>\n",
       "      <th>person</th>\n",
       "      <th>time</th>\n",
       "      <th>value</th>\n",
       "    </tr>\n",
       "  </thead>\n",
       "  <tbody>\n",
       "    <tr>\n",
       "      <th>0</th>\n",
       "      <td>offer received</td>\n",
       "      <td>78afa995795e4d85b5d9ceeca43f5fef</td>\n",
       "      <td>0</td>\n",
       "      <td>{'offer id': '9b98b8c7a33c4b65b9aebfe6a799e6d9'}</td>\n",
       "    </tr>\n",
       "    <tr>\n",
       "      <th>1</th>\n",
       "      <td>offer received</td>\n",
       "      <td>a03223e636434f42ac4c3df47e8bac43</td>\n",
       "      <td>0</td>\n",
       "      <td>{'offer id': '0b1e1539f2cc45b7b9fa7c272da2e1d7'}</td>\n",
       "    </tr>\n",
       "    <tr>\n",
       "      <th>2</th>\n",
       "      <td>offer received</td>\n",
       "      <td>e2127556f4f64592b11af22de27a7932</td>\n",
       "      <td>0</td>\n",
       "      <td>{'offer id': '2906b810c7d4411798c6938adc9daaa5'}</td>\n",
       "    </tr>\n",
       "    <tr>\n",
       "      <th>3</th>\n",
       "      <td>offer received</td>\n",
       "      <td>8ec6ce2a7e7949b1bf142def7d0e0586</td>\n",
       "      <td>0</td>\n",
       "      <td>{'offer id': 'fafdcd668e3743c1bb461111dcafc2a4'}</td>\n",
       "    </tr>\n",
       "    <tr>\n",
       "      <th>4</th>\n",
       "      <td>offer received</td>\n",
       "      <td>68617ca6246f4fbc85e91a2a49552598</td>\n",
       "      <td>0</td>\n",
       "      <td>{'offer id': '4d5c57ea9a6940dd891ad53e9dbe8da0'}</td>\n",
       "    </tr>\n",
       "  </tbody>\n",
       "</table>\n",
       "</div>"
      ],
      "text/plain": [
       "            event                            person  time  \\\n",
       "0  offer received  78afa995795e4d85b5d9ceeca43f5fef  0      \n",
       "1  offer received  a03223e636434f42ac4c3df47e8bac43  0      \n",
       "2  offer received  e2127556f4f64592b11af22de27a7932  0      \n",
       "3  offer received  8ec6ce2a7e7949b1bf142def7d0e0586  0      \n",
       "4  offer received  68617ca6246f4fbc85e91a2a49552598  0      \n",
       "\n",
       "                                              value  \n",
       "0  {'offer id': '9b98b8c7a33c4b65b9aebfe6a799e6d9'}  \n",
       "1  {'offer id': '0b1e1539f2cc45b7b9fa7c272da2e1d7'}  \n",
       "2  {'offer id': '2906b810c7d4411798c6938adc9daaa5'}  \n",
       "3  {'offer id': 'fafdcd668e3743c1bb461111dcafc2a4'}  \n",
       "4  {'offer id': '4d5c57ea9a6940dd891ad53e9dbe8da0'}  "
      ]
     },
     "execution_count": 24,
     "metadata": {},
     "output_type": "execute_result"
    }
   ],
   "source": [
    "pd.set_option('display.max_colwidth', -1)\n",
    "transcript.head()"
   ]
  },
  {
   "cell_type": "code",
   "execution_count": 25,
   "metadata": {},
   "outputs": [
    {
     "data": {
      "text/html": [
       "<div>\n",
       "<style scoped>\n",
       "    .dataframe tbody tr th:only-of-type {\n",
       "        vertical-align: middle;\n",
       "    }\n",
       "\n",
       "    .dataframe tbody tr th {\n",
       "        vertical-align: top;\n",
       "    }\n",
       "\n",
       "    .dataframe thead th {\n",
       "        text-align: right;\n",
       "    }\n",
       "</style>\n",
       "<table border=\"1\" class=\"dataframe\">\n",
       "  <thead>\n",
       "    <tr style=\"text-align: right;\">\n",
       "      <th></th>\n",
       "      <th>time</th>\n",
       "    </tr>\n",
       "  </thead>\n",
       "  <tbody>\n",
       "    <tr>\n",
       "      <th>count</th>\n",
       "      <td>306534.000000</td>\n",
       "    </tr>\n",
       "    <tr>\n",
       "      <th>mean</th>\n",
       "      <td>366.382940</td>\n",
       "    </tr>\n",
       "    <tr>\n",
       "      <th>std</th>\n",
       "      <td>200.326314</td>\n",
       "    </tr>\n",
       "    <tr>\n",
       "      <th>min</th>\n",
       "      <td>0.000000</td>\n",
       "    </tr>\n",
       "    <tr>\n",
       "      <th>25%</th>\n",
       "      <td>186.000000</td>\n",
       "    </tr>\n",
       "    <tr>\n",
       "      <th>50%</th>\n",
       "      <td>408.000000</td>\n",
       "    </tr>\n",
       "    <tr>\n",
       "      <th>75%</th>\n",
       "      <td>528.000000</td>\n",
       "    </tr>\n",
       "    <tr>\n",
       "      <th>max</th>\n",
       "      <td>714.000000</td>\n",
       "    </tr>\n",
       "  </tbody>\n",
       "</table>\n",
       "</div>"
      ],
      "text/plain": [
       "                time\n",
       "count  306534.000000\n",
       "mean   366.382940   \n",
       "std    200.326314   \n",
       "min    0.000000     \n",
       "25%    186.000000   \n",
       "50%    408.000000   \n",
       "75%    528.000000   \n",
       "max    714.000000   "
      ]
     },
     "execution_count": 25,
     "metadata": {},
     "output_type": "execute_result"
    }
   ],
   "source": [
    "transcript.describe()"
   ]
  },
  {
   "cell_type": "markdown",
   "metadata": {},
   "source": [
    "Let's analyse each column 1 by 1\n",
    "\n",
    "##### Column 1 - person"
   ]
  },
  {
   "cell_type": "markdown",
   "metadata": {},
   "source": [
    "Lets see how many customers have been covered in transactions"
   ]
  },
  {
   "cell_type": "code",
   "execution_count": 26,
   "metadata": {},
   "outputs": [
    {
     "data": {
      "text/plain": [
       "17000"
      ]
     },
     "execution_count": 26,
     "metadata": {},
     "output_type": "execute_result"
    }
   ],
   "source": [
    "transcript.person.nunique()"
   ]
  },
  {
   "cell_type": "markdown",
   "metadata": {},
   "source": [
    "Count is coming out to be 17000 persons which means transcript covers every person in DataFrame - 'profile'"
   ]
  },
  {
   "cell_type": "markdown",
   "metadata": {},
   "source": [
    "##### Column 2 - event"
   ]
  },
  {
   "cell_type": "code",
   "execution_count": 27,
   "metadata": {},
   "outputs": [
    {
     "data": {
      "text/plain": [
       "transaction        138953\n",
       "offer received     76277 \n",
       "offer viewed       57725 \n",
       "offer completed    33579 \n",
       "Name: event, dtype: int64"
      ]
     },
     "execution_count": 27,
     "metadata": {},
     "output_type": "execute_result"
    }
   ],
   "source": [
    "transcript.event.value_counts()"
   ]
  },
  {
   "cell_type": "markdown",
   "metadata": {},
   "source": [
    "There are 4 type of events\n",
    "\n",
    "* Transactions\n",
    "* offer received\n",
    "* offer viewed\n",
    "* offer completed"
   ]
  },
  {
   "cell_type": "markdown",
   "metadata": {},
   "source": [
    "##### Column 3 - value\n",
    "\n",
    "This column contain details of event. Lets see what this column contain for different value of events"
   ]
  },
  {
   "cell_type": "code",
   "execution_count": 28,
   "metadata": {},
   "outputs": [
    {
     "data": {
      "text/plain": [
       "12654    {'amount': 0.8300000000000001}\n",
       "12657    {'amount': 34.56}             \n",
       "12659    {'amount': 13.23}             \n",
       "12670    {'amount': 19.51}             \n",
       "12671    {'amount': 18.97}             \n",
       "Name: value, dtype: object"
      ]
     },
     "execution_count": 28,
     "metadata": {},
     "output_type": "execute_result"
    }
   ],
   "source": [
    "transcript['value'].loc[transcript.event == 'transaction'].head()"
   ]
  },
  {
   "cell_type": "code",
   "execution_count": 29,
   "metadata": {},
   "outputs": [
    {
     "data": {
      "text/plain": [
       "0    {'offer id': '9b98b8c7a33c4b65b9aebfe6a799e6d9'}\n",
       "1    {'offer id': '0b1e1539f2cc45b7b9fa7c272da2e1d7'}\n",
       "2    {'offer id': '2906b810c7d4411798c6938adc9daaa5'}\n",
       "3    {'offer id': 'fafdcd668e3743c1bb461111dcafc2a4'}\n",
       "4    {'offer id': '4d5c57ea9a6940dd891ad53e9dbe8da0'}\n",
       "Name: value, dtype: object"
      ]
     },
     "execution_count": 29,
     "metadata": {},
     "output_type": "execute_result"
    }
   ],
   "source": [
    "transcript['value'].loc[transcript.event == 'offer received'].head()"
   ]
  },
  {
   "cell_type": "code",
   "execution_count": 30,
   "metadata": {},
   "outputs": [
    {
     "data": {
      "text/plain": [
       "12650    {'offer id': 'f19421c1d4aa40978ebb69ca19b0e20d'}\n",
       "12651    {'offer id': '5a8bc65990b245e5a138643cd4eb9837'}\n",
       "12652    {'offer id': '4d5c57ea9a6940dd891ad53e9dbe8da0'}\n",
       "12653    {'offer id': 'ae264e3637204a6fb9bb56bc8210ddfd'}\n",
       "12655    {'offer id': '5a8bc65990b245e5a138643cd4eb9837'}\n",
       "Name: value, dtype: object"
      ]
     },
     "execution_count": 30,
     "metadata": {},
     "output_type": "execute_result"
    }
   ],
   "source": [
    "transcript['value'].loc[transcript.event == 'offer viewed'].head()"
   ]
  },
  {
   "cell_type": "code",
   "execution_count": 31,
   "metadata": {},
   "outputs": [
    {
     "data": {
      "text/plain": [
       "12658    {'offer_id': '2906b810c7d4411798c6938adc9daaa5', 'reward': 2} \n",
       "12672    {'offer_id': 'fafdcd668e3743c1bb461111dcafc2a4', 'reward': 2} \n",
       "12679    {'offer_id': '9b98b8c7a33c4b65b9aebfe6a799e6d9', 'reward': 5} \n",
       "12692    {'offer_id': 'ae264e3637204a6fb9bb56bc8210ddfd', 'reward': 10}\n",
       "12697    {'offer_id': '4d5c57ea9a6940dd891ad53e9dbe8da0', 'reward': 10}\n",
       "Name: value, dtype: object"
      ]
     },
     "execution_count": 31,
     "metadata": {},
     "output_type": "execute_result"
    }
   ],
   "source": [
    "pd.set_option('display.max_colwidth', -1)\n",
    "transcript['value'].loc[transcript.event == 'offer completed'].head()"
   ]
  },
  {
   "cell_type": "markdown",
   "metadata": {},
   "source": [
    "Value column if of type 'dict' and contain amount for transaction & offer id for offer related events (either received, viewed or completed)\n",
    "\n",
    "Offer Completed Events have one more information in value column which is reward"
   ]
  },
  {
   "cell_type": "markdown",
   "metadata": {},
   "source": [
    "##### Column 4 - time"
   ]
  },
  {
   "cell_type": "code",
   "execution_count": 32,
   "metadata": {},
   "outputs": [
    {
     "data": {
      "image/png": "[encoded data removed]",
      "text/plain": [
       "<matplotlib.figure.Figure at 0x7fa7b372bda0>"
      ]
     },
     "metadata": {
      "needs_background": "light"
     },
     "output_type": "display_data"
    }
   ],
   "source": [
    "plt.hist(transcript.time, bins=40);"
   ]
  },
  {
   "cell_type": "markdown",
   "metadata": {},
   "source": [
    "Data is right skewed with multiple peaks. It seems peek is observed at time some offers are send in bulk which create concentrated records with same timing.\n",
    "\n",
    "Lets look at distbution for each type of transaction"
   ]
  },
  {
   "cell_type": "code",
   "execution_count": 33,
   "metadata": {},
   "outputs": [
    {
     "data": {
      "image/png": "[encoded data removed]",
      "text/plain": [
       "<matplotlib.figure.Figure at 0x7fa7b35fe470>"
      ]
     },
     "metadata": {
      "needs_background": "light"
     },
     "output_type": "display_data"
    }
   ],
   "source": [
    "plt.hist(transcript.loc[transcript.event == 'transaction'].time, bins=40);\n",
    "plt.title('Distribution of Time');\n",
    "plt.xlabel('Time');\n",
    "plt.ylabel('Frequency');"
   ]
  },
  {
   "cell_type": "markdown",
   "metadata": {},
   "source": [
    "For now it does not show any meaningful insight. Lets look at other event.\n",
    "\n",
    "Plotting for event - 'offer received'"
   ]
  },
  {
   "cell_type": "code",
   "execution_count": 34,
   "metadata": {},
   "outputs": [
    {
     "data": {
      "image/png": "[encoded data removed]",
      "text/plain": [
       "<matplotlib.figure.Figure at 0x7fa7b359e2e8>"
      ]
     },
     "metadata": {
      "needs_background": "light"
     },
     "output_type": "display_data"
    }
   ],
   "source": [
    "plt.hist(transcript.loc[transcript.event == 'offer received'].time, bins=40);\n",
    "plt.title(\"Distribution of Time for event - 'offer received'\");\n",
    "plt.xlabel('Time');\n",
    "plt.ylabel('Frequency');"
   ]
  },
  {
   "cell_type": "markdown",
   "metadata": {},
   "source": [
    "This shows that offer were sent to customer on 6 instances only represented by 6 bars. Peak size is close to 12000.\n",
    "\n",
    "Plotting for event - 'offer viewed'"
   ]
  },
  {
   "cell_type": "code",
   "execution_count": 35,
   "metadata": {},
   "outputs": [
    {
     "data": {
      "image/png": "[encoded data removed]",
      "text/plain": [
       "<matplotlib.figure.Figure at 0x7fa7b34d5588>"
      ]
     },
     "metadata": {
      "needs_background": "light"
     },
     "output_type": "display_data"
    }
   ],
   "source": [
    "plt.hist(transcript.loc[transcript.event == 'offer viewed'].time, bins=40);\n",
    "plt.title(\"Distribution of Time for event - 'offer viewed'\");\n",
    "plt.xlabel('Time');\n",
    "plt.ylabel('Frequency');"
   ]
  },
  {
   "cell_type": "markdown",
   "metadata": {},
   "source": [
    "It is highest peaks close to time offer was received by customers. Peak size is between 3500 to 5000 which is lower than those of event 'offer received'\n",
    "\n",
    "Plotting for event - 'offer completed'"
   ]
  },
  {
   "cell_type": "code",
   "execution_count": 36,
   "metadata": {},
   "outputs": [
    {
     "data": {
      "image/png": "[encoded data removed]",
      "text/plain": [
       "<matplotlib.figure.Figure at 0x7fa7b34a9e48>"
      ]
     },
     "metadata": {
      "needs_background": "light"
     },
     "output_type": "display_data"
    }
   ],
   "source": [
    "plt.hist(transcript.loc[transcript.event == 'offer completed'].time, bins=40);\n",
    "plt.title(\"Distribution of Time for event - 'offer completed'\");\n",
    "plt.xlabel('Time');\n",
    "plt.ylabel('Frequency');"
   ]
  },
  {
   "cell_type": "markdown",
   "metadata": {},
   "source": [
    "Peak size is shorter than those of event 'offer viewed' and subsequent peaks are higher which probably means that with time probability of success increases.\n",
    "\n",
    "Now let's look at all stages simultaneaously"
   ]
  },
  {
   "cell_type": "code",
   "execution_count": 37,
   "metadata": {},
   "outputs": [
    {
     "data": {
      "image/png": "[encoded data removed]",
      "text/plain": [
       "<matplotlib.figure.Figure at 0x7fa7b348c630>"
      ]
     },
     "metadata": {
      "needs_background": "light"
     },
     "output_type": "display_data"
    }
   ],
   "source": [
    "# Analyzing distribution of time for life cycle of offer\n",
    "\n",
    "plt.hist(transcript.loc[transcript.event == 'offer received'].time, bins=40, label='Received');\n",
    "plt.hist(transcript.loc[transcript.event == 'offer viewed'].time, bins=40, label='Viewed');\n",
    "plt.hist(transcript.loc[transcript.event == 'offer completed'].time, bins=40, label='Completed');\n",
    "plt.title('Distribution of Time for each stage of offer lifecycle');\n",
    "plt.xlabel('Time');\n",
    "plt.ylabel('Frequency');\n",
    "plt.legend(loc='best', bbox_to_anchor=(1.05, 1));"
   ]
  },
  {
   "cell_type": "markdown",
   "metadata": {},
   "source": [
    "At each stage of lifecycle of an offer, peak occer in sequence and peak gets smaller.\n",
    "\n",
    "* Which means first offer is received by customer which has highest peak (blue)\n",
    "* Then offer is viewed by less number of customer (orange peak is slightly after blue peak and smaller than blue peak)\n",
    "* Then offer is completed by even less number of customers (green peak are smaller than orange peak and slightly after orange peak)"
   ]
  },
  {
   "cell_type": "markdown",
   "metadata": {},
   "source": [
    "Let's see when offer are send to customers."
   ]
  },
  {
   "cell_type": "code",
   "execution_count": 38,
   "metadata": {},
   "outputs": [
    {
     "data": {
      "text/plain": [
       "408    12778\n",
       "576    12765\n",
       "336    12711\n",
       "504    12704\n",
       "168    12669\n",
       "0      12650\n",
       "Name: time, dtype: int64"
      ]
     },
     "execution_count": 38,
     "metadata": {},
     "output_type": "execute_result"
    }
   ],
   "source": [
    "transcript.loc[transcript.event == 'offer received'].time.value_counts()"
   ]
  },
  {
   "cell_type": "markdown",
   "metadata": {},
   "source": [
    "Lets see average time for all type of events as well"
   ]
  },
  {
   "cell_type": "code",
   "execution_count": 39,
   "metadata": {},
   "outputs": [
    {
     "data": {
      "text/plain": [
       "event\n",
       "offer completed    401.052801\n",
       "offer received     332.579519\n",
       "offer viewed       354.290515\n",
       "transaction        381.584334\n",
       "Name: time, dtype: float64"
      ]
     },
     "execution_count": 39,
     "metadata": {},
     "output_type": "execute_result"
    }
   ],
   "source": [
    "transcript.groupby('event')['time'].mean()"
   ]
  },
  {
   "cell_type": "markdown",
   "metadata": {},
   "source": [
    "Average time offer related records ('offer completed', 'offer received', 'offer viewed') is in logical order.\n",
    "\n",
    "* First offer is received\n",
    "* Then offer is viewed \n",
    "* Then offer is completed"
   ]
  },
  {
   "cell_type": "markdown",
   "metadata": {},
   "source": [
    "#### Analysing customer behaviour by transforming transcript data"
   ]
  },
  {
   "cell_type": "markdown",
   "metadata": {},
   "source": [
    "Let's divide the transcript data into 2 parts.\n",
    "\n",
    "* Transactions data\n",
    "* Offer data"
   ]
  },
  {
   "cell_type": "markdown",
   "metadata": {},
   "source": [
    "### Data Pre-processing"
   ]
  },
  {
   "cell_type": "markdown",
   "metadata": {},
   "source": [
    "#### Sub-dataset 1: Transaction Data"
   ]
  },
  {
   "cell_type": "code",
   "execution_count": 40,
   "metadata": {},
   "outputs": [],
   "source": [
    "# Creating the dataframe\n",
    "transaction_transcript = transcript.loc[transcript.event == 'transaction'].reset_index()\n",
    "\n",
    "# Renaming index to ensure we have unique id for each row\n",
    "transaction_transcript.rename(columns={'index': 'index_tran'}, inplace=True);"
   ]
  },
  {
   "cell_type": "code",
   "execution_count": 41,
   "metadata": {},
   "outputs": [
    {
     "data": {
      "text/html": [
       "<div>\n",
       "<style scoped>\n",
       "    .dataframe tbody tr th:only-of-type {\n",
       "        vertical-align: middle;\n",
       "    }\n",
       "\n",
       "    .dataframe tbody tr th {\n",
       "        vertical-align: top;\n",
       "    }\n",
       "\n",
       "    .dataframe thead th {\n",
       "        text-align: right;\n",
       "    }\n",
       "</style>\n",
       "<table border=\"1\" class=\"dataframe\">\n",
       "  <thead>\n",
       "    <tr style=\"text-align: right;\">\n",
       "      <th></th>\n",
       "      <th>index_tran</th>\n",
       "      <th>event</th>\n",
       "      <th>person</th>\n",
       "      <th>time</th>\n",
       "      <th>value</th>\n",
       "    </tr>\n",
       "  </thead>\n",
       "  <tbody>\n",
       "    <tr>\n",
       "      <th>0</th>\n",
       "      <td>12654</td>\n",
       "      <td>transaction</td>\n",
       "      <td>02c083884c7d45b39cc68e1314fec56c</td>\n",
       "      <td>0</td>\n",
       "      <td>{'amount': 0.8300000000000001}</td>\n",
       "    </tr>\n",
       "    <tr>\n",
       "      <th>1</th>\n",
       "      <td>12657</td>\n",
       "      <td>transaction</td>\n",
       "      <td>9fa9ae8f57894cc9a3b8a9bbe0fc1b2f</td>\n",
       "      <td>0</td>\n",
       "      <td>{'amount': 34.56}</td>\n",
       "    </tr>\n",
       "    <tr>\n",
       "      <th>2</th>\n",
       "      <td>12659</td>\n",
       "      <td>transaction</td>\n",
       "      <td>54890f68699049c2a04d415abc25e717</td>\n",
       "      <td>0</td>\n",
       "      <td>{'amount': 13.23}</td>\n",
       "    </tr>\n",
       "    <tr>\n",
       "      <th>3</th>\n",
       "      <td>12670</td>\n",
       "      <td>transaction</td>\n",
       "      <td>b2f1cd155b864803ad8334cdf13c4bd2</td>\n",
       "      <td>0</td>\n",
       "      <td>{'amount': 19.51}</td>\n",
       "    </tr>\n",
       "    <tr>\n",
       "      <th>4</th>\n",
       "      <td>12671</td>\n",
       "      <td>transaction</td>\n",
       "      <td>fe97aa22dd3e48c8b143116a8403dd52</td>\n",
       "      <td>0</td>\n",
       "      <td>{'amount': 18.97}</td>\n",
       "    </tr>\n",
       "  </tbody>\n",
       "</table>\n",
       "</div>"
      ],
      "text/plain": [
       "   index_tran        event                            person  time  \\\n",
       "0  12654       transaction  02c083884c7d45b39cc68e1314fec56c  0      \n",
       "1  12657       transaction  9fa9ae8f57894cc9a3b8a9bbe0fc1b2f  0      \n",
       "2  12659       transaction  54890f68699049c2a04d415abc25e717  0      \n",
       "3  12670       transaction  b2f1cd155b864803ad8334cdf13c4bd2  0      \n",
       "4  12671       transaction  fe97aa22dd3e48c8b143116a8403dd52  0      \n",
       "\n",
       "                            value  \n",
       "0  {'amount': 0.8300000000000001}  \n",
       "1  {'amount': 34.56}               \n",
       "2  {'amount': 13.23}               \n",
       "3  {'amount': 19.51}               \n",
       "4  {'amount': 18.97}               "
      ]
     },
     "execution_count": 41,
     "metadata": {},
     "output_type": "execute_result"
    }
   ],
   "source": [
    "transaction_transcript.head()"
   ]
  },
  {
   "cell_type": "markdown",
   "metadata": {},
   "source": [
    "Since 'value' column contain the transaction amount, lets create new variable to store the amount\n",
    "\n",
    "Creating New Variable - transaction_amount"
   ]
  },
  {
   "cell_type": "code",
   "execution_count": 42,
   "metadata": {},
   "outputs": [],
   "source": [
    "# Creating New Variable - transaction_amount\n",
    "transaction_transcript['transaction_amount'] = [d.get(\"amount\") for d in transaction_transcript.value]"
   ]
  },
  {
   "cell_type": "code",
   "execution_count": 43,
   "metadata": {},
   "outputs": [
    {
     "data": {
      "text/html": [
       "<div>\n",
       "<style scoped>\n",
       "    .dataframe tbody tr th:only-of-type {\n",
       "        vertical-align: middle;\n",
       "    }\n",
       "\n",
       "    .dataframe tbody tr th {\n",
       "        vertical-align: top;\n",
       "    }\n",
       "\n",
       "    .dataframe thead th {\n",
       "        text-align: right;\n",
       "    }\n",
       "</style>\n",
       "<table border=\"1\" class=\"dataframe\">\n",
       "  <thead>\n",
       "    <tr style=\"text-align: right;\">\n",
       "      <th></th>\n",
       "      <th>index_tran</th>\n",
       "      <th>event</th>\n",
       "      <th>person</th>\n",
       "      <th>time</th>\n",
       "      <th>value</th>\n",
       "      <th>transaction_amount</th>\n",
       "    </tr>\n",
       "  </thead>\n",
       "  <tbody>\n",
       "    <tr>\n",
       "      <th>0</th>\n",
       "      <td>12654</td>\n",
       "      <td>transaction</td>\n",
       "      <td>02c083884c7d45b39cc68e1314fec56c</td>\n",
       "      <td>0</td>\n",
       "      <td>{'amount': 0.8300000000000001}</td>\n",
       "      <td>0.83</td>\n",
       "    </tr>\n",
       "    <tr>\n",
       "      <th>1</th>\n",
       "      <td>12657</td>\n",
       "      <td>transaction</td>\n",
       "      <td>9fa9ae8f57894cc9a3b8a9bbe0fc1b2f</td>\n",
       "      <td>0</td>\n",
       "      <td>{'amount': 34.56}</td>\n",
       "      <td>34.56</td>\n",
       "    </tr>\n",
       "    <tr>\n",
       "      <th>2</th>\n",
       "      <td>12659</td>\n",
       "      <td>transaction</td>\n",
       "      <td>54890f68699049c2a04d415abc25e717</td>\n",
       "      <td>0</td>\n",
       "      <td>{'amount': 13.23}</td>\n",
       "      <td>13.23</td>\n",
       "    </tr>\n",
       "    <tr>\n",
       "      <th>3</th>\n",
       "      <td>12670</td>\n",
       "      <td>transaction</td>\n",
       "      <td>b2f1cd155b864803ad8334cdf13c4bd2</td>\n",
       "      <td>0</td>\n",
       "      <td>{'amount': 19.51}</td>\n",
       "      <td>19.51</td>\n",
       "    </tr>\n",
       "    <tr>\n",
       "      <th>4</th>\n",
       "      <td>12671</td>\n",
       "      <td>transaction</td>\n",
       "      <td>fe97aa22dd3e48c8b143116a8403dd52</td>\n",
       "      <td>0</td>\n",
       "      <td>{'amount': 18.97}</td>\n",
       "      <td>18.97</td>\n",
       "    </tr>\n",
       "  </tbody>\n",
       "</table>\n",
       "</div>"
      ],
      "text/plain": [
       "   index_tran        event                            person  time  \\\n",
       "0  12654       transaction  02c083884c7d45b39cc68e1314fec56c  0      \n",
       "1  12657       transaction  9fa9ae8f57894cc9a3b8a9bbe0fc1b2f  0      \n",
       "2  12659       transaction  54890f68699049c2a04d415abc25e717  0      \n",
       "3  12670       transaction  b2f1cd155b864803ad8334cdf13c4bd2  0      \n",
       "4  12671       transaction  fe97aa22dd3e48c8b143116a8403dd52  0      \n",
       "\n",
       "                            value  transaction_amount  \n",
       "0  {'amount': 0.8300000000000001}  0.83                \n",
       "1  {'amount': 34.56}               34.56               \n",
       "2  {'amount': 13.23}               13.23               \n",
       "3  {'amount': 19.51}               19.51               \n",
       "4  {'amount': 18.97}               18.97               "
      ]
     },
     "execution_count": 43,
     "metadata": {},
     "output_type": "execute_result"
    }
   ],
   "source": [
    "transaction_transcript.head()"
   ]
  },
  {
   "cell_type": "code",
   "execution_count": 44,
   "metadata": {},
   "outputs": [
    {
     "name": "stdout",
     "output_type": "stream",
     "text": [
      "<class 'pandas.core.frame.DataFrame'>\n",
      "RangeIndex: 138953 entries, 0 to 138952\n",
      "Data columns (total 6 columns):\n",
      "index_tran            138953 non-null int64\n",
      "event                 138953 non-null object\n",
      "person                138953 non-null object\n",
      "time                  138953 non-null int64\n",
      "value                 138953 non-null object\n",
      "transaction_amount    138953 non-null float64\n",
      "dtypes: float64(1), int64(2), object(3)\n",
      "memory usage: 6.4+ MB\n"
     ]
    }
   ],
   "source": [
    "transaction_transcript.info()"
   ]
  },
  {
   "cell_type": "markdown",
   "metadata": {},
   "source": [
    "New Variable - 'value' Created"
   ]
  },
  {
   "cell_type": "markdown",
   "metadata": {},
   "source": [
    "Now, lets try to understand this newly created dataset.\n",
    "\n",
    "Let's look at how much customer spend during entire duration of campaign"
   ]
  },
  {
   "cell_type": "code",
   "execution_count": 45,
   "metadata": {},
   "outputs": [
    {
     "name": "stdout",
     "output_type": "stream",
     "text": [
      "Max Amount spend in a day =  $22,461.34\n",
      "Min Amount spend in a day =  $7,305.57\n"
     ]
    }
   ],
   "source": [
    "# Creating DataFrame\n",
    "cust_spent_dist = transaction_transcript.groupby(['time'])['transaction_amount'].sum().reset_index()\n",
    "\n",
    "# Printing Max and min amouunt spent in a day\n",
    "print('Max Amount spend in a day = ','${:,.2f}'.format(max(cust_spent_dist.transaction_amount)))\n",
    "print('Min Amount spend in a day = ','${:,.2f}'.format(min(cust_spent_dist.transaction_amount)))"
   ]
  },
  {
   "cell_type": "code",
   "execution_count": 46,
   "metadata": {},
   "outputs": [
    {
     "data": {
      "image/png": "[encoded data removed]",
      "text/plain": [
       "<matplotlib.figure.Figure at 0x7fa7b338bf60>"
      ]
     },
     "metadata": {
      "needs_background": "light"
     },
     "output_type": "display_data"
    }
   ],
   "source": [
    "plt.figure(figsize=(20,10));\n",
    "plt.bar(cust_spent_dist.time, height=cust_spent_dist.transaction_amount);\n",
    "plt.title('Total Revenue Earned by Starbucks in a day',  fontsize=18);\n",
    "plt.xlabel('day',  fontsize=18);\n",
    "plt.ylabel('Revenue in dollars',  fontsize=18);"
   ]
  },
  {
   "cell_type": "markdown",
   "metadata": {},
   "source": [
    "We can see here that customer spending was higher in later stage of campaign period\n",
    "\n",
    "To see why customer spending was higher in that period, "
   ]
  },
  {
   "cell_type": "markdown",
   "metadata": {},
   "source": [
    "##### Let's look at how many customer do the spending on particular point of time"
   ]
  },
  {
   "cell_type": "code",
   "execution_count": 47,
   "metadata": {},
   "outputs": [
    {
     "name": "stdout",
     "output_type": "stream",
     "text": [
      "Max People who spend at starbucks in a day =  1528\n",
      "Min People who spend at starbucks in a day =  633\n"
     ]
    }
   ],
   "source": [
    "# Creating Dataframe\n",
    "cust_count_dist = transaction_transcript.groupby(['time'])['person'].nunique().reset_index()\n",
    "\n",
    "# Printing the max and min of no of people who do shopping in a day\n",
    "print('Max People who spend at starbucks in a day = ',max(cust_count_dist.person))\n",
    "print('Min People who spend at starbucks in a day = ',min(cust_count_dist.person))"
   ]
  },
  {
   "cell_type": "code",
   "execution_count": 48,
   "metadata": {},
   "outputs": [
    {
     "data": {
      "image/png": "[encoded data removed]",
      "text/plain": [
       "<matplotlib.figure.Figure at 0x7fa7b32bf438>"
      ]
     },
     "metadata": {
      "needs_background": "light"
     },
     "output_type": "display_data"
    }
   ],
   "source": [
    "plt.figure(figsize=(20,10));\n",
    "plt.bar(cust_count_dist.time, height=cust_count_dist.person);\n",
    "plt.title('Total Number of customers who did shopping at Starbucks in a day',  fontsize=18);\n",
    "plt.xlabel('day',  fontsize=18);\n",
    "plt.ylabel('Number of Customer',  fontsize=18);"
   ]
  },
  {
   "cell_type": "markdown",
   "metadata": {},
   "source": [
    "Here also, we can see that more customers did shopping at Starbucks in later stage of campaign period.\n",
    "\n",
    "Now let's look at trend of average spending during a day."
   ]
  },
  {
   "cell_type": "code",
   "execution_count": 49,
   "metadata": {},
   "outputs": [
    {
     "name": "stdout",
     "output_type": "stream",
     "text": [
      "Max Average of spending in a day =  15.883503981797464\n",
      "Min Average of spending in a day =  10.993088685015302\n"
     ]
    }
   ],
   "source": [
    "# Creating Dataframe\n",
    "avg_spent = transaction_transcript.groupby(['time'])['transaction_amount'].mean().reset_index(name='avg_spent')\n",
    "\n",
    "# Printing the max and min of no of people who do shopping in a day\n",
    "print('Max Average of spending in a day = ',max(avg_spent.avg_spent))\n",
    "print('Min Average of spending in a day = ',min(avg_spent.avg_spent))"
   ]
  },
  {
   "cell_type": "code",
   "execution_count": 50,
   "metadata": {},
   "outputs": [
    {
     "data": {
      "image/png": "[encoded data removed]",
      "text/plain": [
       "<matplotlib.figure.Figure at 0x7fa7b33c74e0>"
      ]
     },
     "metadata": {
      "needs_background": "light"
     },
     "output_type": "display_data"
    }
   ],
   "source": [
    "plt.figure(figsize=(20,10));\n",
    "plt.bar(avg_spent.time, height=avg_spent.avg_spent);\n",
    "plt.title('Average Revenue of Starbucks in a day',  fontsize=18);\n",
    "plt.xlabel('day',  fontsize=18);\n",
    "plt.ylabel('Average Revenue',  fontsize=18);"
   ]
  },
  {
   "cell_type": "markdown",
   "metadata": {},
   "source": [
    "Trend of average revenue in a day for Starbucks shows a flat trend.\n",
    "\n",
    "This means that higher spending was offset by more people doing shopping with Starbucks."
   ]
  },
  {
   "cell_type": "markdown",
   "metadata": {},
   "source": [
    "Let's try to see if any customer did more than one transaction in a particular day. If that is the case, I would have to consolidate data for each unit of time and person"
   ]
  },
  {
   "cell_type": "code",
   "execution_count": 51,
   "metadata": {},
   "outputs": [
    {
     "name": "stdout",
     "output_type": "stream",
     "text": [
      "Before consolidation size of dataset (138953, 6)\n",
      "Before consolidation, transaction amount $1,775,451.97\n",
      "consolidation happes\n",
      "After consolidation size of dataset (138953, 4)\n",
      "After consolidation, transaction amount $1,775,451.97\n"
     ]
    }
   ],
   "source": [
    "print('Before consolidation size of dataset', transaction_transcript.shape)\n",
    "print('Before consolidation, transaction amount', '${:,.2f}'.format(transaction_transcript.transaction_amount.sum()))\n",
    "\n",
    "# Doing consolidation\n",
    "print('consolidation happes')\n",
    "\n",
    "transaction_transcript_cons = transaction_transcript.groupby(['event','person','time'])['transaction_amount'].sum().reset_index()\n",
    "\n",
    "print('After consolidation size of dataset', transaction_transcript_cons.shape)\n",
    "print('After consolidation, transaction amount', '${:,.2f}'.format(transaction_transcript_cons.transaction_amount.sum()))"
   ]
  },
  {
   "cell_type": "markdown",
   "metadata": {},
   "source": [
    "There is no reduction in length of dataset. We can use 'transaction_transcript' DataFrame"
   ]
  },
  {
   "cell_type": "markdown",
   "metadata": {},
   "source": [
    "Lets move to another subset of transcript dataset."
   ]
  },
  {
   "cell_type": "markdown",
   "metadata": {},
   "source": [
    "#### Sub-dataset 2: Offer Received Data"
   ]
  },
  {
   "cell_type": "markdown",
   "metadata": {},
   "source": [
    "Preparing the dataframe"
   ]
  },
  {
   "cell_type": "code",
   "execution_count": 52,
   "metadata": {},
   "outputs": [],
   "source": [
    "# Filter out data where offer was received by customer\n",
    "offer_received_transcript = transcript.loc[transcript.event == 'offer received'].reset_index()\n",
    "\n",
    "# Extract Offer Id\n",
    "offer_received_transcript['offer_id'] = [d.get(\"offer id\") for d in offer_received_transcript.value]\n",
    "\n",
    "# Merge Offer details (df - portfolio) with filtered data\n",
    "offer_received_transcript = pd.merge(offer_received_transcript, portfolio, left_on= 'offer_id', right_on='id',how='left')"
   ]
  },
  {
   "cell_type": "code",
   "execution_count": 53,
   "metadata": {},
   "outputs": [
    {
     "data": {
      "text/html": [
       "<div>\n",
       "<style scoped>\n",
       "    .dataframe tbody tr th:only-of-type {\n",
       "        vertical-align: middle;\n",
       "    }\n",
       "\n",
       "    .dataframe tbody tr th {\n",
       "        vertical-align: top;\n",
       "    }\n",
       "\n",
       "    .dataframe thead th {\n",
       "        text-align: right;\n",
       "    }\n",
       "</style>\n",
       "<table border=\"1\" class=\"dataframe\">\n",
       "  <thead>\n",
       "    <tr style=\"text-align: right;\">\n",
       "      <th></th>\n",
       "      <th>index</th>\n",
       "      <th>event</th>\n",
       "      <th>person</th>\n",
       "      <th>time</th>\n",
       "      <th>value</th>\n",
       "      <th>offer_id</th>\n",
       "      <th>channels</th>\n",
       "      <th>difficulty</th>\n",
       "      <th>duration</th>\n",
       "      <th>id</th>\n",
       "      <th>offer_type</th>\n",
       "      <th>reward</th>\n",
       "    </tr>\n",
       "  </thead>\n",
       "  <tbody>\n",
       "    <tr>\n",
       "      <th>0</th>\n",
       "      <td>0</td>\n",
       "      <td>offer received</td>\n",
       "      <td>78afa995795e4d85b5d9ceeca43f5fef</td>\n",
       "      <td>0</td>\n",
       "      <td>{'offer id': '9b98b8c7a33c4b65b9aebfe6a799e6d9'}</td>\n",
       "      <td>9b98b8c7a33c4b65b9aebfe6a799e6d9</td>\n",
       "      <td>[web, email, mobile]</td>\n",
       "      <td>5</td>\n",
       "      <td>7</td>\n",
       "      <td>9b98b8c7a33c4b65b9aebfe6a799e6d9</td>\n",
       "      <td>bogo</td>\n",
       "      <td>5</td>\n",
       "    </tr>\n",
       "    <tr>\n",
       "      <th>1</th>\n",
       "      <td>1</td>\n",
       "      <td>offer received</td>\n",
       "      <td>a03223e636434f42ac4c3df47e8bac43</td>\n",
       "      <td>0</td>\n",
       "      <td>{'offer id': '0b1e1539f2cc45b7b9fa7c272da2e1d7'}</td>\n",
       "      <td>0b1e1539f2cc45b7b9fa7c272da2e1d7</td>\n",
       "      <td>[web, email]</td>\n",
       "      <td>20</td>\n",
       "      <td>10</td>\n",
       "      <td>0b1e1539f2cc45b7b9fa7c272da2e1d7</td>\n",
       "      <td>discount</td>\n",
       "      <td>5</td>\n",
       "    </tr>\n",
       "    <tr>\n",
       "      <th>2</th>\n",
       "      <td>2</td>\n",
       "      <td>offer received</td>\n",
       "      <td>e2127556f4f64592b11af22de27a7932</td>\n",
       "      <td>0</td>\n",
       "      <td>{'offer id': '2906b810c7d4411798c6938adc9daaa5'}</td>\n",
       "      <td>2906b810c7d4411798c6938adc9daaa5</td>\n",
       "      <td>[web, email, mobile]</td>\n",
       "      <td>10</td>\n",
       "      <td>7</td>\n",
       "      <td>2906b810c7d4411798c6938adc9daaa5</td>\n",
       "      <td>discount</td>\n",
       "      <td>2</td>\n",
       "    </tr>\n",
       "    <tr>\n",
       "      <th>3</th>\n",
       "      <td>3</td>\n",
       "      <td>offer received</td>\n",
       "      <td>8ec6ce2a7e7949b1bf142def7d0e0586</td>\n",
       "      <td>0</td>\n",
       "      <td>{'offer id': 'fafdcd668e3743c1bb461111dcafc2a4'}</td>\n",
       "      <td>fafdcd668e3743c1bb461111dcafc2a4</td>\n",
       "      <td>[web, email, mobile, social]</td>\n",
       "      <td>10</td>\n",
       "      <td>10</td>\n",
       "      <td>fafdcd668e3743c1bb461111dcafc2a4</td>\n",
       "      <td>discount</td>\n",
       "      <td>2</td>\n",
       "    </tr>\n",
       "    <tr>\n",
       "      <th>4</th>\n",
       "      <td>4</td>\n",
       "      <td>offer received</td>\n",
       "      <td>68617ca6246f4fbc85e91a2a49552598</td>\n",
       "      <td>0</td>\n",
       "      <td>{'offer id': '4d5c57ea9a6940dd891ad53e9dbe8da0'}</td>\n",
       "      <td>4d5c57ea9a6940dd891ad53e9dbe8da0</td>\n",
       "      <td>[web, email, mobile, social]</td>\n",
       "      <td>10</td>\n",
       "      <td>5</td>\n",
       "      <td>4d5c57ea9a6940dd891ad53e9dbe8da0</td>\n",
       "      <td>bogo</td>\n",
       "      <td>10</td>\n",
       "    </tr>\n",
       "  </tbody>\n",
       "</table>\n",
       "</div>"
      ],
      "text/plain": [
       "   index           event                            person  time  \\\n",
       "0  0      offer received  78afa995795e4d85b5d9ceeca43f5fef  0      \n",
       "1  1      offer received  a03223e636434f42ac4c3df47e8bac43  0      \n",
       "2  2      offer received  e2127556f4f64592b11af22de27a7932  0      \n",
       "3  3      offer received  8ec6ce2a7e7949b1bf142def7d0e0586  0      \n",
       "4  4      offer received  68617ca6246f4fbc85e91a2a49552598  0      \n",
       "\n",
       "                                              value  \\\n",
       "0  {'offer id': '9b98b8c7a33c4b65b9aebfe6a799e6d9'}   \n",
       "1  {'offer id': '0b1e1539f2cc45b7b9fa7c272da2e1d7'}   \n",
       "2  {'offer id': '2906b810c7d4411798c6938adc9daaa5'}   \n",
       "3  {'offer id': 'fafdcd668e3743c1bb461111dcafc2a4'}   \n",
       "4  {'offer id': '4d5c57ea9a6940dd891ad53e9dbe8da0'}   \n",
       "\n",
       "                           offer_id                      channels  difficulty  \\\n",
       "0  9b98b8c7a33c4b65b9aebfe6a799e6d9  [web, email, mobile]          5            \n",
       "1  0b1e1539f2cc45b7b9fa7c272da2e1d7  [web, email]                  20           \n",
       "2  2906b810c7d4411798c6938adc9daaa5  [web, email, mobile]          10           \n",
       "3  fafdcd668e3743c1bb461111dcafc2a4  [web, email, mobile, social]  10           \n",
       "4  4d5c57ea9a6940dd891ad53e9dbe8da0  [web, email, mobile, social]  10           \n",
       "\n",
       "   duration                                id offer_type  reward  \n",
       "0  7         9b98b8c7a33c4b65b9aebfe6a799e6d9  bogo       5       \n",
       "1  10        0b1e1539f2cc45b7b9fa7c272da2e1d7  discount   5       \n",
       "2  7         2906b810c7d4411798c6938adc9daaa5  discount   2       \n",
       "3  10        fafdcd668e3743c1bb461111dcafc2a4  discount   2       \n",
       "4  5         4d5c57ea9a6940dd891ad53e9dbe8da0  bogo       10      "
      ]
     },
     "execution_count": 53,
     "metadata": {},
     "output_type": "execute_result"
    }
   ],
   "source": [
    "offer_received_transcript.head()"
   ]
  },
  {
   "cell_type": "markdown",
   "metadata": {},
   "source": [
    "Lets look at each column one by one.\n",
    "\n",
    "Starting with person, lets check how many customer are there in this dataframe"
   ]
  },
  {
   "cell_type": "code",
   "execution_count": 54,
   "metadata": {},
   "outputs": [
    {
     "data": {
      "text/plain": [
       "16994"
      ]
     },
     "execution_count": 54,
     "metadata": {},
     "output_type": "execute_result"
    }
   ],
   "source": [
    "# Count of unique customers in the campaign\n",
    "offer_received_transcript.person.nunique()"
   ]
  },
  {
   "cell_type": "markdown",
   "metadata": {},
   "source": [
    "This means that most of customers were covered whose information we have in profile dataframe\n",
    "\n",
    "Now, lets look at 'time' column "
   ]
  },
  {
   "cell_type": "code",
   "execution_count": 55,
   "metadata": {},
   "outputs": [
    {
     "data": {
      "text/plain": [
       "408    12778\n",
       "576    12765\n",
       "336    12711\n",
       "504    12704\n",
       "168    12669\n",
       "0      12650\n",
       "Name: time, dtype: int64"
      ]
     },
     "execution_count": 55,
     "metadata": {},
     "output_type": "execute_result"
    }
   ],
   "source": [
    "offer_received_transcript.time.value_counts()"
   ]
  },
  {
   "cell_type": "markdown",
   "metadata": {},
   "source": [
    "As seen here and in histogram shown earlier, offer were circulated to customers at some fixed point of time. \n",
    "\n",
    "We can see that offer were distributed 6 times during campaign. These timings are 0, 168, 336, 408, 504 and 576.\n",
    "\n",
    "Now lets see if at each point of offer distribution, was each customer offered with one offer only or multiple offers."
   ]
  },
  {
   "cell_type": "code",
   "execution_count": 56,
   "metadata": {},
   "outputs": [
    {
     "data": {
      "text/plain": [
       "1    76277\n",
       "Name: Freq, dtype: int64"
      ]
     },
     "execution_count": 56,
     "metadata": {},
     "output_type": "execute_result"
    }
   ],
   "source": [
    "offer_received_transcript.groupby(['person', 'time']).size().reset_index(name = 'Freq')['Freq'].value_counts()"
   ]
  },
  {
   "cell_type": "markdown",
   "metadata": {},
   "source": [
    "This means that at one point of time, one customer was offered only one offer and we can fairly assume that customer would be under influence of offer till the time he/she is offered new offer.\n",
    "\n",
    "Now lets see during entire campaign, how many times customer was offered with an offer."
   ]
  },
  {
   "cell_type": "code",
   "execution_count": 57,
   "metadata": {},
   "outputs": [
    {
     "data": {
      "text/plain": [
       "5    5931\n",
       "4    4988\n",
       "6    3067\n",
       "3    2325\n",
       "2    610 \n",
       "1    73  \n",
       "Name: person, dtype: int64"
      ]
     },
     "execution_count": 57,
     "metadata": {},
     "output_type": "execute_result"
    }
   ],
   "source": [
    "offer_received_transcript.person.value_counts().reset_index()['person'].value_counts()"
   ]
  },
  {
   "cell_type": "markdown",
   "metadata": {},
   "source": [
    "Above table shows that only 73 out of 16994 customer received offer only once. \n",
    "This shows that majority of customers were offered offers more than once during the campaign.\n",
    "\n",
    "Most of customer received offer more than once. Most common count is 5, 4 and 6\n"
   ]
  },
  {
   "cell_type": "markdown",
   "metadata": {},
   "source": [
    "Now lets look at distribution of how many type of offers that customer received"
   ]
  },
  {
   "cell_type": "code",
   "execution_count": 58,
   "metadata": {},
   "outputs": [
    {
     "data": {
      "text/plain": [
       "2    8460\n",
       "3    7515\n",
       "1    1019\n",
       "Name: offer_type, dtype: int64"
      ]
     },
     "execution_count": 58,
     "metadata": {},
     "output_type": "execute_result"
    }
   ],
   "source": [
    "# Distinct Values of offer type and customer\n",
    "df_1 = offer_received_transcript.groupby(['person', 'offer_type']).size().reset_index(name='occurance')\n",
    "\n",
    "# No of unique customers\n",
    "df_1.person.nunique()\n",
    "\n",
    "df_2 = df_1.groupby(['person'])['offer_type'].count().reset_index()\n",
    "\n",
    "\n",
    "df_2['offer_type'].value_counts()"
   ]
  },
  {
   "cell_type": "markdown",
   "metadata": {},
   "source": [
    "So most of customer were offered more than one type of offers. This is a good sign as we can see how customers behaves to different type of customers."
   ]
  },
  {
   "cell_type": "markdown",
   "metadata": {},
   "source": [
    "Let's check if one customer was offered only one product at one point time or more"
   ]
  },
  {
   "cell_type": "code",
   "execution_count": 59,
   "metadata": {},
   "outputs": [
    {
     "data": {
      "text/plain": [
       "1    76277\n",
       "Name: occurance, dtype: int64"
      ]
     },
     "execution_count": 59,
     "metadata": {},
     "output_type": "execute_result"
    }
   ],
   "source": [
    "offer_received_transcript.groupby(['person', 'time']).size().reset_index(name='occurance').occurance.value_counts()"
   ]
  },
  {
   "cell_type": "markdown",
   "metadata": {},
   "source": [
    "#### Sub-dataset 3: Offer Viewed Data"
   ]
  },
  {
   "cell_type": "code",
   "execution_count": 60,
   "metadata": {},
   "outputs": [],
   "source": [
    "# Filter out data where offer was received by customer\n",
    "offer_viewed_transcript = transcript.loc[transcript.event == 'offer viewed'].reset_index()\n",
    "\n",
    "# Extract Offer Id\n",
    "offer_viewed_transcript['offer_id'] = [d.get(\"offer id\") for d in offer_viewed_transcript.value]\n",
    "\n",
    "# Rename the column time which is present in multiple dataframes\n",
    "offer_viewed_transcript.rename(columns={'time': 'time_view'}, inplace=True)\n",
    "\n",
    "\n",
    "# Merge Offer details (df - portfolio) with filtered data\n",
    "offer_viewed_transcript = pd.merge(offer_viewed_transcript, portfolio, left_on= 'offer_id', right_on='id',how='left')"
   ]
  },
  {
   "cell_type": "code",
   "execution_count": 61,
   "metadata": {},
   "outputs": [
    {
     "data": {
      "text/html": [
       "<div>\n",
       "<style scoped>\n",
       "    .dataframe tbody tr th:only-of-type {\n",
       "        vertical-align: middle;\n",
       "    }\n",
       "\n",
       "    .dataframe tbody tr th {\n",
       "        vertical-align: top;\n",
       "    }\n",
       "\n",
       "    .dataframe thead th {\n",
       "        text-align: right;\n",
       "    }\n",
       "</style>\n",
       "<table border=\"1\" class=\"dataframe\">\n",
       "  <thead>\n",
       "    <tr style=\"text-align: right;\">\n",
       "      <th></th>\n",
       "      <th>index</th>\n",
       "      <th>event</th>\n",
       "      <th>person</th>\n",
       "      <th>time_view</th>\n",
       "      <th>value</th>\n",
       "      <th>offer_id</th>\n",
       "      <th>channels</th>\n",
       "      <th>difficulty</th>\n",
       "      <th>duration</th>\n",
       "      <th>id</th>\n",
       "      <th>offer_type</th>\n",
       "      <th>reward</th>\n",
       "    </tr>\n",
       "  </thead>\n",
       "  <tbody>\n",
       "    <tr>\n",
       "      <th>0</th>\n",
       "      <td>12650</td>\n",
       "      <td>offer viewed</td>\n",
       "      <td>389bc3fa690240e798340f5a15918d5c</td>\n",
       "      <td>0</td>\n",
       "      <td>{'offer id': 'f19421c1d4aa40978ebb69ca19b0e20d'}</td>\n",
       "      <td>f19421c1d4aa40978ebb69ca19b0e20d</td>\n",
       "      <td>[web, email, mobile, social]</td>\n",
       "      <td>5</td>\n",
       "      <td>5</td>\n",
       "      <td>f19421c1d4aa40978ebb69ca19b0e20d</td>\n",
       "      <td>bogo</td>\n",
       "      <td>5</td>\n",
       "    </tr>\n",
       "    <tr>\n",
       "      <th>1</th>\n",
       "      <td>12651</td>\n",
       "      <td>offer viewed</td>\n",
       "      <td>d1ede868e29245ea91818a903fec04c6</td>\n",
       "      <td>0</td>\n",
       "      <td>{'offer id': '5a8bc65990b245e5a138643cd4eb9837'}</td>\n",
       "      <td>5a8bc65990b245e5a138643cd4eb9837</td>\n",
       "      <td>[email, mobile, social]</td>\n",
       "      <td>0</td>\n",
       "      <td>3</td>\n",
       "      <td>5a8bc65990b245e5a138643cd4eb9837</td>\n",
       "      <td>informational</td>\n",
       "      <td>0</td>\n",
       "    </tr>\n",
       "    <tr>\n",
       "      <th>2</th>\n",
       "      <td>12652</td>\n",
       "      <td>offer viewed</td>\n",
       "      <td>102e9454054946fda62242d2e176fdce</td>\n",
       "      <td>0</td>\n",
       "      <td>{'offer id': '4d5c57ea9a6940dd891ad53e9dbe8da0'}</td>\n",
       "      <td>4d5c57ea9a6940dd891ad53e9dbe8da0</td>\n",
       "      <td>[web, email, mobile, social]</td>\n",
       "      <td>10</td>\n",
       "      <td>5</td>\n",
       "      <td>4d5c57ea9a6940dd891ad53e9dbe8da0</td>\n",
       "      <td>bogo</td>\n",
       "      <td>10</td>\n",
       "    </tr>\n",
       "    <tr>\n",
       "      <th>3</th>\n",
       "      <td>12653</td>\n",
       "      <td>offer viewed</td>\n",
       "      <td>02c083884c7d45b39cc68e1314fec56c</td>\n",
       "      <td>0</td>\n",
       "      <td>{'offer id': 'ae264e3637204a6fb9bb56bc8210ddfd'}</td>\n",
       "      <td>ae264e3637204a6fb9bb56bc8210ddfd</td>\n",
       "      <td>[email, mobile, social]</td>\n",
       "      <td>10</td>\n",
       "      <td>7</td>\n",
       "      <td>ae264e3637204a6fb9bb56bc8210ddfd</td>\n",
       "      <td>bogo</td>\n",
       "      <td>10</td>\n",
       "    </tr>\n",
       "    <tr>\n",
       "      <th>4</th>\n",
       "      <td>12655</td>\n",
       "      <td>offer viewed</td>\n",
       "      <td>be8a5d1981a2458d90b255ddc7e0d174</td>\n",
       "      <td>0</td>\n",
       "      <td>{'offer id': '5a8bc65990b245e5a138643cd4eb9837'}</td>\n",
       "      <td>5a8bc65990b245e5a138643cd4eb9837</td>\n",
       "      <td>[email, mobile, social]</td>\n",
       "      <td>0</td>\n",
       "      <td>3</td>\n",
       "      <td>5a8bc65990b245e5a138643cd4eb9837</td>\n",
       "      <td>informational</td>\n",
       "      <td>0</td>\n",
       "    </tr>\n",
       "  </tbody>\n",
       "</table>\n",
       "</div>"
      ],
      "text/plain": [
       "   index         event                            person  time_view  \\\n",
       "0  12650  offer viewed  389bc3fa690240e798340f5a15918d5c  0           \n",
       "1  12651  offer viewed  d1ede868e29245ea91818a903fec04c6  0           \n",
       "2  12652  offer viewed  102e9454054946fda62242d2e176fdce  0           \n",
       "3  12653  offer viewed  02c083884c7d45b39cc68e1314fec56c  0           \n",
       "4  12655  offer viewed  be8a5d1981a2458d90b255ddc7e0d174  0           \n",
       "\n",
       "                                              value  \\\n",
       "0  {'offer id': 'f19421c1d4aa40978ebb69ca19b0e20d'}   \n",
       "1  {'offer id': '5a8bc65990b245e5a138643cd4eb9837'}   \n",
       "2  {'offer id': '4d5c57ea9a6940dd891ad53e9dbe8da0'}   \n",
       "3  {'offer id': 'ae264e3637204a6fb9bb56bc8210ddfd'}   \n",
       "4  {'offer id': '5a8bc65990b245e5a138643cd4eb9837'}   \n",
       "\n",
       "                           offer_id                      channels  difficulty  \\\n",
       "0  f19421c1d4aa40978ebb69ca19b0e20d  [web, email, mobile, social]  5            \n",
       "1  5a8bc65990b245e5a138643cd4eb9837  [email, mobile, social]       0            \n",
       "2  4d5c57ea9a6940dd891ad53e9dbe8da0  [web, email, mobile, social]  10           \n",
       "3  ae264e3637204a6fb9bb56bc8210ddfd  [email, mobile, social]       10           \n",
       "4  5a8bc65990b245e5a138643cd4eb9837  [email, mobile, social]       0            \n",
       "\n",
       "   duration                                id     offer_type  reward  \n",
       "0  5         f19421c1d4aa40978ebb69ca19b0e20d  bogo           5       \n",
       "1  3         5a8bc65990b245e5a138643cd4eb9837  informational  0       \n",
       "2  5         4d5c57ea9a6940dd891ad53e9dbe8da0  bogo           10      \n",
       "3  7         ae264e3637204a6fb9bb56bc8210ddfd  bogo           10      \n",
       "4  3         5a8bc65990b245e5a138643cd4eb9837  informational  0       "
      ]
     },
     "execution_count": 61,
     "metadata": {},
     "output_type": "execute_result"
    }
   ],
   "source": [
    "offer_viewed_transcript.head()"
   ]
  },
  {
   "cell_type": "markdown",
   "metadata": {},
   "source": [
    "Let's look at the time variable distribution"
   ]
  },
  {
   "cell_type": "code",
   "execution_count": 62,
   "metadata": {},
   "outputs": [
    {
     "data": {
      "image/png": "[encoded data removed]",
      "text/plain": [
       "<matplotlib.figure.Figure at 0x7fa7b33d3a58>"
      ]
     },
     "metadata": {
      "needs_background": "light"
     },
     "output_type": "display_data"
    }
   ],
   "source": [
    "plt.figure(figsize=(20,10))\n",
    "plt.hist(offer_viewed_transcript.time_view, bins=160);"
   ]
  },
  {
   "cell_type": "markdown",
   "metadata": {},
   "source": [
    "Let's check if customer viewed more than one offer at any point of time"
   ]
  },
  {
   "cell_type": "code",
   "execution_count": 63,
   "metadata": {},
   "outputs": [
    {
     "name": "stdout",
     "output_type": "stream",
     "text": [
      "shape of person_time_viewed_freq (57725, 3)\n",
      "\t\n",
      "Distribution of person_time_viewed_freq \b\n",
      "1    57725\n",
      "Name: person_time_viewed_freq, dtype: int64\n"
     ]
    }
   ],
   "source": [
    "# Person Time Frequency\n",
    "person_time_viewed_freq = offer_viewed_transcript.groupby(['person', 'time_view']).size().\\\n",
    "reset_index(name='person_time_viewed_freq')\n",
    "print('shape of person_time_viewed_freq', person_time_viewed_freq.shape)\n",
    "\n",
    "print('\\t')\n",
    "# Printing Frequency of person_time_viewed_freq\n",
    "print('Distribution of person_time_viewed_freq \\b')\n",
    "print(person_time_viewed_freq.person_time_viewed_freq.value_counts())"
   ]
  },
  {
   "cell_type": "markdown",
   "metadata": {},
   "source": [
    "This means that customer has viewed only 1 order at one point of time."
   ]
  },
  {
   "cell_type": "markdown",
   "metadata": {},
   "source": [
    "Let's see how frequency of appearance of person in 'offer viewed' data and compare it with 'offer received' data"
   ]
  },
  {
   "cell_type": "code",
   "execution_count": 64,
   "metadata": {},
   "outputs": [
    {
     "name": "stdout",
     "output_type": "stream",
     "text": [
      "Before Merging:\n",
      "shape of viewed_freq (16834, 2)\n",
      "shape of received_freq (16994, 2)\n",
      "\t\n",
      "After Merging:\n",
      "shape of received_viewed_pattern (16994, 3)\n",
      "\t\n",
      "No of persons with more offer viewed than received = 0\n"
     ]
    }
   ],
   "source": [
    "# viewed_freq\n",
    "viewed_freq = offer_viewed_transcript.groupby(['person']).size().reset_index(name='viewed_freq')\n",
    "print('Before Merging:')\n",
    "print('shape of viewed_freq', viewed_freq.shape)\n",
    "\n",
    "# received_freq\n",
    "received_freq = offer_received_transcript.groupby(['person']).size().reset_index(name='received_freq')\n",
    "print('shape of received_freq', received_freq.shape)\n",
    "\n",
    "print('\\t')\n",
    "# Merging 2 datasets\n",
    "received_viewed_pattern = pd.merge(received_freq, \\\n",
    "                                   viewed_freq, \\\n",
    "                                  left_on='person', \\\n",
    "                                   right_on='person', \\\n",
    "                                   how='left')\n",
    "print('After Merging:')\n",
    "print('shape of received_viewed_pattern', received_viewed_pattern.shape) \n",
    "\n",
    "\n",
    "# Replace Nan with 0\n",
    "received_viewed_pattern.viewed_freq.fillna(0, inplace=True)\n",
    "\n",
    "# Checking if Viewed Freq is greater than received Freq \n",
    "received_viewed_pattern['check_flag'] = received_viewed_pattern['viewed_freq'] > received_viewed_pattern['received_freq']\n",
    "print('\\t')\n",
    "print('No of persons with more offer viewed than received =', sum(received_viewed_pattern.check_flag))"
   ]
  },
  {
   "cell_type": "markdown",
   "metadata": {},
   "source": [
    "This means that no person has viewed more offer than it has received.\n",
    "\n",
    "Lets see how many customers viewed how many offered from all offers received"
   ]
  },
  {
   "cell_type": "code",
   "execution_count": 65,
   "metadata": {},
   "outputs": [
    {
     "name": "stdout",
     "output_type": "stream",
     "text": [
      "0.0    6366\n",
      "1.0    5212\n",
      "2.0    3468\n",
      "3.0    1459\n",
      "4.0    423 \n",
      "5.0    61  \n",
      "6.0    5   \n",
      "Name: check_flag_2, dtype: int64\n",
      "0.0    37.447059\n",
      "1.0    30.658824\n",
      "2.0    20.400000\n",
      "3.0    8.582353 \n",
      "4.0    2.488235 \n",
      "5.0    0.358824 \n",
      "6.0    0.029412 \n",
      "Name: check_flag_2, dtype: float64\n"
     ]
    }
   ],
   "source": [
    "received_viewed_pattern['check_flag_2'] = received_viewed_pattern['received_freq'] - received_viewed_pattern['viewed_freq']\n",
    "\n",
    "print(received_viewed_pattern['check_flag_2'].value_counts());\n",
    "print(received_viewed_pattern['check_flag_2'].value_counts() * 100 / 17000 );\n",
    "# print(\"{0:.0f}%\".format(received_viewed_pattern['check_flag_2'].value_counts()*100/17000))"
   ]
  },
  {
   "cell_type": "markdown",
   "metadata": {},
   "source": [
    "This means that 37% customers viewed all the offers they receieved.\n",
    "\n",
    "For remaining 62% customers, they missed to see the offer they received atleast once. For such scenario where customer did not view the latest offer they received, it would be assumed that offer had no impact on buying pattern."
   ]
  },
  {
   "cell_type": "markdown",
   "metadata": {},
   "source": [
    "Let's link 'offer_received_transcript' data with 'offer_viewed_transcript' to get more insights"
   ]
  },
  {
   "cell_type": "code",
   "execution_count": 66,
   "metadata": {},
   "outputs": [
    {
     "name": "stdout",
     "output_type": "stream",
     "text": [
      "Before adding max date, shape =  (76277, 13)\n",
      "After adding max date, shape =  (76277, 14)\n",
      "After adding lead of time_start, shape =  (76277, 16)\n",
      "After combining offer_viewed_transcript data, shape =  (95321, 26)\n",
      "After applying filter on time_view , shape =  (57725, 26)\n"
     ]
    }
   ],
   "source": [
    "# Step 1\n",
    "# Select max time for each customer\n",
    "max_time_df = transcript.groupby(['person'])['time'].max().reset_index(name = 'max_time')\n",
    "\n",
    "# Step 2\n",
    "# Introduce new column 'time_end' - time at which offer validity ends\n",
    "# and Change time column name\n",
    "offer_received_transcript['time_end'] = offer_received_transcript.time + offer_received_transcript.duration\n",
    "offer_received_transcript.rename(columns={'time': 'time_start'}, inplace=True)\n",
    "\n",
    "# Step 3\n",
    "# Add this max date to offer received data\n",
    "print('Before adding max date, shape = ',offer_received_transcript.shape)\n",
    "offer_received_transcript_1 = pd.merge(offer_received_transcript, \\\n",
    "                                       max_time_df,\n",
    "                                       left_on='person',\n",
    "                                       right_on='person', \n",
    "                                       how='left')\n",
    "print('After adding max date, shape = ',offer_received_transcript_1.shape)\n",
    "\n",
    "\n",
    "# Step 4\n",
    "# Add date lead column\n",
    "\n",
    "offer_received_transcript_2 = offer_received_transcript_1.sort_values(by=['person', 'time_start']).reset_index()\n",
    "offer_received_transcript_2['time_start_next'] = 0\n",
    "\n",
    "for i in range(len(offer_received_transcript_2)-1):\n",
    "    person_now = offer_received_transcript_2.person[i]\n",
    "    person_next = offer_received_transcript_2.person[i+1]\n",
    "    \n",
    "#     In case time_end exceed max_time, max_time should get adjusted\n",
    "    if offer_received_transcript_2['time_end'][i] > offer_received_transcript_2['max_time'][i]:\n",
    "        offer_received_transcript_2.iloc[i, offer_received_transcript_2.columns.get_loc('max_time')] = \\\n",
    "        offer_received_transcript_2['time_end'][i] \n",
    "    \n",
    "    if person_now == person_next:\n",
    "#         offer_received_transcript_2['time_start_next'][i] = offer_received_transcript_2['time_start'][i+1]\n",
    "        offer_received_transcript_2.iloc[i, offer_received_transcript_2.columns.get_loc('time_start_next')] = \\\n",
    "        offer_received_transcript_2['time_start'][i+1]\n",
    "    else:\n",
    "#         offer_received_transcript_2['time_start_next'][i] = offer_received_transcript_2['max_time'][i]\n",
    "        offer_received_transcript_2.iloc[i, offer_received_transcript_2.columns.get_loc('time_start_next')] = \\\n",
    "        offer_received_transcript_2['max_time'][i] + 1\n",
    "    \n",
    "\n",
    "# Step 5\n",
    "# Since Last column is not taken care by the for loop, it is adjusted manually\n",
    "    \n",
    "offer_received_transcript_2.iloc[len(offer_received_transcript_2)-1, \n",
    "                                 offer_received_transcript_2.columns.get_loc('time_start_next')] = \\\n",
    "offer_received_transcript_2['max_time'][len(offer_received_transcript_2)-1]\n",
    "\n",
    "print('After adding lead of time_start, shape = ',offer_received_transcript_2.shape)\n",
    "\n",
    "\n",
    "# Step 6\n",
    "# Combine offer_viewed_transcript data\n",
    "offer_received_transcript_3 = pd.merge(offer_received_transcript_2, \n",
    "                                       offer_viewed_transcript, \n",
    "                                       how='left', \n",
    "                                       on=['person', 'offer_id'], \n",
    "                                       suffixes=(\"_recd\", \"_view\"))\n",
    "print('After combining offer_viewed_transcript data, shape = ',offer_received_transcript_3.shape)\n",
    "\n",
    "\n",
    "# Step 7\n",
    "# Applying filter where view_time is between time at which offer starts and time at which next offer is received by customer\n",
    "offer_received_transcript_4 = offer_received_transcript_3.query('time_view >= time_start and time_view < time_start_next')\n",
    "print('After applying filter on time_view , shape = ',offer_received_transcript_4.shape)\n",
    "\n"
   ]
  },
  {
   "cell_type": "markdown",
   "metadata": {},
   "source": [
    "Checking if merging has happened correctly or not.\n",
    "\n",
    "Here I am checking if index of DF - offer_viewed_transcript are present after merging or not"
   ]
  },
  {
   "cell_type": "code",
   "execution_count": 67,
   "metadata": {},
   "outputs": [
    {
     "name": "stdout",
     "output_type": "stream",
     "text": [
      "57725\n",
      "57725\n",
      "(0,)\n"
     ]
    }
   ],
   "source": [
    "# view_index_orig = offer_viewed_transcript.index.to_series()\n",
    "\n",
    "view_index_orig = offer_viewed_transcript['index']\n",
    "print(len(view_index_orig))\n",
    "\n",
    "view_index_freq_df = offer_received_transcript_4.groupby(['index_view']).size().reset_index(name='freq_of_index_view')\n",
    "view_index_after_merge = view_index_freq_df.index_view\n",
    "print(len(view_index_after_merge))\n",
    "\n",
    "outlier_index = view_index_orig[~view_index_orig.isin(view_index_after_merge)]\n",
    "print(outlier_index.shape)"
   ]
  },
  {
   "cell_type": "markdown",
   "metadata": {},
   "source": [
    "Here 0 means that all rows have been successfully linked with rows of 'offer_received_transcript'"
   ]
  },
  {
   "cell_type": "markdown",
   "metadata": {},
   "source": [
    "Merging rows of 'offer_received_transcript' that were not linked with 'offer_viewed_transcript' with merged dataset"
   ]
  },
  {
   "cell_type": "code",
   "execution_count": 68,
   "metadata": {},
   "outputs": [
    {
     "name": "stdout",
     "output_type": "stream",
     "text": [
      "(57725, 26)\n",
      "(18552, 16)\n",
      "(76277, 26)\n"
     ]
    },
    {
     "name": "stderr",
     "output_type": "stream",
     "text": [
      "/opt/conda/lib/python3.6/site-packages/pandas/core/frame.py:3781: SettingWithCopyWarning: \n",
      "A value is trying to be set on a copy of a slice from a DataFrame\n",
      "\n",
      "See the caveats in the documentation: http://pandas.pydata.org/pandas-docs/stable/indexing.html#indexing-view-versus-copy\n",
      "  return super(DataFrame, self).rename(**kwargs)\n"
     ]
    }
   ],
   "source": [
    "# Count should be 18552\n",
    "\n",
    "# Pulling original Index for received dataframe\n",
    "review_original_index = offer_received_transcript_2['index']\n",
    "\n",
    "# Pulling original index when 'offer received transaction' has been linked with 'offer viewed transaction'\n",
    "review_original_index_after_view_linkage = offer_received_transcript_4['index_recd']\n",
    "\n",
    "# List of index from rows of 'offer received transaction' which could not be linked with 'offer viewed transaction'\n",
    "unlinked_index_list = review_original_index[~review_original_index.isin(review_original_index_after_view_linkage)]\n",
    "\n",
    "# creating dataframe of unlinked received transactions\n",
    "offer_received_transcript_not_linked_with_viewed_df = offer_received_transcript_2.loc[offer_received_transcript_2['index'].isin(unlinked_index_list.tolist())]\n",
    "\n",
    "# Changing columns name to match with column name in df containing rows \n",
    "# from 'offer received transaction' that has been linked with 'offer viewed transaction'\n",
    "offer_received_transcript_not_linked_with_viewed_df.rename(columns={'index' : 'index_recd', \n",
    "                                                                    'event' : 'event_recd', \n",
    "                                                                    'person' : 'person', \n",
    "                                                                    'time_start' : 'time_start',\n",
    "                                                                    'value' : 'value_recd', \n",
    "                                                                    'offer_id' : 'offer_id', \n",
    "                                                                    'channels' : 'channels_recd', \n",
    "                                                                    'difficulty' : 'difficulty_recd', \n",
    "                                                                    'duration' : 'duration_recd',\n",
    "                                                                    'id' : 'id_recd', \n",
    "                                                                    'offer_type' : 'offer_type_recd', \n",
    "                                                                    'reward' : 'reward_recd'}, \n",
    "                                                           inplace=True)\n",
    "\n",
    "# Merging the linked received transactions with unlinked received transactions\n",
    "print(offer_received_transcript_4.shape)\n",
    "print(offer_received_transcript_not_linked_with_viewed_df.shape)\n",
    "\n",
    "\n",
    "offer_received_viewed_transcript = pd.concat([offer_received_transcript_4, offer_received_transcript_not_linked_with_viewed_df]\n",
    "                                             , sort=True)\n",
    "\n",
    "print(offer_received_viewed_transcript.shape)"
   ]
  },
  {
   "cell_type": "markdown",
   "metadata": {},
   "source": [
    "#### Sub-dataset 4: Offer Completed Data"
   ]
  },
  {
   "cell_type": "code",
   "execution_count": 69,
   "metadata": {},
   "outputs": [],
   "source": [
    "# Filter out data where offer was received by customer\n",
    "offer_completed_transcript = transcript.loc[transcript.event == 'offer completed'].reset_index()\n",
    "\n",
    "# Extract Offer Id\n",
    "offer_completed_transcript['offer_id'] = [d.get(\"offer_id\") for d in offer_completed_transcript.value]\n",
    "\n",
    "# Merge Offer details (df - portfolio) with filtered data\n",
    "offer_completed_transcript = pd.merge(offer_completed_transcript, portfolio, left_on= 'offer_id', right_on='id',how='left')\n",
    "\n",
    "# Rename columns appropriately\n",
    "offer_completed_transcript.rename(columns={'time': 'time_completed'}, inplace=True)\n",
    "offer_completed_transcript.rename(columns={'index': 'index_completed'}, inplace=True)"
   ]
  },
  {
   "cell_type": "markdown",
   "metadata": {},
   "source": [
    "Checking duplicate records and cleaning dataset to remove duplicates"
   ]
  },
  {
   "cell_type": "code",
   "execution_count": 70,
   "metadata": {},
   "outputs": [
    {
     "name": "stdout",
     "output_type": "stream",
     "text": [
      "Before data cleansing\n",
      "duplicate_count\n",
      "1    32786\n",
      "2    395  \n",
      "3    1    \n",
      "dtype: int64\n",
      "After data cleansing\n",
      "duplicate_count\n",
      "1    33182\n",
      "dtype: int64\n"
     ]
    }
   ],
   "source": [
    "duplicate_records = offer_completed_transcript.pivot_table(index = ['person', \n",
    "                                                                    'time_completed', \n",
    "                                                                    'offer_id'], \n",
    "                                                           aggfunc ='size').reset_index(name='duplicate_count')\n",
    "\n",
    "print('Before data cleansing')\n",
    "print(duplicate_records.groupby(['duplicate_count']).size())\n",
    "\n",
    "\n",
    "offer_completed_transcript_deduplicated = offer_completed_transcript.drop_duplicates(subset=['person', \n",
    "                                                                                             'time_completed', \n",
    "                                                                                             'offer_id'], \n",
    "                                                                                     keep='first')\n",
    "\n",
    "duplicate_records_after = offer_completed_transcript_deduplicated.pivot_table(index = ['person', \n",
    "                                                                    'time_completed', \n",
    "                                                                    'offer_id'], \n",
    "                                                           aggfunc ='size').reset_index(name='duplicate_count')\n",
    "\n",
    "print('After data cleansing')\n",
    "print(duplicate_records_after.groupby(['duplicate_count']).size())"
   ]
  },
  {
   "cell_type": "markdown",
   "metadata": {},
   "source": [
    "Deduplication complete"
   ]
  },
  {
   "cell_type": "markdown",
   "metadata": {},
   "source": [
    "Now, lets do some quality checking of this new dataset.\n",
    "\n",
    "Check 1: No of customers covered"
   ]
  },
  {
   "cell_type": "code",
   "execution_count": 71,
   "metadata": {},
   "outputs": [
    {
     "data": {
      "text/plain": [
       "12774"
      ]
     },
     "execution_count": 71,
     "metadata": {},
     "output_type": "execute_result"
    }
   ],
   "source": [
    "offer_completed_transcript.person.nunique()"
   ]
  },
  {
   "cell_type": "markdown",
   "metadata": {},
   "source": [
    "Lets merge completed data with earlier created dataset - 'offer_received_viewed_transcript'"
   ]
  },
  {
   "cell_type": "code",
   "execution_count": 72,
   "metadata": {},
   "outputs": [
    {
     "name": "stdout",
     "output_type": "stream",
     "text": [
      "After merging shape of offer_received_viewed_transcript_1 (85520, 36)\n",
      "After filtering shape of offer_received_viewed_transcript_2 (28318, 36)\n"
     ]
    }
   ],
   "source": [
    "# Step 1\n",
    "# Merge the datasets\n",
    "offer_received_viewed_transcript_1 = pd.merge(offer_received_viewed_transcript, \n",
    "                                       offer_completed_transcript_deduplicated, \n",
    "                                       how='left', \n",
    "                                       on=['person', 'offer_id'], \n",
    "                                       suffixes=(\"\", \"_comp\"))\n",
    "print('After merging shape of offer_received_viewed_transcript_1', offer_received_viewed_transcript_1.shape)\n",
    "\n",
    "# Step 2\n",
    "# Filter the dataset\n",
    "\n",
    "offer_received_viewed_transcript_2 = offer_received_viewed_transcript_1.\\\n",
    "query('time_completed >= time_start and time_completed < time_start_next')\n",
    "print('After filtering shape of offer_received_viewed_transcript_2', offer_received_viewed_transcript_2.shape)"
   ]
  },
  {
   "cell_type": "markdown",
   "metadata": {},
   "source": [
    "Data Cleansing\n",
    "\n",
    "Step 1 - Checking frequency of index from 'offer_received_transcript'"
   ]
  },
  {
   "cell_type": "code",
   "execution_count": 73,
   "metadata": {},
   "outputs": [
    {
     "data": {
      "text/html": [
       "<div>\n",
       "<style scoped>\n",
       "    .dataframe tbody tr th:only-of-type {\n",
       "        vertical-align: middle;\n",
       "    }\n",
       "\n",
       "    .dataframe tbody tr th {\n",
       "        vertical-align: top;\n",
       "    }\n",
       "\n",
       "    .dataframe thead th {\n",
       "        text-align: right;\n",
       "    }\n",
       "</style>\n",
       "<table border=\"1\" class=\"dataframe\">\n",
       "  <thead>\n",
       "    <tr style=\"text-align: right;\">\n",
       "      <th></th>\n",
       "      <th>freq_of_index_recd</th>\n",
       "      <th>freq_of_freq_of_index_recd</th>\n",
       "    </tr>\n",
       "  </thead>\n",
       "  <tbody>\n",
       "    <tr>\n",
       "      <th>0</th>\n",
       "      <td>1</td>\n",
       "      <td>28202</td>\n",
       "    </tr>\n",
       "    <tr>\n",
       "      <th>1</th>\n",
       "      <td>2</td>\n",
       "      <td>58</td>\n",
       "    </tr>\n",
       "  </tbody>\n",
       "</table>\n",
       "</div>"
      ],
      "text/plain": [
       "   freq_of_index_recd  freq_of_freq_of_index_recd\n",
       "0  1                   28202                     \n",
       "1  2                   58                        "
      ]
     },
     "execution_count": 73,
     "metadata": {},
     "output_type": "execute_result"
    }
   ],
   "source": [
    "offer_received_viewed_transcript_2.groupby(['index_recd']).size().reset_index(name='freq_of_index_recd').groupby(['freq_of_index_recd']).size().reset_index(name='freq_of_freq_of_index_recd')"
   ]
  },
  {
   "cell_type": "code",
   "execution_count": 74,
   "metadata": {},
   "outputs": [
    {
     "data": {
      "text/plain": [
       "index_completed_freq\n",
       "1    28318\n",
       "dtype: int64"
      ]
     },
     "execution_count": 74,
     "metadata": {},
     "output_type": "execute_result"
    }
   ],
   "source": [
    "offer_received_viewed_transcript_2.groupby(['index_completed']).size().reset_index(name='index_completed_freq').groupby(['index_completed_freq']).size()"
   ]
  },
  {
   "cell_type": "markdown",
   "metadata": {},
   "source": [
    "There are 58 rows with duplicate index from 'offer received' and no duplicates in index from 'offer completed'.\n",
    "\n",
    "This means that received rows have been linked with completed rows twice."
   ]
  },
  {
   "cell_type": "markdown",
   "metadata": {},
   "source": [
    "Use case for investigation"
   ]
  },
  {
   "cell_type": "code",
   "execution_count": 75,
   "metadata": {},
   "outputs": [],
   "source": [
    "offer_received_viewed_transcript_2.groupby(['index_recd']).size().reset_index(name='freq_of_index_recd').query('freq_of_index_recd == 2');"
   ]
  },
  {
   "cell_type": "code",
   "execution_count": 76,
   "metadata": {},
   "outputs": [
    {
     "data": {
      "text/html": [
       "<div>\n",
       "<style scoped>\n",
       "    .dataframe tbody tr th:only-of-type {\n",
       "        vertical-align: middle;\n",
       "    }\n",
       "\n",
       "    .dataframe tbody tr th {\n",
       "        vertical-align: top;\n",
       "    }\n",
       "\n",
       "    .dataframe thead th {\n",
       "        text-align: right;\n",
       "    }\n",
       "</style>\n",
       "<table border=\"1\" class=\"dataframe\">\n",
       "  <thead>\n",
       "    <tr style=\"text-align: right;\">\n",
       "      <th></th>\n",
       "      <th>time_start</th>\n",
       "      <th>time_end</th>\n",
       "      <th>time_view</th>\n",
       "      <th>time_completed</th>\n",
       "      <th>index_recd</th>\n",
       "      <th>index_view</th>\n",
       "      <th>index_completed</th>\n",
       "      <th>id</th>\n",
       "    </tr>\n",
       "  </thead>\n",
       "  <tbody>\n",
       "    <tr>\n",
       "      <th>30915</th>\n",
       "      <td>336</td>\n",
       "      <td>343</td>\n",
       "      <td>336.0</td>\n",
       "      <td>378.0</td>\n",
       "      <td>112253</td>\n",
       "      <td>123971.0</td>\n",
       "      <td>141788.0</td>\n",
       "      <td>ae264e3637204a6fb9bb56bc8210ddfd</td>\n",
       "    </tr>\n",
       "    <tr>\n",
       "      <th>75059</th>\n",
       "      <td>168</td>\n",
       "      <td>178</td>\n",
       "      <td>NaN</td>\n",
       "      <td>180.0</td>\n",
       "      <td>54615</td>\n",
       "      <td>NaN</td>\n",
       "      <td>72472.0</td>\n",
       "      <td>0b1e1539f2cc45b7b9fa7c272da2e1d7</td>\n",
       "    </tr>\n",
       "    <tr>\n",
       "      <th>75060</th>\n",
       "      <td>168</td>\n",
       "      <td>178</td>\n",
       "      <td>NaN</td>\n",
       "      <td>240.0</td>\n",
       "      <td>54615</td>\n",
       "      <td>NaN</td>\n",
       "      <td>92289.0</td>\n",
       "      <td>0b1e1539f2cc45b7b9fa7c272da2e1d7</td>\n",
       "    </tr>\n",
       "  </tbody>\n",
       "</table>\n",
       "</div>"
      ],
      "text/plain": [
       "       time_start  time_end  time_view  time_completed  index_recd  \\\n",
       "30915  336         343       336.0      378.0           112253       \n",
       "75059  168         178      NaN         180.0           54615        \n",
       "75060  168         178      NaN         240.0           54615        \n",
       "\n",
       "       index_view  index_completed                                id  \n",
       "30915  123971.0    141788.0         ae264e3637204a6fb9bb56bc8210ddfd  \n",
       "75059 NaN          72472.0          0b1e1539f2cc45b7b9fa7c272da2e1d7  \n",
       "75060 NaN          92289.0          0b1e1539f2cc45b7b9fa7c272da2e1d7  "
      ]
     },
     "execution_count": 76,
     "metadata": {},
     "output_type": "execute_result"
    }
   ],
   "source": [
    "# 54615\n",
    "\n",
    "# offer_received_viewed_transcript_2.loc[offer_received_viewed_transcript_2.index_recd == 54615]['person']\n",
    "# person = '7954b384115343c3acba5b745d8c5a5e'\n",
    "\n",
    "offer_received_viewed_transcript_2.loc[offer_received_viewed_transcript_2.person == '7954b384115343c3acba5b745d8c5a5e']\\\n",
    "[['time_start', 'time_end', 'time_view','time_completed', 'index_recd', 'index_view', 'index_completed', 'id']]"
   ]
  },
  {
   "cell_type": "markdown",
   "metadata": {},
   "source": [
    "Investigation shows that there could be multiple instances where a customer could register a event - 'offer completed'\n",
    "\n",
    "We need to consider only first instance of this."
   ]
  },
  {
   "cell_type": "code",
   "execution_count": 77,
   "metadata": {},
   "outputs": [],
   "source": [
    "# To get first instance when customer register the event offer completed \n",
    "offer_received_viewed_transcript_3 = offer_received_viewed_transcript_2.drop_duplicates(subset=['index_recd',\n",
    "                                                                                                'index_view',],\n",
    "                                                                                        keep='first')"
   ]
  },
  {
   "cell_type": "code",
   "execution_count": 78,
   "metadata": {},
   "outputs": [
    {
     "data": {
      "text/html": [
       "<div>\n",
       "<style scoped>\n",
       "    .dataframe tbody tr th:only-of-type {\n",
       "        vertical-align: middle;\n",
       "    }\n",
       "\n",
       "    .dataframe tbody tr th {\n",
       "        vertical-align: top;\n",
       "    }\n",
       "\n",
       "    .dataframe thead th {\n",
       "        text-align: right;\n",
       "    }\n",
       "</style>\n",
       "<table border=\"1\" class=\"dataframe\">\n",
       "  <thead>\n",
       "    <tr style=\"text-align: right;\">\n",
       "      <th></th>\n",
       "      <th>freq_of_index_recd</th>\n",
       "      <th>freq_offreq_of_index_recd</th>\n",
       "    </tr>\n",
       "  </thead>\n",
       "  <tbody>\n",
       "    <tr>\n",
       "      <th>0</th>\n",
       "      <td>1</td>\n",
       "      <td>28260</td>\n",
       "    </tr>\n",
       "  </tbody>\n",
       "</table>\n",
       "</div>"
      ],
      "text/plain": [
       "   freq_of_index_recd  freq_offreq_of_index_recd\n",
       "0  1                   28260                    "
      ]
     },
     "execution_count": 78,
     "metadata": {},
     "output_type": "execute_result"
    }
   ],
   "source": [
    "offer_received_viewed_transcript_3.groupby(['index_recd']).size().reset_index(name='freq_of_index_recd').\\\n",
    "groupby(['freq_of_index_recd']).size().reset_index(name='freq_offreq_of_index_recd')"
   ]
  },
  {
   "cell_type": "code",
   "execution_count": 79,
   "metadata": {},
   "outputs": [
    {
     "data": {
      "text/html": [
       "<div>\n",
       "<style scoped>\n",
       "    .dataframe tbody tr th:only-of-type {\n",
       "        vertical-align: middle;\n",
       "    }\n",
       "\n",
       "    .dataframe tbody tr th {\n",
       "        vertical-align: top;\n",
       "    }\n",
       "\n",
       "    .dataframe thead th {\n",
       "        text-align: right;\n",
       "    }\n",
       "</style>\n",
       "<table border=\"1\" class=\"dataframe\">\n",
       "  <thead>\n",
       "    <tr style=\"text-align: right;\">\n",
       "      <th></th>\n",
       "      <th>freq_of_index_completed</th>\n",
       "      <th>freq_of_freq_of_index_completed</th>\n",
       "    </tr>\n",
       "  </thead>\n",
       "  <tbody>\n",
       "    <tr>\n",
       "      <th>0</th>\n",
       "      <td>1</td>\n",
       "      <td>28260</td>\n",
       "    </tr>\n",
       "  </tbody>\n",
       "</table>\n",
       "</div>"
      ],
      "text/plain": [
       "   freq_of_index_completed  freq_of_freq_of_index_completed\n",
       "0  1                        28260                          "
      ]
     },
     "execution_count": 79,
     "metadata": {},
     "output_type": "execute_result"
    }
   ],
   "source": [
    "offer_received_viewed_transcript_3.groupby(['index_completed']).size().reset_index(name='freq_of_index_completed').\\\n",
    "groupby(['freq_of_index_completed']).size().reset_index(name='freq_of_freq_of_index_completed')"
   ]
  },
  {
   "cell_type": "markdown",
   "metadata": {},
   "source": [
    "This now shows that offer completed trancripts have been accurately linked with other events."
   ]
  },
  {
   "cell_type": "markdown",
   "metadata": {},
   "source": [
    "Next Step is to merge records from 'offer_received_viewed_transcript' which could not be linked with 'offer_complete_transcript' with recors which could be linked"
   ]
  },
  {
   "cell_type": "code",
   "execution_count": 80,
   "metadata": {},
   "outputs": [
    {
     "name": "stdout",
     "output_type": "stream",
     "text": [
      "76277\n",
      "28260\n",
      "48017\n",
      "(48017, 26)\n",
      "(28260, 36)\n",
      "(48017, 26)\n",
      "(76277, 36)\n"
     ]
    },
    {
     "name": "stderr",
     "output_type": "stream",
     "text": [
      "/opt/conda/lib/python3.6/site-packages/pandas/core/frame.py:3781: SettingWithCopyWarning: \n",
      "A value is trying to be set on a copy of a slice from a DataFrame\n",
      "\n",
      "See the caveats in the documentation: http://pandas.pydata.org/pandas-docs/stable/indexing.html#indexing-view-versus-copy\n",
      "  return super(DataFrame, self).rename(**kwargs)\n"
     ]
    }
   ],
   "source": [
    "# Count should be 28684\n",
    "\n",
    "# Pulling original Index for received dataframe\n",
    "completed_original_index = offer_received_viewed_transcript['index_recd']\n",
    "print(len(completed_original_index))\n",
    "\n",
    "# Pulling original index when 'offer received transaction' has been linked with 'offer viewed transaction'\n",
    "completed_original_index_after_linkage = offer_received_viewed_transcript_3['index_recd']\n",
    "print(len(completed_original_index_after_linkage))\n",
    "\n",
    "# List of index from rows of 'offer received transaction' which could not be linked with 'offer viewed transaction'\n",
    "unlinked_index_list = completed_original_index[~completed_original_index.isin(completed_original_index_after_linkage)]\n",
    "print(len(unlinked_index_list))\n",
    "\n",
    "# creating dataframe of unlinked received+viewed transactions\n",
    "offer_received_view_transcript_not_linked_with_comp_df = offer_received_viewed_transcript.\\\n",
    "loc[offer_received_viewed_transcript['index_recd'].isin(unlinked_index_list.tolist())]\n",
    "print(offer_received_view_transcript_not_linked_with_comp_df.shape)\n",
    "\n",
    "# Changing columns name to match with column name in df containing rows \n",
    "# from 'offer received viewed transaction' that has been linked with 'offer completed transaction'\n",
    "offer_received_view_transcript_not_linked_with_comp_df.rename(columns={'event' : 'event_comp', \n",
    "                                                                       'person' : 'person', \n",
    "                                                                       'time_start' : 'time_start',\n",
    "                                                                       'value' : 'value_comp',  \n",
    "                                                                       'channels' : 'channels_comp', \n",
    "                                                                       'difficulty' : 'difficulty_comp', \n",
    "                                                                       'duration' : 'duration_comp',\n",
    "                                                                       'id' : 'id_comp', \n",
    "                                                                       'offer_type' : 'offer_type_comp', \n",
    "                                                                       'reward' : 'reward_comp'}, \n",
    "                                                              inplace=True)\n",
    "\n",
    "# Merging the linked received transactions with unlinked received transactions\n",
    "print(offer_received_viewed_transcript_3.shape)\n",
    "print(offer_received_view_transcript_not_linked_with_comp_df.shape)\n",
    "\n",
    "\n",
    "offer_received_viewed_completed_transcript = pd.concat([offer_received_viewed_transcript_3, \n",
    "                                                        offer_received_view_transcript_not_linked_with_comp_df], \n",
    "                                                       sort=True,\n",
    "                                                       ignore_index=True)\n",
    "\n",
    "print(offer_received_viewed_completed_transcript.shape)"
   ]
  },
  {
   "cell_type": "markdown",
   "metadata": {},
   "source": [
    "A final Check"
   ]
  },
  {
   "cell_type": "code",
   "execution_count": 81,
   "metadata": {},
   "outputs": [
    {
     "data": {
      "text/html": [
       "<div>\n",
       "<style scoped>\n",
       "    .dataframe tbody tr th:only-of-type {\n",
       "        vertical-align: middle;\n",
       "    }\n",
       "\n",
       "    .dataframe tbody tr th {\n",
       "        vertical-align: top;\n",
       "    }\n",
       "\n",
       "    .dataframe thead th {\n",
       "        text-align: right;\n",
       "    }\n",
       "</style>\n",
       "<table border=\"1\" class=\"dataframe\">\n",
       "  <thead>\n",
       "    <tr style=\"text-align: right;\">\n",
       "      <th></th>\n",
       "      <th>freq_of_index_recd</th>\n",
       "      <th>freq_offreq_of_index_recd</th>\n",
       "    </tr>\n",
       "  </thead>\n",
       "  <tbody>\n",
       "    <tr>\n",
       "      <th>0</th>\n",
       "      <td>1</td>\n",
       "      <td>76277</td>\n",
       "    </tr>\n",
       "  </tbody>\n",
       "</table>\n",
       "</div>"
      ],
      "text/plain": [
       "   freq_of_index_recd  freq_offreq_of_index_recd\n",
       "0  1                   76277                    "
      ]
     },
     "execution_count": 81,
     "metadata": {},
     "output_type": "execute_result"
    }
   ],
   "source": [
    "offer_received_viewed_completed_transcript.groupby(['index_recd']).size().reset_index(name='freq_of_index_recd').\\\n",
    "groupby(['freq_of_index_recd']).size().reset_index(name='freq_offreq_of_index_recd')"
   ]
  },
  {
   "cell_type": "code",
   "execution_count": 82,
   "metadata": {},
   "outputs": [
    {
     "data": {
      "text/html": [
       "<div>\n",
       "<style scoped>\n",
       "    .dataframe tbody tr th:only-of-type {\n",
       "        vertical-align: middle;\n",
       "    }\n",
       "\n",
       "    .dataframe tbody tr th {\n",
       "        vertical-align: top;\n",
       "    }\n",
       "\n",
       "    .dataframe thead th {\n",
       "        text-align: right;\n",
       "    }\n",
       "</style>\n",
       "<table border=\"1\" class=\"dataframe\">\n",
       "  <thead>\n",
       "    <tr style=\"text-align: right;\">\n",
       "      <th></th>\n",
       "      <th>freq_of_index_view</th>\n",
       "      <th>freq_offreq_of_index_view</th>\n",
       "    </tr>\n",
       "  </thead>\n",
       "  <tbody>\n",
       "    <tr>\n",
       "      <th>0</th>\n",
       "      <td>1</td>\n",
       "      <td>57725</td>\n",
       "    </tr>\n",
       "  </tbody>\n",
       "</table>\n",
       "</div>"
      ],
      "text/plain": [
       "   freq_of_index_view  freq_offreq_of_index_view\n",
       "0  1                   57725                    "
      ]
     },
     "execution_count": 82,
     "metadata": {},
     "output_type": "execute_result"
    }
   ],
   "source": [
    "offer_received_viewed_completed_transcript.groupby(['index_view']).size().reset_index(name='freq_of_index_view').\\\n",
    "groupby(['freq_of_index_view']).size().reset_index(name='freq_offreq_of_index_view')"
   ]
  },
  {
   "cell_type": "code",
   "execution_count": 83,
   "metadata": {},
   "outputs": [
    {
     "data": {
      "text/html": [
       "<div>\n",
       "<style scoped>\n",
       "    .dataframe tbody tr th:only-of-type {\n",
       "        vertical-align: middle;\n",
       "    }\n",
       "\n",
       "    .dataframe tbody tr th {\n",
       "        vertical-align: top;\n",
       "    }\n",
       "\n",
       "    .dataframe thead th {\n",
       "        text-align: right;\n",
       "    }\n",
       "</style>\n",
       "<table border=\"1\" class=\"dataframe\">\n",
       "  <thead>\n",
       "    <tr style=\"text-align: right;\">\n",
       "      <th></th>\n",
       "      <th>freq_of_index_completed</th>\n",
       "      <th>freq_offreq_of_index_completed</th>\n",
       "    </tr>\n",
       "  </thead>\n",
       "  <tbody>\n",
       "    <tr>\n",
       "      <th>0</th>\n",
       "      <td>1</td>\n",
       "      <td>28260</td>\n",
       "    </tr>\n",
       "  </tbody>\n",
       "</table>\n",
       "</div>"
      ],
      "text/plain": [
       "   freq_of_index_completed  freq_offreq_of_index_completed\n",
       "0  1                        28260                         "
      ]
     },
     "execution_count": 83,
     "metadata": {},
     "output_type": "execute_result"
    }
   ],
   "source": [
    "offer_received_viewed_completed_transcript.groupby(['index_completed']).size().reset_index(name='freq_of_index_completed').\\\n",
    "groupby(['freq_of_index_completed']).size().reset_index(name='freq_offreq_of_index_completed')"
   ]
  },
  {
   "cell_type": "markdown",
   "metadata": {},
   "source": [
    "Above 3 cells shows that we have successfully completed linking received, viewed and completed transactions.\n",
    "\n",
    "There are only unique values of indexes.\n",
    "\n",
    "Here I have used indexed as identifier for rows from all 3 tables."
   ]
  },
  {
   "cell_type": "markdown",
   "metadata": {},
   "source": [
    "#### Linking data with Transactions data"
   ]
  },
  {
   "cell_type": "markdown",
   "metadata": {},
   "source": [
    "Step 1 - Creating Flag highlighting if campaign is completed or not"
   ]
  },
  {
   "cell_type": "code",
   "execution_count": 84,
   "metadata": {},
   "outputs": [
    {
     "data": {
      "text/plain": [
       "0.0    74615\n",
       "1.0    1662 \n",
       "Name: campaign_completed, dtype: int64"
      ]
     },
     "execution_count": 84,
     "metadata": {},
     "output_type": "execute_result"
    }
   ],
   "source": [
    "offer_received_viewed_completed_transcript['campaign_completed'] = 0\n",
    "\n",
    "length = len(offer_received_viewed_completed_transcript)\n",
    "\n",
    "for i in range(length):\n",
    "    time_view_i = offer_received_viewed_completed_transcript.time_view[i]\n",
    "    time_end_i = offer_received_viewed_completed_transcript.time_end[i]\n",
    "    time_completed_i = offer_received_viewed_completed_transcript.time_completed[i]\n",
    "    \n",
    "    \n",
    "    if (time_view_i <= time_end_i) & (time_completed_i <= time_end_i) & (pd.isna(time_completed_i) != 1) & (pd.isna(time_end_i) != 1):\n",
    "        offer_received_viewed_completed_transcript.iloc[i, offer_received_viewed_completed_transcript.columns.get_loc('campaign_completed')] = 1\n",
    "        \n",
    "\n",
    "offer_received_viewed_completed_transcript['campaign_completed'] = offer_received_viewed_completed_transcript['campaign_completed'].astype(float)\n",
    "        \n",
    "offer_received_viewed_completed_transcript.campaign_completed.value_counts()"
   ]
  },
  {
   "cell_type": "markdown",
   "metadata": {},
   "source": [
    "#### Feature Creation\n",
    "\n",
    "I have completed the data exploration and data cleaning process. I have created tables with valid rows and removed any rows that does not make sense as per campaign.\n",
    "\n",
    "Now we are moving to feature creation part before developing any kind of ML model."
   ]
  },
  {
   "cell_type": "markdown",
   "metadata": {},
   "source": [
    "To create any features, I need to merge transactions data with offer data."
   ]
  },
  {
   "cell_type": "code",
   "execution_count": 85,
   "metadata": {},
   "outputs": [
    {
     "name": "stdout",
     "output_type": "stream",
     "text": [
      "transaction_transcript (138953, 6)\n",
      "transaction_transcript_1 (138953, 7)\n",
      "transaction_transcript_2 (138953, 8)\n"
     ]
    }
   ],
   "source": [
    "# Renaming index column to create identifier for transaction rows as well\n",
    "transaction_transcript.rename(columns={'index': 'index_tran'}, inplace=True)\n",
    "\n",
    "# Getting Max and Min time of transaction per customer\n",
    "min_time = transaction_transcript.groupby(['person'])['time'].min().reset_index(name='min_time')\n",
    "max_time = transaction_transcript.groupby(['person'])['time'].max().reset_index(name='max_time')\n",
    "\n",
    "\n",
    "# Merging Max and Min time to transaction trascript\n",
    "print('transaction_transcript', transaction_transcript.shape)\n",
    "transaction_transcript_1 = pd.merge(transaction_transcript, min_time, on='person', how='left')\n",
    "print('transaction_transcript_1', transaction_transcript_1.shape)\n",
    "\n",
    "\n",
    "transaction_transcript_2 = pd.merge(transaction_transcript_1, max_time, on='person', how='left')\n",
    "print('transaction_transcript_2', transaction_transcript_2.shape)"
   ]
  },
  {
   "cell_type": "code",
   "execution_count": 86,
   "metadata": {},
   "outputs": [
    {
     "name": "stdout",
     "output_type": "stream",
     "text": [
      "offer_received_viewed_completed_transcript (76277, 37)\n",
      "offer_received_viewed_completed_transcript_1 (76277, 38)\n",
      "offer_received_viewed_completed_transcript_2 (76277, 39)\n"
     ]
    }
   ],
   "source": [
    "# Getting Max and Min time from offer transcript per customer\n",
    "min_time_offer = offer_received_viewed_completed_transcript.groupby(['person'])['time_start'].min().reset_index(name='min_offer_time_start')\n",
    "max_time_offer = offer_received_viewed_completed_transcript.groupby(['person'])['time_start'].max().reset_index(name='max_offer_time_start')\n",
    "\n",
    "print('offer_received_viewed_completed_transcript', offer_received_viewed_completed_transcript.shape)\n",
    "offer_received_viewed_completed_transcript_1 = pd.merge(offer_received_viewed_completed_transcript, min_time_offer, on='person', how='left')\n",
    "print('offer_received_viewed_completed_transcript_1', offer_received_viewed_completed_transcript_1.shape)\n",
    "\n",
    "\n",
    "offer_received_viewed_completed_transcript_2 = pd.merge(offer_received_viewed_completed_transcript_1, max_time_offer, on='person', how='left')\n",
    "print('offer_received_viewed_completed_transcript_2', offer_received_viewed_completed_transcript_2.shape)"
   ]
  },
  {
   "cell_type": "code",
   "execution_count": 87,
   "metadata": {},
   "outputs": [
    {
     "name": "stdout",
     "output_type": "stream",
     "text": [
      "offer_person_time (76277, 5)\n",
      "transaction_transcript (138953, 6)\n",
      "transaction_transcript_merged (638479, 12)\n",
      "transaction_transcript_merged_1 (133397, 12)\n",
      "transaction_transcript_merged_2 (133397, 47)\n"
     ]
    }
   ],
   "source": [
    "# For merging, we first need 'time_start' that can be linked with time of transaction\n",
    "# Selecting Required columns from offer data\n",
    "offer_person_time = offer_received_viewed_completed_transcript_2[['person', \n",
    "                                                                  'time_start', \n",
    "                                                                  'time_start_next',\n",
    "                                                                  'min_offer_time_start',\n",
    "                                                                  'max_offer_time_start']]\n",
    "print('offer_person_time',offer_person_time.shape)\n",
    "print('transaction_transcript',transaction_transcript.shape)\n",
    "\n",
    "# Merging Transactions with offer data\n",
    "transaction_transcript_merged = pd.merge(transaction_transcript_2, \n",
    "                                         offer_person_time, \n",
    "                                         on='person',\n",
    "                                         how='left')\n",
    "\n",
    "print('transaction_transcript_merged',transaction_transcript_merged.shape)\n",
    "\n",
    "\n",
    "# Filtering only columns which are transaction time is between 2 offer received dates.\n",
    "transaction_transcript_merged_1 = transaction_transcript_merged.query('(time >= time_start) & (time > min_offer_time_start) & (time < time_start_next)')\n",
    "print('transaction_transcript_merged_1',transaction_transcript_merged_1.shape)\n",
    "\n",
    "\n",
    "# Merging tranaction with offer_received_viewed_completed_transcript \n",
    "transaction_transcript_merged_2 = pd.merge(transaction_transcript_merged_1, \n",
    "                                           offer_received_viewed_completed_transcript, \n",
    "                                           on=['person', 'time_start'], \n",
    "                                           how='left', \n",
    "                                           suffixes=('_tran', ''))\n",
    "print('transaction_transcript_merged_2',transaction_transcript_merged_2.shape)"
   ]
  },
  {
   "cell_type": "markdown",
   "metadata": {},
   "source": [
    "Defining a flag if transaction is between offer period or not"
   ]
  },
  {
   "cell_type": "code",
   "execution_count": 88,
   "metadata": {},
   "outputs": [
    {
     "data": {
      "text/plain": [
       "0.0    125484\n",
       "1.0    7913  \n",
       "Name: within_offer_period, dtype: int64"
      ]
     },
     "execution_count": 88,
     "metadata": {},
     "output_type": "execute_result"
    }
   ],
   "source": [
    "transaction_transcript_merged_2['within_offer_period'] = 0.0\n",
    "\n",
    "for i in range(len(transaction_transcript_merged_2)):\n",
    "    \n",
    "    time_i = transaction_transcript_merged_2.time[i]\n",
    "    time_end_i = transaction_transcript_merged_2.time_end[i]\n",
    "    \n",
    "    if time_i <= time_end_i:\n",
    "        transaction_transcript_merged_2.iloc[i, transaction_transcript_merged_2.columns.get_loc('within_offer_period')] = 1.0\n",
    "        \n",
    "# transaction_transcript_merged_2['within_offer_period'] = transaction_transcript_merged_2['within_offer_period'].astype(float)\n",
    "        \n",
    "transaction_transcript_merged_2.within_offer_period.value_counts(dropna=False)"
   ]
  },
  {
   "cell_type": "markdown",
   "metadata": {},
   "source": [
    "Defining a flag if transaction is viewed or not"
   ]
  },
  {
   "cell_type": "code",
   "execution_count": 89,
   "metadata": {},
   "outputs": [
    {
     "data": {
      "text/plain": [
       "0.0    94857\n",
       "1.0    38540\n",
       "Name: offer_viewed, dtype: int64"
      ]
     },
     "execution_count": 89,
     "metadata": {},
     "output_type": "execute_result"
    }
   ],
   "source": [
    "transaction_transcript_merged_2['offer_viewed'] = 0.0\n",
    "\n",
    "for i in range(len(transaction_transcript_merged_2)):\n",
    "    \n",
    "    time_view_i = transaction_transcript_merged_2.time_view[i]\n",
    "    time_end_i = transaction_transcript_merged_2.time_end[i]\n",
    "    \n",
    "    if (time_view_i <= time_end_i) & (pd.isna(time_view_i) != 1):\n",
    "        transaction_transcript_merged_2.iloc[i, transaction_transcript_merged_2.columns.get_loc('offer_viewed')] = 1.0\n",
    "        \n",
    "# transaction_transcript_merged_2['within_offer_period'] = transaction_transcript_merged_2['within_offer_period'].astype(float)\n",
    "        \n",
    "transaction_transcript_merged_2.offer_viewed.value_counts(dropna=False)"
   ]
  },
  {
   "cell_type": "markdown",
   "metadata": {},
   "source": [
    "Next Step is to merge records from 'transaction_transcript_merged_2' which could not be linked with 'offer_received_viewed_completed_transcript' with records which could be linked"
   ]
  },
  {
   "cell_type": "code",
   "execution_count": 90,
   "metadata": {},
   "outputs": [
    {
     "name": "stdout",
     "output_type": "stream",
     "text": [
      "133397\n",
      "138953\n",
      "5556\n",
      "5556\n",
      "(138953, 49)\n"
     ]
    },
    {
     "name": "stderr",
     "output_type": "stream",
     "text": [
      "/opt/conda/lib/python3.6/site-packages/pandas/core/frame.py:3781: SettingWithCopyWarning: \n",
      "A value is trying to be set on a copy of a slice from a DataFrame\n",
      "\n",
      "See the caveats in the documentation: http://pandas.pydata.org/pandas-docs/stable/indexing.html#indexing-view-versus-copy\n",
      "  return super(DataFrame, self).rename(**kwargs)\n"
     ]
    }
   ],
   "source": [
    "index_tran_included = transaction_transcript_merged_1['index_tran']\n",
    "print(index_tran_included.nunique())\n",
    "\n",
    "index_tran_all = transaction_transcript_merged['index_tran']\n",
    "print(index_tran_all.nunique())\n",
    "\n",
    "index_tran_excluded = index_tran_all[~index_tran_all.isin(index_tran_included)]\n",
    "print(index_tran_excluded.nunique())\n",
    "\n",
    "\n",
    "transaction_transcript_unlinked = transaction_transcript.\\\n",
    "loc[transaction_transcript['index_tran'].isin(index_tran_excluded.tolist())]\n",
    "print(transaction_transcript_unlinked.index_tran.nunique())\n",
    "\n",
    "transaction_transcript_unlinked.rename(columns={'event': 'event_tran', \n",
    "                                                'value': 'value_tran'}, \n",
    "                                       inplace=True)\n",
    "\n",
    "\n",
    "transaction_transcript_merged_complete = pd.concat([transaction_transcript_merged_2, \n",
    "                                                        transaction_transcript_unlinked], \n",
    "                                                       sort=True,\n",
    "                                                       ignore_index=True)\n",
    "\n",
    "print(transaction_transcript_merged_complete.shape)"
   ]
  },
  {
   "cell_type": "markdown",
   "metadata": {},
   "source": [
    "Quality Check"
   ]
  },
  {
   "cell_type": "code",
   "execution_count": 91,
   "metadata": {},
   "outputs": [
    {
     "data": {
      "text/html": [
       "<div>\n",
       "<style scoped>\n",
       "    .dataframe tbody tr th:only-of-type {\n",
       "        vertical-align: middle;\n",
       "    }\n",
       "\n",
       "    .dataframe tbody tr th {\n",
       "        vertical-align: top;\n",
       "    }\n",
       "\n",
       "    .dataframe thead th {\n",
       "        text-align: right;\n",
       "    }\n",
       "</style>\n",
       "<table border=\"1\" class=\"dataframe\">\n",
       "  <thead>\n",
       "    <tr style=\"text-align: right;\">\n",
       "      <th></th>\n",
       "      <th>freq_of_index_tran</th>\n",
       "      <th>freq_of_freq_of_index_tran</th>\n",
       "    </tr>\n",
       "  </thead>\n",
       "  <tbody>\n",
       "    <tr>\n",
       "      <th>0</th>\n",
       "      <td>1</td>\n",
       "      <td>138953</td>\n",
       "    </tr>\n",
       "  </tbody>\n",
       "</table>\n",
       "</div>"
      ],
      "text/plain": [
       "   freq_of_index_tran  freq_of_freq_of_index_tran\n",
       "0  1                   138953                    "
      ]
     },
     "execution_count": 91,
     "metadata": {},
     "output_type": "execute_result"
    }
   ],
   "source": [
    "transaction_transcript_merged_complete.groupby(['index_tran']).size().reset_index(name='freq_of_index_tran').groupby(['freq_of_index_tran']).size().reset_index(name='freq_of_freq_of_index_tran')"
   ]
  },
  {
   "cell_type": "markdown",
   "metadata": {},
   "source": [
    "Merging is successful"
   ]
  },
  {
   "cell_type": "code",
   "execution_count": 92,
   "metadata": {},
   "outputs": [],
   "source": [
    "# transaction_transcript_merged_complete.to_csv('transaction_transcript_merged_complete.csv')"
   ]
  },
  {
   "cell_type": "markdown",
   "metadata": {},
   "source": [
    "#### Creating Feature Table"
   ]
  },
  {
   "cell_type": "markdown",
   "metadata": {},
   "source": [
    "Feature 1: Average spending in offer period vs Average spending outside offer period."
   ]
  },
  {
   "cell_type": "markdown",
   "metadata": {},
   "source": [
    "1. Average Spent"
   ]
  },
  {
   "cell_type": "code",
   "execution_count": 93,
   "metadata": {},
   "outputs": [],
   "source": [
    "avg_spent_per_person = transaction_transcript_merged_complete.groupby(['person']).transaction_amount.mean().reset_index(name='avg_tran_amount')"
   ]
  },
  {
   "cell_type": "code",
   "execution_count": 94,
   "metadata": {},
   "outputs": [
    {
     "data": {
      "text/html": [
       "<div>\n",
       "<style scoped>\n",
       "    .dataframe tbody tr th:only-of-type {\n",
       "        vertical-align: middle;\n",
       "    }\n",
       "\n",
       "    .dataframe tbody tr th {\n",
       "        vertical-align: top;\n",
       "    }\n",
       "\n",
       "    .dataframe thead th {\n",
       "        text-align: right;\n",
       "    }\n",
       "</style>\n",
       "<table border=\"1\" class=\"dataframe\">\n",
       "  <thead>\n",
       "    <tr style=\"text-align: right;\">\n",
       "      <th></th>\n",
       "      <th>person</th>\n",
       "      <th>avg_tran_amount</th>\n",
       "    </tr>\n",
       "  </thead>\n",
       "  <tbody>\n",
       "    <tr>\n",
       "      <th>0</th>\n",
       "      <td>0009655768c64bdeb2e877511632db8f</td>\n",
       "      <td>15.950000</td>\n",
       "    </tr>\n",
       "    <tr>\n",
       "      <th>1</th>\n",
       "      <td>00116118485d4dfda04fdbaba9a87b5c</td>\n",
       "      <td>1.363333</td>\n",
       "    </tr>\n",
       "    <tr>\n",
       "      <th>2</th>\n",
       "      <td>0011e0d4e6b944f998e987f904e8c1e5</td>\n",
       "      <td>15.892000</td>\n",
       "    </tr>\n",
       "    <tr>\n",
       "      <th>3</th>\n",
       "      <td>0020c2b971eb4e9188eac86d93036a77</td>\n",
       "      <td>24.607500</td>\n",
       "    </tr>\n",
       "    <tr>\n",
       "      <th>4</th>\n",
       "      <td>0020ccbbb6d84e358d3414a3ff76cffd</td>\n",
       "      <td>12.837500</td>\n",
       "    </tr>\n",
       "  </tbody>\n",
       "</table>\n",
       "</div>"
      ],
      "text/plain": [
       "                             person  avg_tran_amount\n",
       "0  0009655768c64bdeb2e877511632db8f  15.950000      \n",
       "1  00116118485d4dfda04fdbaba9a87b5c  1.363333       \n",
       "2  0011e0d4e6b944f998e987f904e8c1e5  15.892000      \n",
       "3  0020c2b971eb4e9188eac86d93036a77  24.607500      \n",
       "4  0020ccbbb6d84e358d3414a3ff76cffd  12.837500      "
      ]
     },
     "execution_count": 94,
     "metadata": {},
     "output_type": "execute_result"
    }
   ],
   "source": [
    "avg_spent_per_person.head()"
   ]
  },
  {
   "cell_type": "markdown",
   "metadata": {},
   "source": [
    "2. Number of Transactions"
   ]
  },
  {
   "cell_type": "code",
   "execution_count": 95,
   "metadata": {},
   "outputs": [],
   "source": [
    "tran_count_per_customer = transaction_transcript_merged_complete.groupby(['person']).person.count().reset_index(name='tran_count')"
   ]
  },
  {
   "cell_type": "markdown",
   "metadata": {},
   "source": [
    "3. Average Spent per offer received by customer"
   ]
  },
  {
   "cell_type": "code",
   "execution_count": 96,
   "metadata": {},
   "outputs": [],
   "source": [
    "transaction_transcript_merged_complete_grouped = \\\n",
    "transaction_transcript_merged_complete.groupby(['person', \n",
    "                                                'id_recd', \n",
    "                                                'duration_recd',\n",
    "                                                'time_start', \n",
    "                                                'campaign_completed', \n",
    "                                                'offer_viewed',\n",
    "                                                'difficulty_recd', \n",
    "                                                'reward_recd' ,\n",
    "                                                'offer_type_recd']).transaction_amount.mean().reset_index(name='avg_transaction_amount')\n",
    "\n",
    "\n",
    "# rows count = 56340"
   ]
  },
  {
   "cell_type": "code",
   "execution_count": 97,
   "metadata": {},
   "outputs": [],
   "source": [
    "transaction_transcript_merged_complete_grouped_1 = pd.merge(transaction_transcript_merged_complete_grouped,\n",
    "                                                            portfolio[['id', 'channels']], \n",
    "                                                            left_on='id_recd', \n",
    "                                                            right_on = 'id', \n",
    "                                                            how='left')\n",
    "\n",
    "\n",
    "# Create dummy variables for channels\n",
    "# There are 4 type of channels: email, mobile, social and web.\n",
    "\n",
    "transaction_transcript_merged_complete_grouped_1['email'] = transaction_transcript_merged_complete_grouped_1.channels.\\\n",
    "apply(lambda x: 1 if 'email' in x else 0)\n",
    "\n",
    "transaction_transcript_merged_complete_grouped_1['mobile'] = transaction_transcript_merged_complete_grouped_1.channels.\\\n",
    "apply(lambda x: 1 if 'mobile' in x else 0)\n",
    "\n",
    "transaction_transcript_merged_complete_grouped_1['social'] = transaction_transcript_merged_complete_grouped_1.channels.\\\n",
    "apply(lambda x: 1 if 'social' in x else 0)\n",
    "\n",
    "transaction_transcript_merged_complete_grouped_1['web'] = transaction_transcript_merged_complete_grouped_1.channels.\\\n",
    "apply(lambda x: 1 if 'web' in x else 0)\n",
    "\n",
    "\n",
    "transaction_transcript_merged_complete_grouped_1.rename(columns={'duration_recd' : 'duration', \n",
    "                                                                 'difficulty_recd': 'difficulty', \n",
    "                                                                 'reward_recd' : 'reward', \n",
    "                                                                 'offer_type_recd': 'offer_type'}, inplace=True)\n",
    "\n",
    "# Merging avg_tran_amount and tran_count\n",
    "transaction_transcript_merged_complete_grouped_2 = pd.merge(transaction_transcript_merged_complete_grouped_1,\n",
    "                                                            avg_spent_per_person, \n",
    "                                                            on='person', \n",
    "                                                            how='left')\n",
    "\n",
    "transaction_transcript_merged_complete_grouped_3 = pd.merge(transaction_transcript_merged_complete_grouped_2,\n",
    "                                                            tran_count_per_customer, \n",
    "                                                            on='person', \n",
    "                                                            how='left')\n"
   ]
  },
  {
   "cell_type": "markdown",
   "metadata": {},
   "source": [
    "4. Average spent durig offer validity period"
   ]
  },
  {
   "cell_type": "code",
   "execution_count": 98,
   "metadata": {},
   "outputs": [
    {
     "name": "stdout",
     "output_type": "stream",
     "text": [
      "trn_offer_period_avg_value (62356, 7)\n",
      "trn_within_offer_period_and_completed (1505, 7)\n",
      "trn_within_offer_period_and_completed_1 (1505, 8)\n"
     ]
    }
   ],
   "source": [
    "trn_offer_period_avg_value = transaction_transcript_merged_complete\\\n",
    "                            .groupby(['person', 'id_recd', 'time_start','within_offer_period', 'campaign_completed', 'offer_viewed'])\\\n",
    "                            .transaction_amount.mean().reset_index(name='avg_tran_amount_in_offer')\n",
    "print('trn_offer_period_avg_value', trn_offer_period_avg_value.shape)\n",
    "\n",
    "trn_within_offer_period_and_completed = trn_offer_period_avg_value.query('within_offer_period == 1 & campaign_completed == 1')\n",
    "print('trn_within_offer_period_and_completed', trn_within_offer_period_and_completed.shape)\n",
    "\n",
    "trn_within_offer_period_and_completed_1 = pd.merge(trn_within_offer_period_and_completed, \n",
    "                                                   avg_spent_per_person, how='left', on=['person'])\n",
    "print('trn_within_offer_period_and_completed_1', trn_within_offer_period_and_completed_1.shape)"
   ]
  },
  {
   "cell_type": "code",
   "execution_count": 99,
   "metadata": {},
   "outputs": [
    {
     "data": {
      "text/html": [
       "<div>\n",
       "<style scoped>\n",
       "    .dataframe tbody tr th:only-of-type {\n",
       "        vertical-align: middle;\n",
       "    }\n",
       "\n",
       "    .dataframe tbody tr th {\n",
       "        vertical-align: top;\n",
       "    }\n",
       "\n",
       "    .dataframe thead th {\n",
       "        text-align: right;\n",
       "    }\n",
       "</style>\n",
       "<table border=\"1\" class=\"dataframe\">\n",
       "  <thead>\n",
       "    <tr style=\"text-align: right;\">\n",
       "      <th></th>\n",
       "      <th>person</th>\n",
       "      <th>id_recd</th>\n",
       "      <th>time_start</th>\n",
       "      <th>within_offer_period</th>\n",
       "      <th>campaign_completed</th>\n",
       "      <th>offer_viewed</th>\n",
       "      <th>avg_tran_amount_in_offer</th>\n",
       "    </tr>\n",
       "  </thead>\n",
       "  <tbody>\n",
       "    <tr>\n",
       "      <th>0</th>\n",
       "      <td>0009655768c64bdeb2e877511632db8f</td>\n",
       "      <td>2906b810c7d4411798c6938adc9daaa5</td>\n",
       "      <td>576.0</td>\n",
       "      <td>0.0</td>\n",
       "      <td>0.0</td>\n",
       "      <td>0.0</td>\n",
       "      <td>19.643333</td>\n",
       "    </tr>\n",
       "    <tr>\n",
       "      <th>1</th>\n",
       "      <td>0009655768c64bdeb2e877511632db8f</td>\n",
       "      <td>2906b810c7d4411798c6938adc9daaa5</td>\n",
       "      <td>576.0</td>\n",
       "      <td>1.0</td>\n",
       "      <td>0.0</td>\n",
       "      <td>0.0</td>\n",
       "      <td>10.270000</td>\n",
       "    </tr>\n",
       "    <tr>\n",
       "      <th>2</th>\n",
       "      <td>0009655768c64bdeb2e877511632db8f</td>\n",
       "      <td>5a8bc65990b245e5a138643cd4eb9837</td>\n",
       "      <td>168.0</td>\n",
       "      <td>0.0</td>\n",
       "      <td>0.0</td>\n",
       "      <td>0.0</td>\n",
       "      <td>22.160000</td>\n",
       "    </tr>\n",
       "    <tr>\n",
       "      <th>3</th>\n",
       "      <td>0009655768c64bdeb2e877511632db8f</td>\n",
       "      <td>f19421c1d4aa40978ebb69ca19b0e20d</td>\n",
       "      <td>408.0</td>\n",
       "      <td>0.0</td>\n",
       "      <td>0.0</td>\n",
       "      <td>0.0</td>\n",
       "      <td>8.570000</td>\n",
       "    </tr>\n",
       "    <tr>\n",
       "      <th>4</th>\n",
       "      <td>0009655768c64bdeb2e877511632db8f</td>\n",
       "      <td>fafdcd668e3743c1bb461111dcafc2a4</td>\n",
       "      <td>504.0</td>\n",
       "      <td>0.0</td>\n",
       "      <td>0.0</td>\n",
       "      <td>0.0</td>\n",
       "      <td>13.835000</td>\n",
       "    </tr>\n",
       "  </tbody>\n",
       "</table>\n",
       "</div>"
      ],
      "text/plain": [
       "                             person                           id_recd  \\\n",
       "0  0009655768c64bdeb2e877511632db8f  2906b810c7d4411798c6938adc9daaa5   \n",
       "1  0009655768c64bdeb2e877511632db8f  2906b810c7d4411798c6938adc9daaa5   \n",
       "2  0009655768c64bdeb2e877511632db8f  5a8bc65990b245e5a138643cd4eb9837   \n",
       "3  0009655768c64bdeb2e877511632db8f  f19421c1d4aa40978ebb69ca19b0e20d   \n",
       "4  0009655768c64bdeb2e877511632db8f  fafdcd668e3743c1bb461111dcafc2a4   \n",
       "\n",
       "   time_start  within_offer_period  campaign_completed  offer_viewed  \\\n",
       "0  576.0       0.0                  0.0                 0.0            \n",
       "1  576.0       1.0                  0.0                 0.0            \n",
       "2  168.0       0.0                  0.0                 0.0            \n",
       "3  408.0       0.0                  0.0                 0.0            \n",
       "4  504.0       0.0                  0.0                 0.0            \n",
       "\n",
       "   avg_tran_amount_in_offer  \n",
       "0  19.643333                 \n",
       "1  10.270000                 \n",
       "2  22.160000                 \n",
       "3  8.570000                  \n",
       "4  13.835000                 "
      ]
     },
     "execution_count": 99,
     "metadata": {},
     "output_type": "execute_result"
    }
   ],
   "source": [
    "trn_offer_period_avg_value.head()"
   ]
  },
  {
   "cell_type": "markdown",
   "metadata": {},
   "source": [
    "Defining binary classifier - 'offer_success' as 1 where average transaction amount for offer period is greater than average transaction amount for entire period"
   ]
  },
  {
   "cell_type": "code",
   "execution_count": 100,
   "metadata": {},
   "outputs": [],
   "source": [
    "trn_within_offer_period_and_completed_1['offer_success'] = 0.0\n",
    "\n",
    "for i in range(len(trn_within_offer_period_and_completed_1)):\n",
    "    if trn_within_offer_period_and_completed_1['avg_tran_amount_in_offer'][i] > \\\n",
    "    trn_within_offer_period_and_completed_1['avg_tran_amount'][i]:\n",
    "        trn_within_offer_period_and_completed_1\\\n",
    "        .iloc[i, trn_within_offer_period_and_completed_1.columns.get_loc('offer_success')] = 1.0"
   ]
  },
  {
   "cell_type": "code",
   "execution_count": 101,
   "metadata": {},
   "outputs": [
    {
     "data": {
      "text/plain": [
       "1.0    773\n",
       "0.0    732\n",
       "Name: offer_success, dtype: int64"
      ]
     },
     "execution_count": 101,
     "metadata": {},
     "output_type": "execute_result"
    }
   ],
   "source": [
    "trn_within_offer_period_and_completed_1['offer_success'].value_counts()"
   ]
  },
  {
   "cell_type": "markdown",
   "metadata": {},
   "source": [
    "Merging this binary classifier with grouped data."
   ]
  },
  {
   "cell_type": "code",
   "execution_count": 102,
   "metadata": {},
   "outputs": [],
   "source": [
    "trn_within_offer_period_and_completed_2 = trn_within_offer_period_and_completed_1[['person', \n",
    "                                                                                   'id_recd', \n",
    "                                                                                   'time_start', \n",
    "                                                                                   'offer_success']]"
   ]
  },
  {
   "cell_type": "code",
   "execution_count": 103,
   "metadata": {},
   "outputs": [],
   "source": [
    "transaction_offer_relation = pd.merge(transaction_transcript_merged_complete_grouped_3,\n",
    "                                      trn_within_offer_period_and_completed_2, \n",
    "                                      on = ['person', 'time_start'], \n",
    "                                      how='left')"
   ]
  },
  {
   "cell_type": "code",
   "execution_count": 104,
   "metadata": {},
   "outputs": [
    {
     "data": {
      "text/plain": [
       "NaN     54835\n",
       " 1.0    773  \n",
       " 0.0    732  \n",
       "Name: offer_success, dtype: int64"
      ]
     },
     "execution_count": 104,
     "metadata": {},
     "output_type": "execute_result"
    }
   ],
   "source": [
    "transaction_offer_relation.offer_success.value_counts(dropna=False)"
   ]
  },
  {
   "cell_type": "markdown",
   "metadata": {},
   "source": [
    "Merging Profile data with transaction_offer_relation"
   ]
  },
  {
   "cell_type": "code",
   "execution_count": 105,
   "metadata": {},
   "outputs": [
    {
     "name": "stdout",
     "output_type": "stream",
     "text": [
      "transaction_offer_relation (56340, 20)\n",
      "transaction_offer_person_relation (56340, 27)\n"
     ]
    }
   ],
   "source": [
    "print('transaction_offer_relation', transaction_offer_relation.shape)\n",
    "\n",
    "transaction_offer_person_relation = pd.merge(transaction_offer_relation, \n",
    "                                             profile, \n",
    "                                             left_on='person', \n",
    "                                             right_on='id', \n",
    "                                             how='left')\n",
    "\n",
    "print('transaction_offer_person_relation', transaction_offer_person_relation.shape)"
   ]
  },
  {
   "cell_type": "markdown",
   "metadata": {},
   "source": [
    "Removing record where customer demographic data is missing"
   ]
  },
  {
   "cell_type": "code",
   "execution_count": 106,
   "metadata": {},
   "outputs": [
    {
     "name": "stdout",
     "output_type": "stream",
     "text": [
      "(49629, 28)\n"
     ]
    }
   ],
   "source": [
    "transaction_offer_person_relation_1 = transaction_offer_person_relation.query('age != 118').reset_index()\n",
    "\n",
    "print(transaction_offer_person_relation_1.shape)"
   ]
  },
  {
   "cell_type": "code",
   "execution_count": 107,
   "metadata": {},
   "outputs": [
    {
     "data": {
      "text/plain": [
       "NaN     48143\n",
       " 1.0    756  \n",
       " 0.0    730  \n",
       "Name: offer_success, dtype: int64"
      ]
     },
     "execution_count": 107,
     "metadata": {},
     "output_type": "execute_result"
    }
   ],
   "source": [
    "transaction_offer_person_relation_1.offer_success.value_counts(dropna=False)"
   ]
  },
  {
   "cell_type": "markdown",
   "metadata": {},
   "source": [
    "Final Data cleaning Step"
   ]
  },
  {
   "cell_type": "code",
   "execution_count": 108,
   "metadata": {},
   "outputs": [],
   "source": [
    "# Dropping variables that would not be required\n",
    "transaction_offer_person_relation_2 = transaction_offer_person_relation_1.drop(columns=['person', \n",
    "                                                                                        'id_recd_x', \n",
    "                                                                                        'time_start',\n",
    "                                                                                        'campaign_completed',\n",
    "                                                                                        'offer_viewed',\n",
    "                                                                                        'avg_transaction_amount',\n",
    "                                                                                        'id_x',\n",
    "                                                                                        'id_recd_y', \n",
    "                                                                                        'became_member_on', \n",
    "                                                                                        'id_y', \n",
    "                                                                                        'channels','index'])"
   ]
  },
  {
   "cell_type": "code",
   "execution_count": 109,
   "metadata": {},
   "outputs": [],
   "source": [
    "transaction_offer_person_relation_3 = pd.get_dummies(transaction_offer_person_relation_2,\n",
    "                                                     columns=['offer_type', 'gender'])\n",
    "\n",
    "\n",
    "transaction_offer_person_relation_3.offer_success.fillna(0, inplace=True)"
   ]
  },
  {
   "cell_type": "code",
   "execution_count": 110,
   "metadata": {},
   "outputs": [
    {
     "data": {
      "text/plain": [
       "0.0    48873\n",
       "1.0    756  \n",
       "Name: offer_success, dtype: int64"
      ]
     },
     "execution_count": 110,
     "metadata": {},
     "output_type": "execute_result"
    }
   ],
   "source": [
    "transaction_offer_person_relation_3.offer_success.value_counts()"
   ]
  },
  {
   "cell_type": "markdown",
   "metadata": {},
   "source": [
    "Final dataset for modelling created - transaction_offer_person_relation_3"
   ]
  },
  {
   "cell_type": "code",
   "execution_count": 111,
   "metadata": {},
   "outputs": [
    {
     "data": {
      "text/html": [
       "<div>\n",
       "<style scoped>\n",
       "    .dataframe tbody tr th:only-of-type {\n",
       "        vertical-align: middle;\n",
       "    }\n",
       "\n",
       "    .dataframe tbody tr th {\n",
       "        vertical-align: top;\n",
       "    }\n",
       "\n",
       "    .dataframe thead th {\n",
       "        text-align: right;\n",
       "    }\n",
       "</style>\n",
       "<table border=\"1\" class=\"dataframe\">\n",
       "  <thead>\n",
       "    <tr style=\"text-align: right;\">\n",
       "      <th></th>\n",
       "      <th>duration</th>\n",
       "      <th>difficulty</th>\n",
       "      <th>reward</th>\n",
       "      <th>email</th>\n",
       "      <th>mobile</th>\n",
       "      <th>social</th>\n",
       "      <th>web</th>\n",
       "      <th>avg_tran_amount</th>\n",
       "      <th>tran_count</th>\n",
       "      <th>offer_success</th>\n",
       "      <th>age</th>\n",
       "      <th>income</th>\n",
       "      <th>became_member_on_year</th>\n",
       "      <th>cust_assoc_days</th>\n",
       "      <th>offer_type_bogo</th>\n",
       "      <th>offer_type_discount</th>\n",
       "      <th>offer_type_informational</th>\n",
       "      <th>gender_F</th>\n",
       "      <th>gender_M</th>\n",
       "      <th>gender_O</th>\n",
       "    </tr>\n",
       "  </thead>\n",
       "  <tbody>\n",
       "    <tr>\n",
       "      <th>0</th>\n",
       "      <td>7.0</td>\n",
       "      <td>10.0</td>\n",
       "      <td>2.0</td>\n",
       "      <td>1</td>\n",
       "      <td>1</td>\n",
       "      <td>0</td>\n",
       "      <td>1</td>\n",
       "      <td>15.950</td>\n",
       "      <td>8</td>\n",
       "      <td>0.0</td>\n",
       "      <td>33</td>\n",
       "      <td>72000.0</td>\n",
       "      <td>2017</td>\n",
       "      <td>461</td>\n",
       "      <td>0</td>\n",
       "      <td>1</td>\n",
       "      <td>0</td>\n",
       "      <td>0</td>\n",
       "      <td>1</td>\n",
       "      <td>0</td>\n",
       "    </tr>\n",
       "    <tr>\n",
       "      <th>1</th>\n",
       "      <td>3.0</td>\n",
       "      <td>0.0</td>\n",
       "      <td>0.0</td>\n",
       "      <td>1</td>\n",
       "      <td>1</td>\n",
       "      <td>1</td>\n",
       "      <td>0</td>\n",
       "      <td>15.950</td>\n",
       "      <td>8</td>\n",
       "      <td>0.0</td>\n",
       "      <td>33</td>\n",
       "      <td>72000.0</td>\n",
       "      <td>2017</td>\n",
       "      <td>461</td>\n",
       "      <td>0</td>\n",
       "      <td>0</td>\n",
       "      <td>1</td>\n",
       "      <td>0</td>\n",
       "      <td>1</td>\n",
       "      <td>0</td>\n",
       "    </tr>\n",
       "    <tr>\n",
       "      <th>2</th>\n",
       "      <td>5.0</td>\n",
       "      <td>5.0</td>\n",
       "      <td>5.0</td>\n",
       "      <td>1</td>\n",
       "      <td>1</td>\n",
       "      <td>1</td>\n",
       "      <td>1</td>\n",
       "      <td>15.950</td>\n",
       "      <td>8</td>\n",
       "      <td>0.0</td>\n",
       "      <td>33</td>\n",
       "      <td>72000.0</td>\n",
       "      <td>2017</td>\n",
       "      <td>461</td>\n",
       "      <td>1</td>\n",
       "      <td>0</td>\n",
       "      <td>0</td>\n",
       "      <td>0</td>\n",
       "      <td>1</td>\n",
       "      <td>0</td>\n",
       "    </tr>\n",
       "    <tr>\n",
       "      <th>3</th>\n",
       "      <td>10.0</td>\n",
       "      <td>10.0</td>\n",
       "      <td>2.0</td>\n",
       "      <td>1</td>\n",
       "      <td>1</td>\n",
       "      <td>1</td>\n",
       "      <td>1</td>\n",
       "      <td>15.950</td>\n",
       "      <td>8</td>\n",
       "      <td>0.0</td>\n",
       "      <td>33</td>\n",
       "      <td>72000.0</td>\n",
       "      <td>2017</td>\n",
       "      <td>461</td>\n",
       "      <td>0</td>\n",
       "      <td>1</td>\n",
       "      <td>0</td>\n",
       "      <td>0</td>\n",
       "      <td>1</td>\n",
       "      <td>0</td>\n",
       "    </tr>\n",
       "    <tr>\n",
       "      <th>4</th>\n",
       "      <td>7.0</td>\n",
       "      <td>7.0</td>\n",
       "      <td>3.0</td>\n",
       "      <td>1</td>\n",
       "      <td>1</td>\n",
       "      <td>1</td>\n",
       "      <td>1</td>\n",
       "      <td>15.892</td>\n",
       "      <td>5</td>\n",
       "      <td>0.0</td>\n",
       "      <td>40</td>\n",
       "      <td>57000.0</td>\n",
       "      <td>2018</td>\n",
       "      <td>198</td>\n",
       "      <td>0</td>\n",
       "      <td>1</td>\n",
       "      <td>0</td>\n",
       "      <td>0</td>\n",
       "      <td>0</td>\n",
       "      <td>1</td>\n",
       "    </tr>\n",
       "  </tbody>\n",
       "</table>\n",
       "</div>"
      ],
      "text/plain": [
       "   duration  difficulty  reward  email  mobile  social  web  avg_tran_amount  \\\n",
       "0  7.0       10.0        2.0     1      1       0       1    15.950            \n",
       "1  3.0       0.0         0.0     1      1       1       0    15.950            \n",
       "2  5.0       5.0         5.0     1      1       1       1    15.950            \n",
       "3  10.0      10.0        2.0     1      1       1       1    15.950            \n",
       "4  7.0       7.0         3.0     1      1       1       1    15.892            \n",
       "\n",
       "   tran_count  offer_success  age   income  became_member_on_year  \\\n",
       "0  8           0.0            33   72000.0  2017                    \n",
       "1  8           0.0            33   72000.0  2017                    \n",
       "2  8           0.0            33   72000.0  2017                    \n",
       "3  8           0.0            33   72000.0  2017                    \n",
       "4  5           0.0            40   57000.0  2018                    \n",
       "\n",
       "   cust_assoc_days  offer_type_bogo  offer_type_discount  \\\n",
       "0  461              0                1                     \n",
       "1  461              0                0                     \n",
       "2  461              1                0                     \n",
       "3  461              0                1                     \n",
       "4  198              0                1                     \n",
       "\n",
       "   offer_type_informational  gender_F  gender_M  gender_O  \n",
       "0  0                         0         1         0         \n",
       "1  1                         0         1         0         \n",
       "2  0                         0         1         0         \n",
       "3  0                         0         1         0         \n",
       "4  0                         0         0         1         "
      ]
     },
     "execution_count": 111,
     "metadata": {},
     "output_type": "execute_result"
    }
   ],
   "source": [
    "transaction_offer_person_relation_3.head()"
   ]
  },
  {
   "cell_type": "code",
   "execution_count": 112,
   "metadata": {},
   "outputs": [],
   "source": [
    "# transaction_offer_person_relation_3.to_csv('transaction_offer_person_relation_3.csv')"
   ]
  },
  {
   "cell_type": "markdown",
   "metadata": {},
   "source": [
    "### Modelling Work"
   ]
  },
  {
   "cell_type": "markdown",
   "metadata": {},
   "source": [
    "Defining X and Y"
   ]
  },
  {
   "cell_type": "code",
   "execution_count": 113,
   "metadata": {},
   "outputs": [],
   "source": [
    "X = transaction_offer_person_relation_3.drop(columns=['offer_success'])\n",
    "Y = transaction_offer_person_relation_3['offer_success']"
   ]
  },
  {
   "cell_type": "code",
   "execution_count": 114,
   "metadata": {},
   "outputs": [
    {
     "data": {
      "text/plain": [
       "0.0    48873\n",
       "1.0    756  \n",
       "Name: offer_success, dtype: int64"
      ]
     },
     "execution_count": 114,
     "metadata": {},
     "output_type": "execute_result"
    }
   ],
   "source": [
    "Y.value_counts()\n",
    "# *100 / len(Y)"
   ]
  },
  {
   "cell_type": "markdown",
   "metadata": {},
   "source": [
    "Splitting the X and Y for train and test"
   ]
  },
  {
   "cell_type": "code",
   "execution_count": 115,
   "metadata": {},
   "outputs": [],
   "source": [
    "from sklearn.model_selection import train_test_split\n",
    "X_train, X_test, Y_train, Y_test = train_test_split(X, Y, random_state=42, test_size=0.2)"
   ]
  },
  {
   "cell_type": "code",
   "execution_count": 116,
   "metadata": {},
   "outputs": [
    {
     "name": "stdout",
     "output_type": "stream",
     "text": [
      "X (49629, 19)\n",
      "X_train (39703, 19)\n",
      "X_test (9926, 19)\n"
     ]
    }
   ],
   "source": [
    "print('X', X.shape)\n",
    "print('X_train', X_train.shape)\n",
    "print('X_test', X_test.shape)"
   ]
  },
  {
   "cell_type": "code",
   "execution_count": 117,
   "metadata": {},
   "outputs": [
    {
     "data": {
      "text/plain": [
       "0.0    98.503891\n",
       "1.0    1.496109 \n",
       "Name: offer_success, dtype: float64"
      ]
     },
     "execution_count": 117,
     "metadata": {},
     "output_type": "execute_result"
    }
   ],
   "source": [
    "Y_train.value_counts()*100 / len(Y_train)"
   ]
  },
  {
   "cell_type": "code",
   "execution_count": 118,
   "metadata": {},
   "outputs": [
    {
     "data": {
      "text/plain": [
       "0.0    98.367923\n",
       "1.0    1.632077 \n",
       "Name: offer_success, dtype: float64"
      ]
     },
     "execution_count": 118,
     "metadata": {},
     "output_type": "execute_result"
    }
   ],
   "source": [
    "Y_test.value_counts()*100 / len(Y_test)"
   ]
  },
  {
   "cell_type": "code",
   "execution_count": 119,
   "metadata": {},
   "outputs": [
    {
     "data": {
      "text/plain": [
       "0.0    9764\n",
       "1.0    162 \n",
       "Name: offer_success, dtype: int64"
      ]
     },
     "execution_count": 119,
     "metadata": {},
     "output_type": "execute_result"
    }
   ],
   "source": [
    "Y_test.value_counts()"
   ]
  },
  {
   "cell_type": "markdown",
   "metadata": {},
   "source": [
    "As we can see that "
   ]
  },
  {
   "cell_type": "markdown",
   "metadata": {},
   "source": [
    "Defining Performance Monitoring Function"
   ]
  },
  {
   "cell_type": "code",
   "execution_count": 120,
   "metadata": {},
   "outputs": [],
   "source": [
    "def confusion_metrics (conf_matrix):\n",
    "# save confusion matrix and slice into four pieces\n",
    "    TP = conf_matrix[1][1]\n",
    "    TN = conf_matrix[0][0]\n",
    "    FP = conf_matrix[0][1]\n",
    "    FN = conf_matrix[1][0]\n",
    "    print('True Positives:', TP)\n",
    "    print('True Negatives:', TN)\n",
    "    print('False Positives:', FP)\n",
    "    print('False Negatives:', FN)\n",
    "    \n",
    "    # calculate accuracy\n",
    "    conf_accuracy = (float (TP+TN) / float(TP + TN + FP + FN))\n",
    "    \n",
    "    # calculate mis-classification\n",
    "    conf_misclassification = 1- conf_accuracy\n",
    "    \n",
    "    # calculate the sensitivity\n",
    "    conf_sensitivity = (TP / float(TP + FN))\n",
    "    # calculate the specificity\n",
    "    conf_specificity = (TN / float(TN + FP))\n",
    "    \n",
    "    # calculate precision\n",
    "    conf_precision = (TN / float(TN + FP))\n",
    "    # calculate f_1 score\n",
    "    conf_f1 = 2 * ((conf_precision * conf_sensitivity) / (conf_precision + conf_sensitivity))\n",
    "    print('-'*50)\n",
    "    print(f'Accuracy: {round(conf_accuracy,10)}') \n",
    "    print(f'Mis-Classification: {round(conf_misclassification,2)}') \n",
    "    print(f'Sensitivity: {round(conf_sensitivity,2)}') \n",
    "    print(f'Specificity: {round(conf_specificity,2)}') \n",
    "    print(f'Precision: {round(conf_precision,2)}')\n",
    "    print(f'f_1 Score: {round(conf_f1,2)}')"
   ]
  },
  {
   "cell_type": "markdown",
   "metadata": {},
   "source": [
    "Training the model"
   ]
  },
  {
   "cell_type": "markdown",
   "metadata": {},
   "source": [
    "Using RandomForestClassifier"
   ]
  },
  {
   "cell_type": "code",
   "execution_count": 121,
   "metadata": {},
   "outputs": [],
   "source": [
    "from sklearn.ensemble import RandomForestClassifier\n",
    "\n",
    "model = RandomForestClassifier(n_estimators = 10, \n",
    "                               min_samples_split = 10, min_samples_leaf = 5)\n",
    "model = model.fit(X_train, Y_train)\n",
    "prediction = model.predict(X_test)"
   ]
  },
  {
   "cell_type": "code",
   "execution_count": 122,
   "metadata": {},
   "outputs": [
    {
     "name": "stdout",
     "output_type": "stream",
     "text": [
      "True Positives: 0\n",
      "True Negatives: 9764\n",
      "False Positives: 0\n",
      "False Negatives: 162\n",
      "--------------------------------------------------\n",
      "Accuracy: 0.9836792263\n",
      "Mis-Classification: 0.02\n",
      "Sensitivity: 0.0\n",
      "Specificity: 1.0\n",
      "Precision: 1.0\n",
      "f_1 Score: 0.0\n"
     ]
    }
   ],
   "source": [
    "from sklearn.metrics import confusion_matrix\n",
    "\n",
    "cm = confusion_matrix(Y_test, prediction)\n",
    "cm_df = pd.DataFrame(cm, \n",
    "            columns = ['Predicted Success Negative', 'Predicted Success Positive'],\n",
    "            index = ['Actual Success Negative', 'Actual Success Positive'])\n",
    "\n",
    "# cm_df\n",
    "\n",
    "confusion_metrics(cm)"
   ]
  },
  {
   "cell_type": "markdown",
   "metadata": {},
   "source": [
    "Using LogisticRegression and predict "
   ]
  },
  {
   "cell_type": "code",
   "execution_count": 123,
   "metadata": {},
   "outputs": [
    {
     "name": "stdout",
     "output_type": "stream",
     "text": [
      "True Positives: 0\n",
      "True Negatives: 9764\n",
      "False Positives: 0\n",
      "False Negatives: 162\n",
      "--------------------------------------------------\n",
      "Accuracy: 0.9836792263\n",
      "Mis-Classification: 0.02\n",
      "Sensitivity: 0.0\n",
      "Specificity: 1.0\n",
      "Precision: 1.0\n",
      "f_1 Score: 0.0\n"
     ]
    }
   ],
   "source": [
    "from sklearn.linear_model import LogisticRegression\n",
    "\n",
    "model3 = LogisticRegression()\n",
    "model3 = model3.fit(X_train, Y_train)\n",
    "prediction3 = model3.predict(X_test)\n",
    "prediction3_1 = model3.predict_proba(X_test)\n",
    "\n",
    "cm = confusion_matrix(Y_test, prediction3)\n",
    "confusion_metrics(cm)"
   ]
  },
  {
   "cell_type": "markdown",
   "metadata": {},
   "source": [
    "Using LogisticRegression and predict_proba "
   ]
  },
  {
   "cell_type": "code",
   "execution_count": 124,
   "metadata": {},
   "outputs": [
    {
     "name": "stdout",
     "output_type": "stream",
     "text": [
      "True Positives: 136\n",
      "True Negatives: 3463\n",
      "False Positives: 6301\n",
      "False Negatives: 26\n",
      "--------------------------------------------------\n",
      "Accuracy: 0.3625831151\n",
      "Mis-Classification: 0.64\n",
      "Sensitivity: 0.84\n",
      "Specificity: 0.35\n",
      "Precision: 0.35\n",
      "f_1 Score: 0.5\n"
     ]
    }
   ],
   "source": [
    "threshold = 0.01\n",
    "\n",
    "prediction3_2 = np.empty_like(prediction3)\n",
    "prediction3_3 = np.empty_like(prediction3)\n",
    "\n",
    "for i in range(len(prediction3)):\n",
    "    prediction3_3[i] = prediction3_1[i][1]\n",
    "    \n",
    "    if prediction3_1[i][1] > threshold:\n",
    "        prediction3_2[i] = 1\n",
    "    else:\n",
    "        prediction3_2[i] = 0\n",
    "        \n",
    "cm = confusion_matrix(Y_test, prediction3_2)\n",
    "confusion_metrics(cm)"
   ]
  },
  {
   "cell_type": "markdown",
   "metadata": {},
   "source": [
    "Plotting probability of offer_success = 1"
   ]
  },
  {
   "cell_type": "code",
   "execution_count": 125,
   "metadata": {},
   "outputs": [
    {
     "data": {
      "image/png": "[encoded data removed]",
      "text/plain": [
       "<matplotlib.figure.Figure at 0x7fa7b3192c88>"
      ]
     },
     "metadata": {
      "needs_background": "light"
     },
     "output_type": "display_data"
    }
   ],
   "source": [
    "plt.hist(prediction3_3, bins=100 );"
   ]
  },
  {
   "cell_type": "markdown",
   "metadata": {},
   "source": [
    "As we can probability is highly continuous in nature, this means that results are highly sensitive to any threshold we choose and susteble to error. This is therefore not a recommded algorithm"
   ]
  },
  {
   "cell_type": "markdown",
   "metadata": {},
   "source": [
    "#### Choosing classifier - campaign_completed"
   ]
  },
  {
   "cell_type": "markdown",
   "metadata": {},
   "source": [
    "Preparing dataset"
   ]
  },
  {
   "cell_type": "code",
   "execution_count": 126,
   "metadata": {},
   "outputs": [],
   "source": [
    "trn_within_offer_period_and_completed_2_alt = trn_within_offer_period_and_completed_1[['person', \n",
    "                                                                                   'id_recd', \n",
    "                                                                                   'time_start', \n",
    "                                                                                   'campaign_completed']]\n",
    "\n",
    "transaction_offer_relation_alt = pd.merge(transaction_transcript_merged_complete_grouped_1,\n",
    "                                      trn_within_offer_period_and_completed_2_alt, \n",
    "                                      on = ['person', 'time_start'], \n",
    "                                      how='left')\n",
    "\n",
    "\n",
    "transaction_offer_person_relation_alt = pd.merge(transaction_offer_relation_alt, \n",
    "                                             profile, \n",
    "                                             left_on='person', \n",
    "                                             right_on='id', \n",
    "                                             how='left')\n",
    "\n",
    "transaction_offer_person_relation_1_alt = transaction_offer_person_relation_alt.query('age != 118').reset_index()\n",
    "\n",
    "\n",
    "transaction_offer_person_relation_2_alt = transaction_offer_person_relation_1_alt.drop(columns=['person', \n",
    "                                                                                                'id_recd_x', \n",
    "                                                                                                'time_start',\n",
    "                                                                                                'avg_transaction_amount',\n",
    "                                                                                                'id_x',\n",
    "                                                                                                'campaign_completed_y',\n",
    "                                                                                                'id_recd_y',\n",
    "                                                                                                'offer_viewed',\n",
    "                                                                                                'became_member_on', \n",
    "                                                                                                'id_y', \n",
    "                                                                                                'channels',\n",
    "                                                                                                'index'])\n",
    "\n",
    "transaction_offer_person_relation_3_alt = pd.get_dummies(transaction_offer_person_relation_2_alt,\n",
    "                                                     columns=['offer_type', 'gender'])\n",
    "\n",
    "\n",
    "transaction_offer_person_relation_3_alt.campaign_completed_x.fillna(0, inplace=True)"
   ]
  },
  {
   "cell_type": "code",
   "execution_count": 127,
   "metadata": {},
   "outputs": [
    {
     "data": {
      "text/plain": [
       "0.0    48000\n",
       "1.0    1629 \n",
       "Name: campaign_completed_x, dtype: int64"
      ]
     },
     "execution_count": 127,
     "metadata": {},
     "output_type": "execute_result"
    }
   ],
   "source": [
    "transaction_offer_person_relation_3_alt.campaign_completed_x.value_counts(dropna=False)"
   ]
  },
  {
   "cell_type": "code",
   "execution_count": 128,
   "metadata": {},
   "outputs": [
    {
     "name": "stdout",
     "output_type": "stream",
     "text": [
      "True Positives: 0\n",
      "True Negatives: 9595\n",
      "False Positives: 1\n",
      "False Negatives: 330\n",
      "--------------------------------------------------\n",
      "Accuracy: 0.9666532339\n",
      "Mis-Classification: 0.03\n",
      "Sensitivity: 0.0\n",
      "Specificity: 1.0\n",
      "Precision: 1.0\n",
      "f_1 Score: 0.0\n"
     ]
    }
   ],
   "source": [
    "X_alt = transaction_offer_person_relation_3_alt.drop(columns=['campaign_completed_x'])\n",
    "Y_alt = transaction_offer_person_relation_3_alt['campaign_completed_x']\n",
    "\n",
    "X_train_alt, X_test_alt, Y_train_alt, Y_test_alt = train_test_split(X_alt, Y_alt, random_state=42, test_size=0.2)\n",
    "\n",
    "from sklearn.ensemble import RandomForestClassifier\n",
    "\n",
    "# model_alt = RandomForestClassifier(n_estimators = 10, \n",
    "#                                min_samples_split = 10, min_samples_leaf = 5)\n",
    "model_alt = LogisticRegression()\n",
    "model_alt = model.fit(X_train_alt, Y_train_alt)\n",
    "prediction_alt = model.predict(X_test_alt)\n",
    "\n",
    "cm_alt = confusion_matrix(Y_test_alt, prediction_alt)\n",
    "confusion_metrics(cm_alt)"
   ]
  },
  {
   "cell_type": "markdown",
   "metadata": {},
   "source": [
    "Using LogisticRegression and predict "
   ]
  },
  {
   "cell_type": "code",
   "execution_count": 129,
   "metadata": {},
   "outputs": [
    {
     "name": "stdout",
     "output_type": "stream",
     "text": [
      "True Positives: 0\n",
      "True Negatives: 9596\n",
      "False Positives: 0\n",
      "False Negatives: 330\n",
      "--------------------------------------------------\n",
      "Accuracy: 0.9667539794\n",
      "Mis-Classification: 0.03\n",
      "Sensitivity: 0.0\n",
      "Specificity: 1.0\n",
      "Precision: 1.0\n",
      "f_1 Score: 0.0\n"
     ]
    }
   ],
   "source": [
    "model5 = LogisticRegression()\n",
    "model5 = model5.fit(X_train_alt, Y_train_alt)\n",
    "prediction5 = model5.predict(X_test_alt)\n",
    "prediction5_1 = model5.predict_proba(X_test_alt)\n",
    "\n",
    "cm = confusion_matrix(Y_test_alt, prediction5)\n",
    "confusion_metrics(cm)"
   ]
  },
  {
   "cell_type": "markdown",
   "metadata": {},
   "source": [
    "Using LogisticRegression and predict_proba"
   ]
  },
  {
   "cell_type": "code",
   "execution_count": 130,
   "metadata": {},
   "outputs": [
    {
     "name": "stdout",
     "output_type": "stream",
     "text": [
      "True Positives: 136\n",
      "True Negatives: 3463\n",
      "False Positives: 6301\n",
      "False Negatives: 26\n",
      "--------------------------------------------------\n",
      "Accuracy: 0.3625831151\n",
      "Mis-Classification: 0.64\n",
      "Sensitivity: 0.84\n",
      "Specificity: 0.35\n",
      "Precision: 0.35\n",
      "f_1 Score: 0.5\n"
     ]
    }
   ],
   "source": [
    "threshold = 0.01\n",
    "\n",
    "prediction5_2 = np.empty_like(prediction5)\n",
    "prediction5_3 = np.empty_like(prediction5)\n",
    "\n",
    "for i in range(len(prediction5)):\n",
    "    prediction5_3[i] = prediction5_1[i][1]\n",
    "    \n",
    "    if prediction5_1[i][1] > threshold:\n",
    "        prediction5_2[i] = 1\n",
    "    else:\n",
    "        prediction5_2[i] = 0\n",
    "        \n",
    "cm = confusion_matrix(Y_test, prediction3_2)\n",
    "confusion_metrics(cm)"
   ]
  },
  {
   "cell_type": "code",
   "execution_count": 131,
   "metadata": {},
   "outputs": [
    {
     "data": {
      "image/png": "[encoded data removed]",
      "text/plain": [
       "<matplotlib.figure.Figure at 0x7fa7b3110898>"
      ]
     },
     "metadata": {
      "needs_background": "light"
     },
     "output_type": "display_data"
    }
   ],
   "source": [
    "plt.hist(prediction5_3, bins=100 );"
   ]
  },
  {
   "cell_type": "markdown",
   "metadata": {},
   "source": [
    "As we can probability is highly continuous in nature, this means that results are highly sensitive to any threshold we choose and susteble to error. This is therefore not a recommded algorithm"
   ]
  },
  {
   "cell_type": "markdown",
   "metadata": {},
   "source": [
    "#### Outcome on Model Development and Recommendation"
   ]
  },
  {
   "cell_type": "markdown",
   "metadata": {},
   "source": [
    "So far we have got unsatisfactory results on using ML to do any prediction.\n",
    "\n",
    "This is because our data is highly unbalanced. Proportion of offer being successful or leading to increment in revenue is only 1.5% and offer completed within offer validity period is only 3%\n",
    "\n",
    "We could look at gathering mode insights on user such as what kind of products customer like at Starbucks and offer them product based offers rather than generic offers like BOGO or discount. Since Starbucks mostly run on brick and mortar model which means most of sales happen in Starbucks store, there are chances that online offer does not really motivate customer to visit Starbucks store.\n",
    "\n",
    "Another recommendation would be that Starbucks can take survey of customers who visit store to see if customer is really influenced by any offers or not. This would help Stabucks in 2 ways. One, if survey results say that customer does not really get annoyed with online offers, Starbucks can continue sending offers through online mode which would not impact customer experience. Second, if customer is not influenced by any offers, Starbucks can reduce amount of offer it sends online and save money as well resources on planning.\n",
    "\n",
    "In next section, lets look at some meaningful information on the data and explore if we can use any insight to improve the model."
   ]
  },
  {
   "cell_type": "markdown",
   "metadata": {},
   "source": [
    "### Some useful insights"
   ]
  },
  {
   "cell_type": "code",
   "execution_count": 132,
   "metadata": {},
   "outputs": [
    {
     "name": "stdout",
     "output_type": "stream",
     "text": [
      "<class 'pandas.core.frame.DataFrame'>\n",
      "RangeIndex: 49629 entries, 0 to 49628\n",
      "Data columns (total 28 columns):\n",
      "index                     49629 non-null int64\n",
      "person                    49629 non-null object\n",
      "id_recd_x                 49629 non-null object\n",
      "duration                  49629 non-null float64\n",
      "time_start                49629 non-null float64\n",
      "campaign_completed        49629 non-null float64\n",
      "offer_viewed              49629 non-null float64\n",
      "difficulty                49629 non-null float64\n",
      "reward                    49629 non-null float64\n",
      "offer_type                49629 non-null object\n",
      "avg_transaction_amount    49629 non-null float64\n",
      "id_x                      49629 non-null object\n",
      "channels                  49629 non-null object\n",
      "email                     49629 non-null int64\n",
      "mobile                    49629 non-null int64\n",
      "social                    49629 non-null int64\n",
      "web                       49629 non-null int64\n",
      "avg_tran_amount           49629 non-null float64\n",
      "tran_count                49629 non-null int64\n",
      "id_recd_y                 1486 non-null object\n",
      "offer_success             49629 non-null float64\n",
      "age                       49629 non-null int64\n",
      "became_member_on          49629 non-null datetime64[ns]\n",
      "gender                    49629 non-null object\n",
      "id_y                      49629 non-null object\n",
      "income                    49629 non-null float64\n",
      "became_member_on_year     49629 non-null int64\n",
      "cust_assoc_days           49629 non-null int64\n",
      "dtypes: datetime64[ns](1), float64(10), int64(9), object(8)\n",
      "memory usage: 10.6+ MB\n"
     ]
    }
   ],
   "source": [
    "transaction_offer_person_relation_1.offer_success.fillna(0.0, inplace=True)\n",
    "transaction_offer_person_relation_1.info()"
   ]
  },
  {
   "cell_type": "markdown",
   "metadata": {},
   "source": [
    "Q1. What type of offers have higher success chances?"
   ]
  },
  {
   "cell_type": "code",
   "execution_count": 143,
   "metadata": {},
   "outputs": [
    {
     "data": {
      "image/png": "[encoded data removed]",
      "text/plain": [
       "<matplotlib.figure.Figure at 0x7fa7b3016828>"
      ]
     },
     "metadata": {
      "needs_background": "light"
     },
     "output_type": "display_data"
    }
   ],
   "source": [
    "offer_type_success = transaction_offer_person_relation_1.groupby(['offer_type','offer_success'])['offer_type'].count() * 100 / transaction_offer_person_relation_1.groupby(['offer_type'])['offer_type'].count()\n",
    "plt.figure(figsize=(10,5));\n",
    "plt.title('Does offer type has higher chance of success')\n",
    "plt.ylabel('Frequency')\n",
    "offer_type_success.plot.bar(rot=0);"
   ]
  },
  {
   "cell_type": "code",
   "execution_count": 144,
   "metadata": {},
   "outputs": [
    {
     "data": {
      "image/png": "[encoded data removed]",
      "text/plain": [
       "<matplotlib.figure.Figure at 0x7fa7b33ff6a0>"
      ]
     },
     "metadata": {
      "needs_background": "light"
     },
     "output_type": "display_data"
    }
   ],
   "source": [
    "offer_type_campaign_completed = transaction_offer_person_relation_1.groupby(['offer_type','campaign_completed'])['offer_type'].count() * 100 / transaction_offer_person_relation_1.groupby(['offer_type'])['offer_type'].count()\n",
    "\n",
    "offer_type_campaign_completed\n",
    "\n",
    "plt.figure(figsize=(10,5));\n",
    "plt.title('Does offer type has higher chance of success')\n",
    "plt.ylabel('Frequency')\n",
    "offer_type_campaign_completed.plot.bar(rot=0);"
   ]
  },
  {
   "cell_type": "markdown",
   "metadata": {},
   "source": [
    "Offer Type does not seem to have high impact on Offer Success and Offer Completion"
   ]
  },
  {
   "cell_type": "markdown",
   "metadata": {},
   "source": [
    "Q2. Does age has any impact on success chances?"
   ]
  },
  {
   "cell_type": "code",
   "execution_count": 135,
   "metadata": {},
   "outputs": [
    {
     "name": "stdout",
     "output_type": "stream",
     "text": [
      "for offer Success\n",
      "offer_success\n",
      "0.0    53.740511\n",
      "1.0    55.661376\n",
      "Name: age, dtype: float64\n",
      "\t\n",
      "for campaign completed\n",
      "campaign_completed\n",
      "0.0    53.687208\n",
      "1.0    56.202578\n",
      "Name: age, dtype: float64\n"
     ]
    }
   ],
   "source": [
    "print('for offer Success')\n",
    "age_success = transaction_offer_person_relation_1.groupby(['offer_success'])['age'].mean() \n",
    "print(age_success)\n",
    "\n",
    "print('\\t')\n",
    "print('for campaign completed')\n",
    "age_campaign_completed = transaction_offer_person_relation_1.groupby(['campaign_completed'])['age'].mean() \n",
    "print(age_campaign_completed)"
   ]
  },
  {
   "cell_type": "markdown",
   "metadata": {},
   "source": [
    "Age also comes out to be insignificant different"
   ]
  },
  {
   "cell_type": "markdown",
   "metadata": {},
   "source": [
    "Q3. Does income has any impact on success chances?"
   ]
  },
  {
   "cell_type": "code",
   "execution_count": 136,
   "metadata": {},
   "outputs": [
    {
     "name": "stdout",
     "output_type": "stream",
     "text": [
      "for offer Success\n",
      "offer_success\n",
      "0.0    64109.385550\n",
      "1.0    68525.132275\n",
      "Name: income, dtype: float64\n",
      "\t\n",
      "for campaign completed\n",
      "campaign_completed\n",
      "0.0    63933.895833\n",
      "1.0    71329.650092\n",
      "Name: income, dtype: float64\n"
     ]
    }
   ],
   "source": [
    "print('for offer Success')\n",
    "income_success = transaction_offer_person_relation_1.groupby(['offer_success'])['income'].mean() \n",
    "print(income_success)\n",
    "\n",
    "print('\\t')\n",
    "print('for campaign completed')\n",
    "income_campaign_completed = transaction_offer_person_relation_1.groupby(['campaign_completed'])['income'].mean() \n",
    "print(income_campaign_completed)"
   ]
  },
  {
   "cell_type": "code",
   "execution_count": 146,
   "metadata": {},
   "outputs": [
    {
     "data": {
      "image/png": "[encoded data removed]",
      "text/plain": [
       "<matplotlib.figure.Figure at 0x7fa7b3b58f28>"
      ]
     },
     "metadata": {
      "needs_background": "light"
     },
     "output_type": "display_data"
    }
   ],
   "source": [
    "plt.hist(transaction_offer_person_relation_1.query('offer_success == 0').income, label='Not Success') \n",
    "plt.hist(transaction_offer_person_relation_1.query('offer_success == 1').income, label='Success');\n",
    "plt.title('Distribution of Income for classifier - offer_success');\n",
    "plt.xlabel('Income');\n",
    "plt.ylabel('Frequency');\n",
    "plt.legend(loc='best', bbox_to_anchor=(1.05, 1));"
   ]
  },
  {
   "cell_type": "code",
   "execution_count": 147,
   "metadata": {},
   "outputs": [
    {
     "data": {
      "image/png": "[encoded data removed]",
      "text/plain": [
       "<matplotlib.figure.Figure at 0x7fa7ad87cf98>"
      ]
     },
     "metadata": {
      "needs_background": "light"
     },
     "output_type": "display_data"
    }
   ],
   "source": [
    "plt.hist(transaction_offer_person_relation_1.query('campaign_completed == 0').income, label='Completed');\n",
    "plt.hist(transaction_offer_person_relation_1.query('campaign_completed == 1').income, label='Not Completed');\n",
    "plt.title('Distribution of Income for classifier - campaign_completed');\n",
    "plt.xlabel('Income');\n",
    "plt.ylabel('Frequency');\n",
    "plt.legend(loc='best', bbox_to_anchor=(1.05, 1));"
   ]
  },
  {
   "cell_type": "markdown",
   "metadata": {},
   "source": [
    "Yes income does seems to have an impact. However the impact does not seem to be very different."
   ]
  },
  {
   "cell_type": "markdown",
   "metadata": {},
   "source": [
    "### Final Conclusion"
   ]
  },
  {
   "cell_type": "markdown",
   "metadata": {},
   "source": [
    "So far we have not seen any significant difference in any feature which could have any high predicting power.\n",
    "\n",
    "This is because our data is highly unbalanced. Proportion of offer being successful or leading to increment in revenue is only 1.5% and offer completed within offer validity period is only 3%\n",
    "\n",
    "We could look at gathering mode insights on user such as what kind of products customer like at Starbucks and offer them product based offers rather than generic offers like BOGO or discount. Since Starbucks mostly run on brick and mortar model which means most of sales happen in Starbucks store, there are chances that online offer does not really motivate customer to visit Starbucks store.\n",
    "\n",
    "Another recommendation would be that Starbucks can take survey of customers who visit store to see if customer is really influenced by any offers or not. This would help Stabucks in 2 ways. One, if survey results say that customer does not really get annoyed with online offers, Starbucks can continue sending offers through online mode which would not impact customer experience. Second, if customer is not influenced by any offers, Starbucks can reduce amount of offer it sends online and save money as well resources on planning."
   ]
  }
 ],
 "metadata": {
  "kernelspec": {
   "display_name": "Python 3",
   "language": "python",
   "name": "python3"
  },
  "language_info": {
   "codemirror_mode": {
    "name": "ipython",
    "version": 3
   },
   "file_extension": ".py",
   "mimetype": "text/x-python",
   "name": "python",
   "nbconvert_exporter": "python",
   "pygments_lexer": "ipython3",
   "version": "3.6.3"
  }
 },
 "nbformat": 4,
 "nbformat_minor": 2
}
